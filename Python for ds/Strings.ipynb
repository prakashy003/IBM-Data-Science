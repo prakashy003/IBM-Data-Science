{
  "cells": [
    {
      "cell_type": "markdown",
      "id": "83cc11f9-c041-40bb-bc22-8d26ca9e1700",
      "metadata": {},
      "outputs": [],
      "source": [
        "<center>\n",
        "    <img src=\"https://cf-courses-data.s3.us.cloud-object-storage.appdomain.cloud/IBMDeveloperSkillsNetwork-PY0101EN-SkillsNetwork/IDSNlogo.png\" width=\"300\" alt=\"cognitiveclass.ai logo\">\n",
        "</center>\n",
        "\n",
        "# String Operations\n",
        "\n",
        "Estimated time needed: **15** minutes.\n",
        "\n",
        "## Objectives\n",
        "\n",
        "After completing this lab you will be able to:\n",
        "\n",
        "*   Work with Strings\n",
        "*   Perform operations on String\n",
        "*   Manipulate Strings using indexing and escape sequences\n"
      ]
    },
    {
      "cell_type": "markdown",
      "id": "c7a236cf-e66a-4630-85c5-4405ce103078",
      "metadata": {},
      "outputs": [],
      "source": [
        "<h2>Table of Contents</h2>\n",
        "<div class=\"alert alert-block alert-info\" style=\"margin-top: 20px\">\n",
        "    <ul>\n",
        "        <li>\n",
        "            <a href=\"https://#strings\">What are Strings?</a>\n",
        "        </li>\n",
        "        <li>\n",
        "            <a href=\"https://#index\">Indexing</a>\n",
        "            <ul>\n",
        "                <li><a href=\"https://neg/?utm_medium=Exinfluencer&utm_source=Exinfluencer&utm_content=000026UJ&utm_term=10006555&utm_id=NA-SkillsNetwork-Channel-SkillsNetworkCoursesIBMDeveloperSkillsNetworkPY0101ENSkillsNetwork19487395-2021-01-01\">Negative Indexing</a></li>\n",
        "                <li><a href=\"https://slice/?utm_medium=Exinfluencer&utm_source=Exinfluencer&utm_content=000026UJ&utm_term=10006555&utm_id=NA-SkillsNetwork-Channel-SkillsNetworkCoursesIBMDeveloperSkillsNetworkPY0101ENSkillsNetwork19487395-2021-01-01\">Slicing</a></li>\n",
        "                <li><a href=\"https://stride/?utm_medium=Exinfluencer&utm_source=Exinfluencer&utm_content=000026UJ&utm_term=10006555&utm_id=NA-SkillsNetwork-Channel-SkillsNetworkCoursesIBMDeveloperSkillsNetworkPY0101ENSkillsNetwork19487395-2021-01-01\">Stride</a></li>\n",
        "                <li><a href=\"https://concat/?utm_medium=Exinfluencer&utm_source=Exinfluencer&utm_content=000026UJ&utm_term=10006555&utm_id=NA-SkillsNetwork-Channel-SkillsNetworkCoursesIBMDeveloperSkillsNetworkPY0101ENSkillsNetwork19487395-2021-01-01\">Concatenate Strings</a></li>\n",
        "            </ul>\n",
        "        </li>\n",
        "        <li>\n",
        "            <a href=\"https://#escape\">Escape Sequences</a>\n",
        "        </li>\n",
        "        <li>\n",
        "            <a href=\"https://#operations\">String Operations</a>\n",
        "        </li>\n",
        "        <li>\n",
        "            <a href=\"https://#quiz\">Quiz on Strings</a>\n",
        "        </li>\n",
        "    </ul>\n",
        "\n",
        "</div>\n",
        "\n",
        "<hr>\n"
      ]
    },
    {
      "cell_type": "markdown",
      "id": "6dff1d8b-f7c8-43a4-9efb-dacec6ad0a24",
      "metadata": {},
      "outputs": [],
      "source": [
        "<h2 id=\"strings\">What are Strings?</h2>\n"
      ]
    },
    {
      "cell_type": "markdown",
      "id": "995da663-2955-4e0b-80c7-7fc4d425b879",
      "metadata": {},
      "outputs": [],
      "source": [
        "The following example shows a string contained within 2 quotation marks:\n"
      ]
    },
    {
      "cell_type": "code",
      "id": "63836914-820f-4cad-b122-b7e261bdbdec",
      "metadata": {},
      "outputs": [],
      "source": [
        "# Use quotation marks for defining string\n\n\"Michael Jackson\""
      ]
    },
    {
      "cell_type": "markdown",
      "id": "67d1b003-90da-4de9-9a75-a8b9ce0a8e0b",
      "metadata": {},
      "outputs": [],
      "source": [
        "We can also use single quotation marks:\n"
      ]
    },
    {
      "cell_type": "code",
      "id": "866ad846-f77c-4a92-bbad-705c6c8abee2",
      "metadata": {},
      "outputs": [],
      "source": [
        "# Use single quotation marks for defining string\n\n'Michael Jackson'"
      ]
    },
    {
      "cell_type": "markdown",
      "id": "9f4e1e5c-808f-449f-818c-834940033e2c",
      "metadata": {},
      "outputs": [],
      "source": [
        "A string can be a combination of spaces and digits:\n"
      ]
    },
    {
      "cell_type": "code",
      "id": "a976aaf8-795c-4146-ac4d-54283d79d045",
      "metadata": {},
      "outputs": [],
      "source": [
        "# Digitals and spaces in string\n\n'1 2 3 4 5 6 '"
      ]
    },
    {
      "cell_type": "markdown",
      "id": "8c58eae9-0714-4142-a139-a0b4000f74d9",
      "metadata": {},
      "outputs": [],
      "source": [
        "A string can also be a combination of special characters :\n"
      ]
    },
    {
      "cell_type": "code",
      "id": "ffda6312-0dc9-4b94-9d07-48bb5573dd18",
      "metadata": {},
      "outputs": [],
      "source": [
        "# Special characters in string\n\n'@#2_#]&*^%$'"
      ]
    },
    {
      "cell_type": "markdown",
      "id": "93f83810-8640-410f-ae7d-a50be755648e",
      "metadata": {},
      "outputs": [],
      "source": [
        "We can print our string using the print statement:\n"
      ]
    },
    {
      "cell_type": "code",
      "id": "fc26c64c-68a2-4f6f-ab1c-9143c55142b9",
      "metadata": {},
      "outputs": [],
      "source": [
        "# Print the string\n\nprint(\"hello!\")"
      ]
    },
    {
      "cell_type": "markdown",
      "id": "0825a939-97d3-41d5-aca2-c70353bfcc6b",
      "metadata": {},
      "outputs": [],
      "source": [
        "We can bind or assign a string to another variable:\n"
      ]
    },
    {
      "cell_type": "code",
      "id": "9eab4c41-210f-4828-82ea-7f7cd439f8f6",
      "metadata": {},
      "outputs": [],
      "source": [
        "# Assign string to variable\n\nname = \"Michael Jackson\"\nname"
      ]
    },
    {
      "cell_type": "markdown",
      "id": "d6e62e7b-abe4-45df-80e4-6cd25f3ba492",
      "metadata": {},
      "outputs": [],
      "source": [
        "<hr>\n"
      ]
    },
    {
      "cell_type": "markdown",
      "id": "56f52d71-2c90-4346-bea6-4b44d1cc4fd4",
      "metadata": {},
      "outputs": [],
      "source": [
        "<h2 id=\"index\">Indexing</h2>\n"
      ]
    },
    {
      "cell_type": "markdown",
      "id": "f2b106d0-509a-4315-bf19-6d598b9b2c54",
      "metadata": {},
      "outputs": [],
      "source": [
        "It is helpful to think of a string as an ordered sequence. Each element in the sequence can be accessed using an index represented by the array of numbers:\n"
      ]
    },
    {
      "cell_type": "markdown",
      "id": "3fb71143-7e6d-4a63-afb6-619111f6c87d",
      "metadata": {},
      "outputs": [],
      "source": [
        "<img src=\"https://cf-courses-data.s3.us.cloud-object-storage.appdomain.cloud/IBMDeveloperSkillsNetwork-PY0101EN-SkillsNetwork/labs/Module%201/images/StringsIndex.png\" width=\"600\" align=\"center\">\n"
      ]
    },
    {
      "cell_type": "markdown",
      "id": "896f6488-dc7f-429a-a913-7439d5062043",
      "metadata": {},
      "outputs": [],
      "source": [
        "The first index can be accessed as follows:\n"
      ]
    },
    {
      "cell_type": "markdown",
      "id": "f7e39093-dd40-46bb-8c30-aafe578a8d95",
      "metadata": {},
      "outputs": [],
      "source": [
        "<hr/>\n",
        "<div class=\"alert alert-success alertsuccess\" style=\"margin-top: 20px\">\n",
        "[Tip]: Because indexing starts at 0, it means the first index is on the index 0.\n",
        "</div>\n",
        "<hr/>\n"
      ]
    },
    {
      "cell_type": "code",
      "id": "221d77e8-806e-47a3-ba42-392c161a981a",
      "metadata": {},
      "outputs": [],
      "source": [
        "# Print the first element in the string\n\nprint(name[0])"
      ]
    },
    {
      "cell_type": "markdown",
      "id": "7826a406-3ee6-45e4-ad3e-7bbf1e11109a",
      "metadata": {},
      "outputs": [],
      "source": [
        "We can access index 6:\n"
      ]
    },
    {
      "cell_type": "code",
      "id": "effe246a-d82d-4764-a1f1-f792d6bd4ccd",
      "metadata": {},
      "outputs": [],
      "source": [
        "# Print the element on index 6 in the string\n\nprint(name[6])"
      ]
    },
    {
      "cell_type": "markdown",
      "id": "c0e33aee-4b82-49a3-868a-adcba7fb3d19",
      "metadata": {},
      "outputs": [],
      "source": [
        "Moreover, we can access the 13th index:\n"
      ]
    },
    {
      "cell_type": "code",
      "id": "d91ff71b-07e2-40cb-a6ae-47c59bfc1201",
      "metadata": {},
      "outputs": [],
      "source": [
        "# Print the element on the 13th index in the string\n\nprint(name[13])"
      ]
    },
    {
      "cell_type": "markdown",
      "id": "d4f4891f-d498-4ced-8294-960b6245b5ce",
      "metadata": {},
      "outputs": [],
      "source": [
        "<h3 id=\"neg\">Negative Indexing</h3>\n"
      ]
    },
    {
      "cell_type": "markdown",
      "id": "c67cf6b4-ee35-460a-a0d4-bd50cd30dc5d",
      "metadata": {},
      "outputs": [],
      "source": [
        "We can also use negative indexing with strings:\n"
      ]
    },
    {
      "cell_type": "markdown",
      "id": "830c3d01-3604-4992-be0e-8b5bf0465f57",
      "metadata": {},
      "outputs": [],
      "source": [
        "<img src=\"https://cf-courses-data.s3.us.cloud-object-storage.appdomain.cloud/IBMDeveloperSkillsNetwork-PY0101EN-SkillsNetwork/labs/Module%201/images/StringsNeg.png\" width=\"600\" align=\"center\">\n"
      ]
    },
    {
      "cell_type": "markdown",
      "id": "5ee31e95-84d5-4060-a108-10056f5fe20a",
      "metadata": {},
      "outputs": [],
      "source": [
        "Negative index can help us to count the element from the end of the string.\n"
      ]
    },
    {
      "cell_type": "markdown",
      "id": "801ee7c9-3329-42c4-9bd4-68d961fad9ca",
      "metadata": {},
      "outputs": [],
      "source": [
        "The last element is given by the index -1:\n"
      ]
    },
    {
      "cell_type": "code",
      "id": "904f6b8c-42c9-4c73-b434-b355dddf672e",
      "metadata": {},
      "outputs": [],
      "source": [
        "# Print the last element in the string\n\nprint(name[-1])"
      ]
    },
    {
      "cell_type": "markdown",
      "id": "7199e2f7-8e5a-40f3-8a18-f8b8b9c488c6",
      "metadata": {},
      "outputs": [],
      "source": [
        "The first element can be obtained by  index -15:\n"
      ]
    },
    {
      "cell_type": "code",
      "id": "d98d247f-bf07-46fa-9ba9-d774544a4e9c",
      "metadata": {},
      "outputs": [],
      "source": [
        "# Print the first element in the string\n\nprint(name[-15])"
      ]
    },
    {
      "cell_type": "markdown",
      "id": "d44c1bf2-7c0b-4f52-ba6a-ee7a844ef849",
      "metadata": {},
      "outputs": [],
      "source": [
        "We can find the number of characters in a string by using <code>len</code>, short for length:\n"
      ]
    },
    {
      "cell_type": "code",
      "id": "2586e2c4-0ac3-4f2a-94c3-9ff0348ceddb",
      "metadata": {},
      "outputs": [],
      "source": [
        "# Find the length of string\n\nlen(\"Michael Jackson\")"
      ]
    },
    {
      "cell_type": "markdown",
      "id": "7bfb0b7d-5d38-46f5-aa67-ca7cfb4253e4",
      "metadata": {},
      "outputs": [],
      "source": [
        "<h3 id=\"slice\">Slicing</h3>\n"
      ]
    },
    {
      "cell_type": "markdown",
      "id": "87a12d67-fc19-4690-974c-7ae1b3c55337",
      "metadata": {},
      "outputs": [],
      "source": [
        "We can obtain multiple characters from a string using slicing, we can obtain the 0 to 4th and 8th to the 12th element:\n"
      ]
    },
    {
      "cell_type": "markdown",
      "id": "234b5c97-abfd-4b41-894e-d32fde9444d6",
      "metadata": {},
      "outputs": [],
      "source": [
        "<img src=\"https://cf-courses-data.s3.us.cloud-object-storage.appdomain.cloud/IBMDeveloperSkillsNetwork-PY0101EN-SkillsNetwork/labs/Module%201/images/StringsSlice.png\" width=\"600\" align=\"center\">\n"
      ]
    },
    {
      "cell_type": "markdown",
      "id": "65b20654-9f73-4854-99f0-783bc878cf2a",
      "metadata": {},
      "outputs": [],
      "source": [
        "<hr/>\n",
        "<div class=\"alert alert-success alertsuccess\" style=\"margin-top: 20px\">\n",
        "[Tip]: When taking the slice, the first number means the index (start at 0), and the second number means the length from the index to the last element you want (start at 1)\n",
        "</div>\n",
        "<hr/>\n"
      ]
    },
    {
      "cell_type": "code",
      "id": "db3b15e1-95c0-4b6d-97e0-b8e526959a34",
      "metadata": {},
      "outputs": [],
      "source": [
        "# Take the slice on variable name with only index 0 to index 3\n\nname[0:4]"
      ]
    },
    {
      "cell_type": "code",
      "id": "c3e662e3-57a3-4e18-9bd3-a5a5df341dda",
      "metadata": {},
      "outputs": [],
      "source": [
        "# Take the slice on variable name with only index 8 to index 11\n\nname[8:12]"
      ]
    },
    {
      "cell_type": "markdown",
      "id": "1f0b81cd-3175-4528-8669-999c8b7d415c",
      "metadata": {},
      "outputs": [],
      "source": [
        "<h3 id=\"stride\">Stride</h3>\n"
      ]
    },
    {
      "cell_type": "markdown",
      "id": "33cae00b-c655-4cde-9380-febee395fd55",
      "metadata": {},
      "outputs": [],
      "source": [
        "We can also  input a stride value as follows, with the '2' indicating that we are selecting every second variable:\n"
      ]
    },
    {
      "cell_type": "markdown",
      "id": "36cf3513-5bc7-4fa2-89c3-6fa1c8ef6844",
      "metadata": {},
      "outputs": [],
      "source": [
        "<img src=\"https://cf-courses-data.s3.us.cloud-object-storage.appdomain.cloud/IBMDeveloperSkillsNetwork-PY0101EN-SkillsNetwork/labs/Module%201/images/StringsStride.png\" width=\"600\" align=\"center\">\n"
      ]
    },
    {
      "cell_type": "code",
      "id": "6556767c-beda-4c0d-961f-bd53397ce628",
      "metadata": {},
      "outputs": [],
      "source": [
        "# Get every second element. The elments on index 1, 3, 5 ...\n\nname[::2]"
      ]
    },
    {
      "cell_type": "markdown",
      "id": "be2bac11-8f3f-4f5f-8eaf-a01f756d2ee3",
      "metadata": {},
      "outputs": [],
      "source": [
        "We can also incorporate slicing  with the stride. In this case, we select the first five elements and then use the stride:\n"
      ]
    },
    {
      "cell_type": "code",
      "id": "6ecbed30-7d61-4df8-9655-2213f7b0e7c8",
      "metadata": {},
      "outputs": [],
      "source": [
        "# Get every second element in the range from index 0 to index 4\n\nname[0:5:2]"
      ]
    },
    {
      "cell_type": "markdown",
      "id": "10843f72-e9dd-484b-b6d6-a2e80eace4bc",
      "metadata": {},
      "outputs": [],
      "source": [
        "<h3 id=\"concat\">Concatenate Strings</h3>\n"
      ]
    },
    {
      "cell_type": "markdown",
      "id": "ef5627e7-cdc1-41c9-87ce-e2482c9ba6b6",
      "metadata": {},
      "outputs": [],
      "source": [
        "We can concatenate or combine strings by using the addition symbols, and the result is a new string that is a combination of both:\n"
      ]
    },
    {
      "cell_type": "code",
      "id": "9d3d727a-5ca9-40b3-8814-2d735298d8c8",
      "metadata": {},
      "outputs": [],
      "source": [
        "# Concatenate two strings\n\nstatement = name + \"is the best\"\nstatement"
      ]
    },
    {
      "cell_type": "markdown",
      "id": "de05a12e-9356-4acf-9c1e-c17987f7e379",
      "metadata": {},
      "outputs": [],
      "source": [
        "To replicate values of a string we simply multiply the string by the number of times we would like to replicate it. In this case, the number is three. The result is a new string, and this new string consists of three copies of the original string:\n"
      ]
    },
    {
      "cell_type": "code",
      "id": "ffc34b01-8e9c-4c56-992c-39157e3530a9",
      "metadata": {},
      "outputs": [],
      "source": [
        "# Print the string for 3 times\n\n3 * \"Michael Jackson\""
      ]
    },
    {
      "cell_type": "markdown",
      "id": "6198b589-bd1f-4347-a660-e74532d99dd5",
      "metadata": {},
      "outputs": [],
      "source": [
        "You can create a new string by setting it to the original variable. Concatenated  with a new string, the result is a new string that changes from Michael Jackson to “Michael Jackson is the best\".\n"
      ]
    },
    {
      "cell_type": "code",
      "id": "026987d7-df6f-471d-b263-0139fccd4b7f",
      "metadata": {},
      "outputs": [],
      "source": [
        "# Concatenate strings\n\nname = \"Michael Jackson\"\nname = name + \" is the best\"\nname"
      ]
    },
    {
      "cell_type": "markdown",
      "id": "a6561fdf-64aa-4579-bc76-5b41b1e78ec4",
      "metadata": {},
      "outputs": [],
      "source": [
        "<hr>\n"
      ]
    },
    {
      "cell_type": "markdown",
      "id": "6a2efd29-c6b2-43dd-9cbd-0bb97c44bace",
      "metadata": {},
      "outputs": [],
      "source": [
        "<h2 id=\"escape\">Escape Sequences</h2>\n"
      ]
    },
    {
      "cell_type": "markdown",
      "id": "1222725a-2fcb-45f7-b745-2afe9e752a2e",
      "metadata": {},
      "outputs": [],
      "source": [
        "Back slashes represent the beginning  of escape sequences. Escape sequences represent strings that may be difficult to input. For example, back slash \"n\" represents a new line. The output is given by a new line after the back slash \"n\" is encountered:\n"
      ]
    },
    {
      "cell_type": "code",
      "id": "bc528a9f-3014-4466-b1c5-0499d93c3961",
      "metadata": {},
      "outputs": [],
      "source": [
        "# New line escape sequence\n\nprint(\" Michael Jackson \\n is the best\" )"
      ]
    },
    {
      "cell_type": "markdown",
      "id": "14af6388-5791-4828-a23e-85bab8879497",
      "metadata": {},
      "outputs": [],
      "source": [
        "Similarly, back slash  \"t\" represents a tab:\n"
      ]
    },
    {
      "cell_type": "code",
      "id": "5d512dfe-6c8e-4be4-93e0-e2f98a101101",
      "metadata": {},
      "outputs": [],
      "source": [
        "# Tab escape sequence\n\nprint(\" Michael Jackson \\t is the best\" )"
      ]
    },
    {
      "cell_type": "markdown",
      "id": "51c6e854-c9b7-4120-86b7-e57ce8352dd2",
      "metadata": {},
      "outputs": [],
      "source": [
        "If you want to place a back slash in your string, use a double back slash:\n"
      ]
    },
    {
      "cell_type": "code",
      "id": "9bdf31dc-bfd5-4f7f-88f9-1c17775c3d62",
      "metadata": {},
      "outputs": [],
      "source": [
        "# Include back slash in string\n\nprint(\" Michael Jackson \\\\ is the best\" )"
      ]
    },
    {
      "cell_type": "markdown",
      "id": "e110ec16-6383-4136-ae06-44231b6c8eab",
      "metadata": {},
      "outputs": [],
      "source": [
        "We can also place an \"r\" before the string to display the backslash:\n"
      ]
    },
    {
      "cell_type": "code",
      "id": "d6429549-d277-4846-8ccf-8f9ce47aa03a",
      "metadata": {},
      "outputs": [],
      "source": [
        "# r will tell python that string will be display as raw string\n\nprint(r\" Michael Jackson \\ is the best\" )"
      ]
    },
    {
      "cell_type": "markdown",
      "id": "859483b9-cfc2-45b0-af1c-fa097dc226a0",
      "metadata": {},
      "outputs": [],
      "source": [
        "<hr>\n"
      ]
    },
    {
      "cell_type": "markdown",
      "id": "ae532fc7-ff3d-414f-821f-1994f4877ba8",
      "metadata": {},
      "outputs": [],
      "source": [
        "<h2 id=\"operations\">String Operations</h2>\n"
      ]
    },
    {
      "cell_type": "markdown",
      "id": "2a6b9bc7-6867-4693-991b-710e8e1fadf5",
      "metadata": {},
      "outputs": [],
      "source": [
        "There are many string operation methods in Python that can be used to manipulate the data. We are going to use some basic string operations on the data.\n"
      ]
    },
    {
      "cell_type": "markdown",
      "id": "b423e30d-d420-4fb0-a641-b5931de9f9c6",
      "metadata": {},
      "outputs": [],
      "source": [
        "Let's try with the method <code>upper</code>; this method converts lower case characters to upper case characters:\n"
      ]
    },
    {
      "cell_type": "code",
      "id": "bafd350c-c3ea-4ba1-a04f-550f07aded86",
      "metadata": {},
      "outputs": [],
      "source": [
        "# Convert all the characters in string to upper case\n\na = \"Thriller is the sixth studio album\"\nprint(\"before upper:\", a)\nb = a.upper()\nprint(\"After upper:\", b)"
      ]
    },
    {
      "cell_type": "markdown",
      "id": "5d566142-9cd6-4aea-84f2-ce181120cdae",
      "metadata": {},
      "outputs": [],
      "source": [
        "The method <code>replace</code> replaces a segment of the string, i.e. a substring  with a new string. We input the part of the string we would like to change. The second argument is what we would like to exchange the segment with, and the result is a new string with the segment changed:\n"
      ]
    },
    {
      "cell_type": "code",
      "id": "415553f1-b50a-4f02-94fc-8a2f020c1804",
      "metadata": {},
      "outputs": [],
      "source": [
        "# Replace the old substring with the new target substring is the segment has been found in the string\n\na = \"Michael Jackson is the best\"\nb = a.replace('Michael', 'Janet')\nb"
      ]
    },
    {
      "cell_type": "markdown",
      "id": "1808ad90-9e90-4529-862e-702a0b07cb52",
      "metadata": {},
      "outputs": [],
      "source": [
        "The method <code>find</code> finds a sub-string. The argument is the substring you would like to find, and the output is the first index of the sequence. We can find the sub-string <code>jack</code> or <code>el<code>.\n"
      ]
    },
    {
      "cell_type": "markdown",
      "id": "34978420-5ff3-4fbd-b71e-c243d0df96ed",
      "metadata": {},
      "outputs": [],
      "source": [
        "<img src=\"https://cf-courses-data.s3.us.cloud-object-storage.appdomain.cloud/IBMDeveloperSkillsNetwork-PY0101EN-SkillsNetwork/labs/Module%201/images/StringsFind.png\" width=\"600\" align=\"center\">\n"
      ]
    },
    {
      "cell_type": "code",
      "id": "550d0b23-ac54-4258-a0c8-fdba04cfe0da",
      "metadata": {},
      "outputs": [],
      "source": [
        "# Find the substring in the string. Only the index of the first elment of substring in string will be the output\n\nname = \"Michael Jackson\"\nname.find('el')"
      ]
    },
    {
      "cell_type": "code",
      "id": "1f1aac71-9b02-45a3-a5a1-2da271353fd9",
      "metadata": {},
      "outputs": [],
      "source": [
        "# Find the substring in the string.\n\nname.find('Jack')"
      ]
    },
    {
      "cell_type": "markdown",
      "id": "0edbf49d-bb50-4938-859b-7a9e937986d2",
      "metadata": {},
      "outputs": [],
      "source": [
        "If the  sub-string is not in the string then the output is a negative one. For example, the string 'Jasdfasdasdf' is not a substring:\n"
      ]
    },
    {
      "cell_type": "code",
      "id": "a235eebf-0411-426d-b62e-22ce2e103341",
      "metadata": {},
      "outputs": [],
      "source": [
        "# If cannot find the substring in the string\n\nname.find('Jasdfasdasdf')"
      ]
    },
    {
      "cell_type": "markdown",
      "id": "08382dc5-bb87-46a4-a91b-53752bf8c953",
      "metadata": {},
      "outputs": [],
      "source": [
        "<hr>\n"
      ]
    },
    {
      "cell_type": "markdown",
      "id": "cae5be5f-291a-435e-9894-e90205594b2d",
      "metadata": {},
      "outputs": [],
      "source": [
        "<h2 id=\"quiz\">Quiz on Strings</h2>\n"
      ]
    },
    {
      "cell_type": "markdown",
      "id": "383c893c-a9e6-4b27-82d6-e813bee886c2",
      "metadata": {},
      "outputs": [],
      "source": [
        "What is the value of the variable <code>a</code> after the following code is executed?\n"
      ]
    },
    {
      "cell_type": "code",
      "id": "3903fc35-2259-496c-bf78-5a61dabb16c0",
      "metadata": {},
      "outputs": [],
      "source": [
        "# Write your code below and press Shift+Enter to execute \n\na = \"1\""
      ]
    },
    {
      "cell_type": "markdown",
      "id": "f6b40d40-df4b-4330-9410-f72a27050580",
      "metadata": {},
      "outputs": [],
      "source": [
        "<details><summary>Click here for the solution</summary>\n",
        "\n",
        "```python\n",
        "\"1\"\n",
        "\n",
        "```\n",
        "\n",
        "</details>\n"
      ]
    },
    {
      "cell_type": "markdown",
      "id": "01be5c59-8102-4f62-be9c-e9be0a29a6c5",
      "metadata": {},
      "outputs": [],
      "source": [
        "What is the value of the variable <code>b</code> after the following code is executed?\n"
      ]
    },
    {
      "cell_type": "code",
      "id": "433ea074-f680-405c-886e-1b6e124ba325",
      "metadata": {},
      "outputs": [],
      "source": [
        "# Write your code below and press Shift+Enter to execute\n\nb = \"2\""
      ]
    },
    {
      "cell_type": "markdown",
      "id": "1d4a8b2c-a193-42bb-8869-ddec49e7251b",
      "metadata": {},
      "outputs": [],
      "source": [
        "<details><summary>Click here for the solution</summary>\n",
        "\n",
        "```python\n",
        "\"2\"\n",
        "\n",
        "```\n",
        "\n",
        "</details>\n"
      ]
    },
    {
      "cell_type": "markdown",
      "id": "d6b611fd-2536-43fd-9c92-10830c0017ae",
      "metadata": {},
      "outputs": [],
      "source": [
        "What is the value of the variable <code>c</code> after the following code is executed?\n"
      ]
    },
    {
      "cell_type": "code",
      "id": "4feefb08-cc58-4d45-9fb8-75bbe06f3678",
      "metadata": {},
      "outputs": [],
      "source": [
        "# Write your code below and press Shift+Enter to execute \n\nc = a + b"
      ]
    },
    {
      "cell_type": "markdown",
      "id": "06500b5e-1748-40e1-881e-3c702b3ae5ae",
      "metadata": {},
      "outputs": [],
      "source": [
        "<details><summary>Click here for the solution</summary>\n",
        "\n",
        "```python\n",
        "\"12\"\n",
        "\n",
        "```\n",
        "\n",
        "</details>\n"
      ]
    },
    {
      "cell_type": "markdown",
      "id": "76f55078-005c-4b19-89bf-a68fed8bfebb",
      "metadata": {},
      "outputs": [],
      "source": [
        "<hr>\n"
      ]
    },
    {
      "cell_type": "markdown",
      "id": "4b59b943-a663-4a79-9f65-3ef3436df6cc",
      "metadata": {},
      "outputs": [],
      "source": [
        "Consider the variable <code>d</code> use slicing to print out the first three elements:\n"
      ]
    },
    {
      "cell_type": "code",
      "id": "ccfecf37-dcd2-40bd-9ffe-0888c5970980",
      "metadata": {},
      "outputs": [],
      "source": [
        "# Write your code below and press Shift+Enter to execute\n\nd = \"ABCDEFG\""
      ]
    },
    {
      "cell_type": "markdown",
      "id": "39f7ed41-d15c-4780-97b4-94f7668c36f5",
      "metadata": {},
      "outputs": [],
      "source": [
        "<details><summary>Click here for the solution</summary>\n",
        "\n",
        "```python\n",
        "print(d[:3]) \n",
        "\n",
        "# or \n",
        "\n",
        "print(d[0:3])\n",
        "\n",
        "```\n",
        "\n",
        "</details>\n"
      ]
    },
    {
      "cell_type": "markdown",
      "id": "5462402c-46aa-45f0-9488-5e5c201428ab",
      "metadata": {},
      "outputs": [],
      "source": [
        "<hr>\n"
      ]
    },
    {
      "cell_type": "markdown",
      "id": "21b5603e-79c2-4533-9856-b4ec65c3bda8",
      "metadata": {},
      "outputs": [],
      "source": [
        "Use a stride value of 2 to print out every second character of the string <code>e</code>:\n"
      ]
    },
    {
      "cell_type": "code",
      "id": "b532bc8f-8312-4056-b65e-6c575157535a",
      "metadata": {},
      "outputs": [],
      "source": [
        "# Write your code below and press Shift+Enter to execute\n\ne = 'clocrkr1e1c1t'"
      ]
    },
    {
      "cell_type": "markdown",
      "id": "03e81c0f-83fe-4e8b-bdea-c85213ec3dc7",
      "metadata": {},
      "outputs": [],
      "source": [
        "<details><summary>Click here for the solution</summary>\n",
        "\n",
        "```python\n",
        "print(e[::2])\n",
        "\n",
        "```\n",
        "\n",
        "</details>\n"
      ]
    },
    {
      "cell_type": "markdown",
      "id": "58ba2b99-6d22-4e22-93eb-107cee540c8f",
      "metadata": {},
      "outputs": [],
      "source": [
        "<hr>\n"
      ]
    },
    {
      "cell_type": "markdown",
      "id": "ce8850d9-b4de-4997-8697-d0fbf6609fe0",
      "metadata": {},
      "outputs": [],
      "source": [
        "Print out a backslash:\n"
      ]
    },
    {
      "cell_type": "code",
      "id": "988f2a6d-d0eb-4609-9843-9e774abe6640",
      "metadata": {},
      "outputs": [],
      "source": [
        "# Write your code below and press Shift+Enter to execute\n"
      ]
    },
    {
      "cell_type": "markdown",
      "id": "9ec11472-ec83-4dd1-8024-002e87490439",
      "metadata": {},
      "outputs": [],
      "source": [
        "<details><summary>Click here for the solution</summary>\n",
        "\n",
        "```python\n",
        "print(\"\\\\\\\\\\\\\")\n",
        "\n",
        "or\n",
        "\n",
        "print(r\"\\ \")\n",
        "\n",
        "```\n",
        "\n",
        "</details>\n"
      ]
    },
    {
      "cell_type": "markdown",
      "id": "8f7edc47-4d9e-4edb-ad09-24409bb0cb03",
      "metadata": {},
      "outputs": [],
      "source": [
        "<hr>\n"
      ]
    },
    {
      "cell_type": "markdown",
      "id": "082a824a-4c32-4c90-885c-21c7c977fd97",
      "metadata": {},
      "outputs": [],
      "source": [
        "Convert the variable <code>f</code> to uppercase:\n"
      ]
    },
    {
      "cell_type": "code",
      "id": "0b12c4a2-5303-41dc-873c-f0eedc89d815",
      "metadata": {},
      "outputs": [],
      "source": [
        "# Write your code below and press Shift+Enter to execute\n\nf = \"You are wrong\""
      ]
    },
    {
      "cell_type": "markdown",
      "id": "5582d0d0-e65b-443a-8b14-2c956a59545b",
      "metadata": {},
      "outputs": [],
      "source": [
        "<details><summary>Click here for the solution</summary>\n",
        "\n",
        "```python\n",
        "f.upper()\n",
        "\n",
        "```\n",
        "\n",
        "</details>\n"
      ]
    },
    {
      "cell_type": "markdown",
      "id": "710b87d1-4e9f-4cf5-bae4-d103fe25256f",
      "metadata": {},
      "outputs": [],
      "source": [
        "<hr>\n"
      ]
    },
    {
      "cell_type": "markdown",
      "id": "2d2a77c8-af78-477d-9e8d-ef89673dc0b3",
      "metadata": {},
      "outputs": [],
      "source": [
        "Consider the variable <code>g</code>, and find the first index of the sub-string <code>snow</code>:\n"
      ]
    },
    {
      "cell_type": "code",
      "id": "eef5bd6e-c93d-44bf-8540-b4b3111c409f",
      "metadata": {},
      "outputs": [],
      "source": [
        "# Write your code below and press Shift+Enter to execute\n\ng = \"Mary had a little lamb Little lamb, little lamb Mary had a little lamb \\\nIts fleece was white as snow And everywhere that Mary went Mary went, Mary went \\\nEverywhere that Mary went The lamb was sure to go\""
      ]
    },
    {
      "cell_type": "markdown",
      "id": "125b1a25-abaf-4df1-8180-ea4fed362c3b",
      "metadata": {},
      "outputs": [],
      "source": [
        "<details><summary>Click here for the solution</summary>\n",
        "\n",
        "```python\n",
        "g.find(\"snow\")\n",
        "\n",
        "```\n",
        "\n",
        "</details>\n"
      ]
    },
    {
      "cell_type": "markdown",
      "id": "0a54473a-a6de-4691-8324-d135bf826dc6",
      "metadata": {},
      "outputs": [],
      "source": [
        "In the variable <code>g</code>, replace the sub-string <code>Mary</code> with <code>Bob</code>:\n"
      ]
    },
    {
      "cell_type": "code",
      "id": "78bcea98-7b66-43f2-8ba9-5a14d50d9d21",
      "metadata": {},
      "outputs": [],
      "source": [
        "# Write your code below and press Shift+Enter to execute\n"
      ]
    },
    {
      "cell_type": "markdown",
      "id": "4356aed8-4839-41b7-af43-7b7b38f52bfc",
      "metadata": {},
      "outputs": [],
      "source": [
        "<details><summary>Click here for the solution</summary>\n",
        "\n",
        "```python\n",
        "g.replace(\"Mary\", \"Bob\")\n",
        "\n",
        "```\n",
        "\n",
        "</details>\n"
      ]
    },
    {
      "cell_type": "markdown",
      "id": "a842fe07-c72b-494a-9ce6-b790a5d955e2",
      "metadata": {},
      "outputs": [],
      "source": [
        "<hr>\n",
        "<h2>The last exercise!</h2>\n",
        "<p>Congratulations, you have completed your first lesson and hands-on lab in Python.\n",
        "<hr>\n"
      ]
    },
    {
      "cell_type": "markdown",
      "id": "21c40bac-5db2-45e8-a8f6-4238001baca8",
      "metadata": {},
      "outputs": [],
      "source": [
        "## Author\n",
        "\n",
        "<a href=\"https://www.linkedin.com/in/joseph-s-50398b136/?utm_medium=Exinfluencer&utm_source=Exinfluencer&utm_content=000026UJ&utm_term=10006555&utm_id=NA-SkillsNetwork-Channel-SkillsNetworkCoursesIBMDeveloperSkillsNetworkPY0101ENSkillsNetwork19487395-2021-01-01\">Joseph Santarcangelo</a>\n",
        "\n",
        "## Change Log\n",
        "\n",
        "| Date (YYYY-MM-DD) | Version | Changed By | Change Description                  |\n",
        "| ----------------- | ------- | ---------- | ----------------------------------- |\n",
        "| 2022-01-10        | 2.1     | Malika     | Removed the readme for GitShare     |\n",
        "| 2020-11-11        | 2.1     | Aije       | Updated variable names to lowercase |\n",
        "| 2020-08-26        | 2.0     | Lavanya    | Moved lab to course repo in GitLab  |\n",
        "\n",
        "## <h3 align=\"center\"> © IBM Corporation 2020. All rights reserved. <h3/>\n"
      ]
    }
  ],
  "metadata": {
    "kernelspec": {
      "display_name": "Python",
      "language": "python",
      "name": "conda-env-python-py"
    },
    "language_info": {
      "name": ""
    }
  },
  "nbformat": 4,
  "nbformat_minor": 4
}