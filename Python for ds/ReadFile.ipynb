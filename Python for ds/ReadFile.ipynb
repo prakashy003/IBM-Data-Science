{
  "cells": [
    {
      "cell_type": "markdown",
      "id": "96935a2e-f926-4dcd-8c87-46675a024bb9",
      "metadata": {},
      "outputs": [],
      "source": [
        "<center>\n",
        "    <img src=\"https://cf-courses-data.s3.us.cloud-object-storage.appdomain.cloud/IBMDeveloperSkillsNetwork-PY0101EN-SkillsNetwork/IDSNlogo.png\" width=\"300\" alt=\"cognitiveclass.ai logo\">\n",
        "</center>\n",
        "\n",
        "# Reading Files Python\n",
        "\n",
        "Estimated time needed: **40** minutes\n",
        "\n",
        "## Objectives\n",
        "\n",
        "After completing this lab you will be able to:\n",
        "\n",
        "*   Read text files using Python libraries\n"
      ]
    },
    {
      "cell_type": "markdown",
      "id": "dd605eeb-efbd-4274-b65e-207b79d85f2c",
      "metadata": {},
      "outputs": [],
      "source": [
        "<h2>Table of Contents</h2>\n",
        "<div class=\"alert alert-block alert-info\" style=\"margin-top: 20px\">\n",
        "    <ul>\n",
        "        <li><a href=\"https://download/?utm_medium=Exinfluencer&utm_source=Exinfluencer&utm_content=000026UJ&utm_term=10006555&utm_id=NA-SkillsNetwork-Channel-SkillsNetworkCoursesIBMDeveloperSkillsNetworkPY0101ENSkillsNetwork19487395-2021-01-01\">Download Data</a></li>\n",
        "        <li><a href=\"https://read/?utm_medium=Exinfluencer&utm_source=Exinfluencer&utm_content=000026UJ&utm_term=10006555&utm_id=NA-SkillsNetwork-Channel-SkillsNetworkCoursesIBMDeveloperSkillsNetworkPY0101ENSkillsNetwork19487395-2021-01-01\">Reading Text Files</a></li>\n",
        "        <li><a href=\"https://better/?utm_medium=Exinfluencer&utm_source=Exinfluencer&utm_content=000026UJ&utm_term=10006555&utm_id=NA-SkillsNetwork-Channel-SkillsNetworkCoursesIBMDeveloperSkillsNetworkPY0101ENSkillsNetwork19487395-2021-01-01\">A Better Way to Open a File</a></li>\n",
        "    </ul>\n",
        "\n",
        "</div>\n",
        "\n",
        "<hr>\n"
      ]
    },
    {
      "cell_type": "markdown",
      "id": "7869b024-1cde-435b-b9c0-614c12493562",
      "metadata": {},
      "outputs": [],
      "source": [
        "<h2 id=\"download\">Download Data</h2>\n"
      ]
    },
    {
      "cell_type": "code",
      "id": "08dcf838-32bb-4192-93f6-84e3577dfc90",
      "metadata": {},
      "outputs": [],
      "source": [
        "## Uncomment these if working locally, else let the following code cell run.\n\n# import urllib.request\n# url = 'https://cf-courses-data.s3.us.cloud-object-storage.appdomain.cloud/IBMDeveloperSkillsNetwork-PY0101EN-SkillsNetwork/labs/Module%204/data/example1.txt'\n# filename = 'Example1.txt'\n# urllib.request.urlretrieve(url, filename)\n\n## Download Example file\n# !wget -O /resources/data/Example1.txt https://cf-courses-data.s3.us.cloud-object-storage.appdomain.cloud/IBMDeveloperSkillsNetwork-PY0101EN-SkillsNetwork/labs/Module%204/data/example1.txt"
      ]
    },
    {
      "cell_type": "code",
      "id": "3bf4bc52-1f47-4e7b-ac49-f16dfa9a6f5c",
      "metadata": {},
      "outputs": [],
      "source": [
        "#from pyodide.http import pyfetch\nimport pandas as pd\nimport skillsnetwork\nawait skillsnetwork.download_dataset(\"https://cf-courses-data.s3.us.cloud-object-storage.appdomain.cloud/IBMDeveloperSkillsNetwork-PY0101EN-SkillsNetwork/labs/Module%204/data/example1.txt\")\ndf = open(\"example1.txt\")\n"
      ]
    },
    {
      "cell_type": "markdown",
      "id": "b17f29b4-53d9-4404-9dea-a08548eff263",
      "metadata": {},
      "outputs": [],
      "source": [
        "<hr>\n"
      ]
    },
    {
      "cell_type": "markdown",
      "id": "766c0b63-f35c-48fb-a2db-2ed2cb7be7ab",
      "metadata": {},
      "outputs": [],
      "source": [
        "<h2 id=\"read\">Reading Text Files</h2>\n"
      ]
    },
    {
      "cell_type": "markdown",
      "id": "59bd5278-0b40-4854-afeb-4e54ea444930",
      "metadata": {},
      "outputs": [],
      "source": [
        "One way to read or write a file in Python is to use the built-in <code>open</code> function. The <code>open</code> function provides a **File object** that contains the methods and attributes you need in order to read, save, and manipulate the file. In this notebook, we will only cover **.txt** files. The first parameter you need is the file path and the file name. An example is shown as follow:\n"
      ]
    },
    {
      "cell_type": "markdown",
      "id": "d6a3245b-7d16-45da-9f53-7fe2089692b9",
      "metadata": {},
      "outputs": [],
      "source": [
        "<img src=\"https://cf-courses-data.s3.us.cloud-object-storage.appdomain.cloud/IBMDeveloperSkillsNetwork-PY0101EN-SkillsNetwork/labs/Module%204/images/ReadOpen.png\" width=\"500\">\n"
      ]
    },
    {
      "cell_type": "markdown",
      "id": "7aa08fd7-8484-43f5-8cd2-603382b7b39b",
      "metadata": {},
      "outputs": [],
      "source": [
        "The mode argument is optional and the default value is **r**. In this notebook we only cover two modes:\n",
        "\n",
        "<ul>\n",
        "    <li>**r**: Read mode for reading files </li>\n",
        "    <li>**w**: Write mode for writing files</li>\n",
        "</ul>\n"
      ]
    },
    {
      "cell_type": "markdown",
      "id": "6edd6333-87f5-4786-be51-081b8ee05d44",
      "metadata": {},
      "outputs": [],
      "source": [
        "For the next example, we will use the text file **Example1.txt**. The file is shown as follows:\n"
      ]
    },
    {
      "cell_type": "markdown",
      "id": "b2c340c5-233d-4c84-aba3-4cde1554c14d",
      "metadata": {},
      "outputs": [],
      "source": [
        "<img src=\"https://cf-courses-data.s3.us.cloud-object-storage.appdomain.cloud/IBMDeveloperSkillsNetwork-PY0101EN-SkillsNetwork/labs/Module%204/images/ReadFile.png\" width=\"100\">\n"
      ]
    },
    {
      "cell_type": "markdown",
      "id": "3e151fa1-c5f5-4361-a5c2-4208717156de",
      "metadata": {},
      "outputs": [],
      "source": [
        "We read the file:\n"
      ]
    },
    {
      "cell_type": "code",
      "id": "f6921218-f26a-4d5e-ae2c-8567c03c2783",
      "metadata": {},
      "outputs": [],
      "source": [
        "# Read the Example1.txt\nexample1 = \"example1.txt\"\nfile1 = open(example1, \"r\")\n"
      ]
    },
    {
      "cell_type": "markdown",
      "id": "5a06fa2c-4a1e-4082-8003-728690e87e98",
      "metadata": {},
      "outputs": [],
      "source": [
        "We can view the attributes of the file.\n"
      ]
    },
    {
      "cell_type": "markdown",
      "id": "acb6be66-3b4c-464d-afa1-03f647d613ce",
      "metadata": {},
      "outputs": [],
      "source": [
        "The name of the file:\n"
      ]
    },
    {
      "cell_type": "code",
      "id": "e84c9154-8a3e-408c-af4b-ecb382f25051",
      "metadata": {},
      "outputs": [],
      "source": [
        "# Print the path of file\n\nfile1.name"
      ]
    },
    {
      "cell_type": "markdown",
      "id": "65078822-544f-4a4c-a122-43c84cc57978",
      "metadata": {},
      "outputs": [],
      "source": [
        "The mode the file object is in:\n"
      ]
    },
    {
      "cell_type": "code",
      "id": "406a2492-ef37-4aa6-b27d-09e97b110ce0",
      "metadata": {},
      "outputs": [],
      "source": [
        "# Print the mode of file, either 'r' or 'w'\n\nfile1.mode"
      ]
    },
    {
      "cell_type": "markdown",
      "id": "228962a0-d36c-4076-bb83-0211c98a8c6c",
      "metadata": {},
      "outputs": [],
      "source": [
        "We can read the file and assign it to a variable :\n"
      ]
    },
    {
      "cell_type": "code",
      "id": "1040a0af-f58a-4a2b-be56-ff41a2a7fcdd",
      "metadata": {},
      "outputs": [],
      "source": [
        "# Read the file\n\nFileContent = file1.read()\nFileContent"
      ]
    },
    {
      "cell_type": "markdown",
      "id": "fee6d28f-64d9-4912-8c01-112543e2b920",
      "metadata": {},
      "outputs": [],
      "source": [
        "The **/n** means that there is a new line.\n"
      ]
    },
    {
      "cell_type": "markdown",
      "id": "aa1c768c-1c82-4968-bd30-67a4c2be209d",
      "metadata": {},
      "outputs": [],
      "source": [
        "We can print the file:\n"
      ]
    },
    {
      "cell_type": "code",
      "id": "27a6f5f8-e874-4768-9e4b-43ddf7a81603",
      "metadata": {},
      "outputs": [],
      "source": [
        "# Print the file with '\\n' as a new line\n\nprint(FileContent)"
      ]
    },
    {
      "cell_type": "markdown",
      "id": "5eb7da08-a3b7-4c6d-a757-96a4efa7a092",
      "metadata": {},
      "outputs": [],
      "source": [
        "The file is of type string:\n"
      ]
    },
    {
      "cell_type": "code",
      "id": "70d912ca-917b-4da4-9439-c8ae91d8c896",
      "metadata": {},
      "outputs": [],
      "source": [
        "# Type of file content\n\ntype(FileContent)"
      ]
    },
    {
      "cell_type": "markdown",
      "id": "784c9791-e32a-4ebe-ba4d-5ab7cd1d43b8",
      "metadata": {},
      "outputs": [],
      "source": [
        "It is very important that the file is closed in the end. This frees up resources and ensures consistency across different python versions.\n"
      ]
    },
    {
      "cell_type": "code",
      "id": "ee8ceefd-6837-4b1f-964b-145904c4e5ce",
      "metadata": {},
      "outputs": [],
      "source": [
        "# Close file after finish\n\nfile1.close()"
      ]
    },
    {
      "cell_type": "markdown",
      "id": "ab6a9251-78b9-421b-815e-d14aa8c86e1d",
      "metadata": {},
      "outputs": [],
      "source": [
        "<hr>\n"
      ]
    },
    {
      "cell_type": "markdown",
      "id": "ca2aaf09-20f5-4d3d-804b-92a50ba1d6a2",
      "metadata": {},
      "outputs": [],
      "source": [
        "<h2 id=\"better\">A Better Way to Open a File</h2>\n"
      ]
    },
    {
      "cell_type": "markdown",
      "id": "b0b695fb-b43e-404d-8c95-4cb502a718ec",
      "metadata": {},
      "outputs": [],
      "source": [
        "Using the <code>with</code> statement is better practice, it automatically closes the file even if the code encounters an exception. The code will run everything in the indent block then close the file object.\n"
      ]
    },
    {
      "cell_type": "code",
      "id": "bbd71e72-a7df-40cc-8131-a22f42c63e25",
      "metadata": {},
      "outputs": [],
      "source": [
        "# Open file using with\n\nwith open(example1, \"r\") as file1:\n    FileContent = file1.read()\n    print(FileContent)"
      ]
    },
    {
      "cell_type": "markdown",
      "id": "4ffda218-506e-4ae9-b32f-848fef6e78d4",
      "metadata": {},
      "outputs": [],
      "source": [
        "The file object is closed, you can verify it by running the following cell:\n"
      ]
    },
    {
      "cell_type": "code",
      "id": "2a7d58cc-058c-476d-9b28-eaaa54390220",
      "metadata": {},
      "outputs": [],
      "source": [
        "# Verify if the file is closed\n\nfile1.closed"
      ]
    },
    {
      "cell_type": "markdown",
      "id": "30c4576f-4df9-4a38-9151-2aa192078477",
      "metadata": {},
      "outputs": [],
      "source": [
        "We can see the info in the file:\n"
      ]
    },
    {
      "cell_type": "code",
      "id": "8da7e046-3dd3-440c-98ee-2900027e3b95",
      "metadata": {},
      "outputs": [],
      "source": [
        "# See the content of file\n\nprint(FileContent)"
      ]
    },
    {
      "cell_type": "markdown",
      "id": "9772a4c9-1f2d-4bcf-b1fd-55b04b0cb8cc",
      "metadata": {},
      "outputs": [],
      "source": [
        "The syntax is a little confusing as the file object is after the <code>as</code> statement. We also don’t explicitly close the file. Therefore we summarize the steps in a figure:\n"
      ]
    },
    {
      "cell_type": "markdown",
      "id": "33b23d54-3f1c-42a7-b3b6-4f60646f87ac",
      "metadata": {},
      "outputs": [],
      "source": [
        "<img src=\"https://cf-courses-data.s3.us.cloud-object-storage.appdomain.cloud/IBMDeveloperSkillsNetwork-PY0101EN-SkillsNetwork/labs/Module%204/images/ReadWith.png\" width=\"500\">\n"
      ]
    },
    {
      "cell_type": "markdown",
      "id": "41a37bb0-9039-4b0e-ad41-b71e25eb1fa7",
      "metadata": {},
      "outputs": [],
      "source": [
        "We don’t have to read the entire file, for example, we can read the first 4 characters by entering three as a parameter to the method **.read()**:\n"
      ]
    },
    {
      "cell_type": "code",
      "id": "7f521c10-ead9-4c9b-9dc6-8bc94e49345d",
      "metadata": {},
      "outputs": [],
      "source": [
        "# Read first four characters\n\nwith open(example1, \"r\") as file1:\n    print(file1.read(4))"
      ]
    },
    {
      "cell_type": "markdown",
      "id": "a74e6415-b9c3-4702-b247-b86ab4905702",
      "metadata": {},
      "outputs": [],
      "source": [
        "Once the method <code>.read(4)</code> is called the first 4 characters are called. If we call the method again, the next 4 characters are called. The output for the following cell will demonstrate the process for different inputs to the method <code>read()</code>:\n"
      ]
    },
    {
      "cell_type": "code",
      "id": "f64cdb99-3945-44fe-842b-2a55cb1cf702",
      "metadata": {},
      "outputs": [],
      "source": [
        "# Read certain amount of characters\n\nwith open(example1, \"r\") as file1:\n    print(file1.read(4))\n    print(file1.read(4))\n    print(file1.read(7))\n    print(file1.read(15))"
      ]
    },
    {
      "cell_type": "markdown",
      "id": "9b0a8ff9-8d8f-4a0e-9ddb-6998da41dfb8",
      "metadata": {},
      "outputs": [],
      "source": [
        "The process is illustrated in the below figure, and each color represents the part of the file read after the method <code>read()</code> is called:\n"
      ]
    },
    {
      "cell_type": "markdown",
      "id": "71ef25f7-026d-4057-a548-88069785f7f5",
      "metadata": {},
      "outputs": [],
      "source": [
        "<img src=\"https://cf-courses-data.s3.us.cloud-object-storage.appdomain.cloud/IBMDeveloperSkillsNetwork-PY0101EN-SkillsNetwork/labs/Module%204/images/read.png\" width=\"500\">\n"
      ]
    },
    {
      "cell_type": "markdown",
      "id": "52d8f38d-2f27-431a-993f-86124b9fcb49",
      "metadata": {},
      "outputs": [],
      "source": [
        "Here is an example using the same file, but instead we read 16, 5, and then 9 characters at a time:\n"
      ]
    },
    {
      "cell_type": "code",
      "id": "3f0bcbb8-939c-4305-bf2a-2862fb2853ae",
      "metadata": {},
      "outputs": [],
      "source": [
        "# Read certain amount of characters\n\nwith open(example1, \"r\") as file1:\n    print(file1.read(16))\n    print(file1.read(5))\n    print(file1.read(9))"
      ]
    },
    {
      "cell_type": "markdown",
      "id": "43535049-4f7d-46bf-9c0a-8af9b8a89e31",
      "metadata": {},
      "outputs": [],
      "source": [
        "We can also read one line of the file at a time using the method <code>readline()</code>:\n"
      ]
    },
    {
      "cell_type": "code",
      "id": "2e674a94-6f1f-4836-9f2d-c8b46e3b2958",
      "metadata": {},
      "outputs": [],
      "source": [
        "# Read one line\n\nwith open(example1, \"r\") as file1:\n    print(\"first line: \" + file1.readline())"
      ]
    },
    {
      "cell_type": "markdown",
      "id": "91d9181e-666b-47a1-9a77-6baac1ac6754",
      "metadata": {},
      "outputs": [],
      "source": [
        "We can also pass an argument to <code> readline() </code> to specify the number of charecters we want to read. However, unlike <code> read()</code>, <code> readline()</code> can only read one line at most.\n"
      ]
    },
    {
      "cell_type": "code",
      "id": "73ba21ea-9eea-48b7-a7c3-859fccaae128",
      "metadata": {},
      "outputs": [],
      "source": [
        "with open(example1, \"r\") as file1:\n    print(file1.readline(20)) # does not read past the end of line\n    print(file1.read(20)) # Returns the next 20 chars\n"
      ]
    },
    {
      "cell_type": "markdown",
      "id": "d42c64d6-db43-417b-b87b-caa3ed9518d6",
      "metadata": {},
      "outputs": [],
      "source": [
        "We can use a loop to iterate through each line:\n"
      ]
    },
    {
      "cell_type": "code",
      "id": "b774a50c-36f5-4c5a-b8c3-aa08a89cec13",
      "metadata": {},
      "outputs": [],
      "source": [
        "# Iterate through the lines\n\nwith open(example1,\"r\") as file1:\n        i = 0;\n        for line in file1:\n            print(\"Iteration\", str(i), \": \", line)\n            i = i + 1"
      ]
    },
    {
      "cell_type": "markdown",
      "id": "d15666c1-1a04-43b5-940e-8ba901607676",
      "metadata": {},
      "outputs": [],
      "source": [
        "We can use the method <code>readlines()</code> to save the text file to a list:\n"
      ]
    },
    {
      "cell_type": "code",
      "id": "4a6aa746-f50c-40e4-b4b7-b206716951b5",
      "metadata": {},
      "outputs": [],
      "source": [
        "# Read all lines and save as a list\n\nwith open(example1, \"r\") as file1:\n    FileasList = file1.readlines()"
      ]
    },
    {
      "cell_type": "markdown",
      "id": "50286213-4c84-4192-a3d0-12238476c848",
      "metadata": {},
      "outputs": [],
      "source": [
        "Each element of the list corresponds to a line of text:\n"
      ]
    },
    {
      "cell_type": "code",
      "id": "bfa522bb-98de-439e-8714-88f8d564b208",
      "metadata": {},
      "outputs": [],
      "source": [
        "# Print the first line\n\nFileasList[0]"
      ]
    },
    {
      "cell_type": "markdown",
      "id": "a35eb30f-f012-4c61-b097-b888081e3dc7",
      "metadata": {},
      "outputs": [],
      "source": [
        "# Print the second line\n",
        "\n",
        "FileasList\\[1]\n"
      ]
    },
    {
      "cell_type": "code",
      "id": "41a598c7-3fc4-4ed2-972a-6050c611f94d",
      "metadata": {},
      "outputs": [],
      "source": [
        "# Print the third line\n\nFileasList[2]"
      ]
    },
    {
      "cell_type": "markdown",
      "id": "6d415f13-1210-450f-a378-19dc3236da0c",
      "metadata": {},
      "outputs": [],
      "source": [
        "<hr>\n",
        "<h2>The last exercise!</h2>\n",
        "<p>Congratulations, you have completed your first lesson and hands-on lab in Python.\n",
        "<hr>\n"
      ]
    },
    {
      "cell_type": "markdown",
      "id": "94ef0567-7253-40e8-bafe-c741803671e7",
      "metadata": {},
      "outputs": [],
      "source": [
        "## Author\n",
        "\n",
        "<a href=\"https://www.linkedin.com/in/joseph-s-50398b136/?utm_medium=Exinfluencer&utm_source=Exinfluencer&utm_content=000026UJ&utm_term=10006555&utm_id=NA-SkillsNetwork-Channel-SkillsNetworkCoursesIBMDeveloperSkillsNetworkPY0101ENSkillsNetwork19487395-2021-01-01\">Joseph Santarcangelo</a>\n",
        "\n",
        "## Other contributors\n",
        "\n",
        "<a href=\"https://www.linkedin.com/in/jiahui-mavis-zhou-a4537814a?utm_medium=Exinfluencer&utm_source=Exinfluencer&utm_content=000026UJ&utm_term=10006555&utm_id=NA-SkillsNetwork-Channel-SkillsNetworkCoursesIBMDeveloperSkillsNetworkPY0101ENSkillsNetwork19487395-2021-01-01\">Mavis Zhou</a>\n",
        "\n",
        "## Change Log\n",
        "\n",
        "| Date (YYYY-MM-DD) | Version | Changed By    | Change Description                                        |\n",
        "| ----------------- | ------- | ------------- | --------------------------------------------------------- |\n",
        "| 2022-01-10        | 2.1     | Malika        | Removed the readme for GitShare                           |\n",
        "| 2020-09-30        | 1.3     | Malika        | Deleted exericse \"Weather Data\"                           |\n",
        "| 2020-09-30        | 1.2     | Malika Singla | Weather Data dataset link added                           |\n",
        "| 2020-09-30        | 1.1     | Arjun Swani   | Added exericse \"Weather Data\"                             |\n",
        "| 2020-09-30        | 1.0     | Arjun Swani   | Added blurbs about closing files and read() vs readline() |\n",
        "| 2020-08-26        | 0.2     | Lavanya       | Moved lab to course repo in GitLab                        |\n",
        "|                   |         |               |                                                           |\n",
        "|                   |         |               |                                                           |\n",
        "\n",
        "<hr/>\n",
        "\n",
        "## <h3 align=\"center\"> © IBM Corporation 2020. All rights reserved. <h3/>\n"
      ]
    }
  ],
  "metadata": {
    "kernelspec": {
      "display_name": "Python",
      "language": "python",
      "name": "conda-env-python-py"
    },
    "language_info": {
      "name": ""
    }
  },
  "nbformat": 4,
  "nbformat_minor": 4
}