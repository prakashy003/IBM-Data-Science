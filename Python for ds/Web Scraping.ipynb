{
  "cells": [
    {
      "cell_type": "markdown",
      "id": "44b86ff5-af7d-4aff-82da-479a462626ae",
      "metadata": {},
      "outputs": [],
      "source": [
        "<center>\n",
        "    <img src=\"https://cf-courses-data.s3.us.cloud-object-storage.appdomain.cloud/IBMDeveloperSkillsNetwork-PY0101EN-SkillsNetwork/IDSNlogo.png\" width=\"300\" alt=\"cognitiveclass.ai logo\">\n",
        "</center>\n"
      ]
    },
    {
      "cell_type": "markdown",
      "id": "9c3d891c-c4bd-4b7b-8f2a-da7a7ffb4448",
      "metadata": {},
      "outputs": [],
      "source": [
        "# **Web Scraping Lab**\n"
      ]
    },
    {
      "cell_type": "markdown",
      "id": "3570bf94-e834-49f6-be63-7292c20a461d",
      "metadata": {},
      "outputs": [],
      "source": [
        "Estimated time needed: **30** minutes\n"
      ]
    },
    {
      "cell_type": "markdown",
      "id": "91c68d95-8402-448f-8a1f-e31c6146df77",
      "metadata": {},
      "outputs": [],
      "source": [
        "## Objectives\n"
      ]
    },
    {
      "cell_type": "markdown",
      "id": "32bce152-9d59-4e37-89cb-9814ff1631f5",
      "metadata": {},
      "outputs": [],
      "source": [
        "After completing this lab you will be:\n",
        "\n",
        "*   Familiar with the basics of the `BeautifulSoup` Python library\n",
        "*   Be able to scrape webpages for data and filter the data\n"
      ]
    },
    {
      "cell_type": "markdown",
      "id": "291bcf03-de2f-4340-8b48-ea8eb8382064",
      "metadata": {},
      "outputs": [],
      "source": [
        "<h2>Table of Contents</h2>\n",
        "<div class=\"alert alert-block alert-info\" style=\"margin-top: 20px\">\n",
        "    <ul>\n",
        "        <li>\n",
        "            <a href=\"https://bso/?utm_medium=Exinfluencer&utm_source=Exinfluencer&utm_content=000026UJ&utm_term=10006555&utm_id=NA-SkillsNetwork-Channel-SkillsNetworkCoursesIBMDeveloperSkillsNetworkPY0101ENSkillsNetwork19487395-2021-01-01\">Beautiful Soup Object</a>\n",
        "            <ul>\n",
        "                <li>Tag</li>\n",
        "                <li>Children, Parents, and Siblings</li>\n",
        "                <li>HTML Attributes</li>\n",
        "                <li>Navigable String</li>\n",
        "            </ul>\n",
        "        </li>\n",
        "     </ul>\n",
        "    <ul>\n",
        "        <li>\n",
        "            <a href=\"https://filter/?utm_medium=Exinfluencer&utm_source=Exinfluencer&utm_content=000026UJ&utm_term=10006555&utm_id=NA-SkillsNetwork-Channel-SkillsNetworkCoursesIBMDeveloperSkillsNetworkPY0101ENSkillsNetwork19487395-2021-01-01\">Filter</a>\n",
        "            <ul>\n",
        "                <li>find All</li>\n",
        "                <li>find </li>\n",
        "                <li>HTML Attributes</li>\n",
        "                <li>Navigable String</li>\n",
        "            </ul>\n",
        "        </li>\n",
        "     </ul>\n",
        "     <ul>\n",
        "        <li>\n",
        "            <a href=\"https://dscw/?utm_medium=Exinfluencer&utm_source=Exinfluencer&utm_content=000026UJ&utm_term=10006555&utm_id=NA-SkillsNetwork-Channel-SkillsNetworkCoursesIBMDeveloperSkillsNetworkPY0101ENSkillsNetwork19487395-2021-01-01\">Downloading And Scraping The Contents Of A Web</a>\n",
        "    </p>\n",
        "\n",
        "</div>\n",
        "\n",
        "<hr>\n"
      ]
    },
    {
      "cell_type": "markdown",
      "id": "dc313ce9-dba7-4d38-b900-b262a0e88d54",
      "metadata": {},
      "outputs": [],
      "source": [
        "For this lab, we are going to be using Python and several Python libraries. Some of these libraries might be installed in your lab environment or in SN Labs. Others may need to be installed by you. The cells below will install these libraries when executed.\n"
      ]
    },
    {
      "cell_type": "code",
      "id": "b45b87c5-145f-4e06-b895-afa0abaf6480",
      "metadata": {},
      "outputs": [],
      "source": [
        "!pip install html5lib"
      ]
    },
    {
      "cell_type": "markdown",
      "id": "95dda797-eb06-4796-aff3-55d6197e127d",
      "metadata": {},
      "outputs": [],
      "source": [
        "**Note:- After running the above code cell, restart the kernel and don't run the above code cell after restarting the kernel.**\n"
      ]
    },
    {
      "cell_type": "code",
      "id": "57572559-178d-451d-ac44-3b3be7c94ddb",
      "metadata": {},
      "outputs": [],
      "source": [
        "!pip install bs4\n#!pip install requests"
      ]
    },
    {
      "cell_type": "markdown",
      "id": "e226b758-e49f-4103-abc5-4d4e19302c23",
      "metadata": {},
      "outputs": [],
      "source": [
        "Import the required modules and functions\n"
      ]
    },
    {
      "cell_type": "code",
      "id": "4de0876b-cf8a-4aea-a3c6-65927b004201",
      "metadata": {},
      "outputs": [],
      "source": [
        "from bs4 import BeautifulSoup # this module helps in web scrapping.\nimport requests  # this module helps us to download a web page"
      ]
    },
    {
      "cell_type": "markdown",
      "id": "987d8a14-1050-41ee-b058-56d7f90aa6dd",
      "metadata": {},
      "outputs": [],
      "source": [
        "<h2 id=\"BSO\">Beautiful Soup Objects</h2>\n"
      ]
    },
    {
      "cell_type": "markdown",
      "id": "6144c706-9fea-436a-b528-ce5ca3234446",
      "metadata": {},
      "outputs": [],
      "source": [
        "Beautiful Soup is a Python library for pulling data out of HTML and XML files, we will focus on HTML files. This is accomplished by representing the HTML as a set of objects with methods used to parse the HTML.  We can navigate the HTML as a tree, and/or filter out what we are looking for.\n",
        "\n",
        "Consider the following HTML:\n"
      ]
    },
    {
      "cell_type": "code",
      "id": "e33a58f6-6922-406b-bbcd-70af7e3635a5",
      "metadata": {},
      "outputs": [],
      "source": [
        "%%html\n<!DOCTYPE html>\n<html>\n<head>\n<title>Page Title</title>\n</head>\n<body>\n<h3><b id='boldest'>Lebron James</b></h3>\n<p> Salary: $ 92,000,000 </p>\n<h3> Stephen Curry</h3>\n<p> Salary: $85,000, 000 </p>\n<h3> Kevin Durant </h3>\n<p> Salary: $73,200, 000</p>\n</body>\n</html>"
      ]
    },
    {
      "cell_type": "markdown",
      "id": "9ded6840-976a-48ff-8848-ae54af01b2aa",
      "metadata": {},
      "outputs": [],
      "source": [
        "We can store it as a string in the variable HTML:\n"
      ]
    },
    {
      "cell_type": "code",
      "id": "ba1b5de9-f785-4ab3-8208-665e2844fbc1",
      "metadata": {},
      "outputs": [],
      "source": [
        "html=\"<!DOCTYPE html><html><head><title>Page Title</title></head><body><h3><b id='boldest'>Lebron James</b></h3><p> Salary: $ 92,000,000 </p><h3> Stephen Curry</h3><p> Salary: $85,000, 000 </p><h3> Kevin Durant </h3><p> Salary: $73,200, 000</p></body></html>\""
      ]
    },
    {
      "cell_type": "markdown",
      "id": "6f0c5dd7-9772-4cc5-a7b7-ab569b55a8f8",
      "metadata": {},
      "outputs": [],
      "source": [
        "To parse a document, pass it into the <code>BeautifulSoup</code> constructor. The <code>BeautifulSoup</code> object represents the document as a nested data structure:\n"
      ]
    },
    {
      "cell_type": "code",
      "id": "eaad9440-01cd-4598-9cf7-3dbce49b5fd5",
      "metadata": {},
      "outputs": [],
      "source": [
        "soup = BeautifulSoup(html, 'html5lib')"
      ]
    },
    {
      "cell_type": "markdown",
      "id": "3981508c-3728-4284-8410-5a9cd66573d2",
      "metadata": {},
      "outputs": [],
      "source": [
        "First, the document is converted to Unicode (similar to ASCII) and HTML entities are converted to Unicode characters. Beautiful Soup transforms a complex HTML document into a complex tree of Python objects. The <code>BeautifulSoup</code> object can create other types of objects. In this lab, we will cover <code>BeautifulSoup</code> and <code>Tag</code> objects, that for the purposes of this lab are identical. Finally, we will look at <code>NavigableString</code> objects.\n"
      ]
    },
    {
      "cell_type": "markdown",
      "id": "49d93302-b6d7-49fe-a1c7-be61aa09ec9b",
      "metadata": {},
      "outputs": [],
      "source": [
        "We can use the method <code>prettify()</code> to display the HTML in the nested structure:\n"
      ]
    },
    {
      "cell_type": "code",
      "id": "9df0fe6a-d8bc-4bab-97c1-3752f9baa497",
      "metadata": {},
      "outputs": [],
      "source": [
        "print(soup.prettify())"
      ]
    },
    {
      "cell_type": "markdown",
      "id": "2a26f281-8b86-4284-8a8a-6f675b0e54b2",
      "metadata": {},
      "outputs": [],
      "source": [
        "## Tags\n"
      ]
    },
    {
      "cell_type": "markdown",
      "id": "8e850060-55df-4849-acb2-4743329afdbb",
      "metadata": {},
      "outputs": [],
      "source": [
        "Let's say we want the  title of the page and the name of the top paid player. We can use the <code>Tag</code>. The <code>Tag</code> object corresponds to an HTML tag in the original document, for example, the tag title.\n"
      ]
    },
    {
      "cell_type": "code",
      "id": "116bbdb2-5e39-4e3e-8f03-5ecf48eebfa2",
      "metadata": {},
      "outputs": [],
      "source": [
        "tag_object=soup.title\nprint(\"tag object:\",tag_object)"
      ]
    },
    {
      "cell_type": "markdown",
      "id": "44e015a1-a9e7-49b7-a3f8-ec71d3188e96",
      "metadata": {},
      "outputs": [],
      "source": [
        "we can see the tag type <code>bs4.element.Tag</code>\n"
      ]
    },
    {
      "cell_type": "code",
      "id": "09738b8c-3648-47a8-9d14-c8a8670233f9",
      "metadata": {},
      "outputs": [],
      "source": [
        "print(\"tag object type:\",type(tag_object))"
      ]
    },
    {
      "cell_type": "markdown",
      "id": "5214e365-576c-497e-a789-4d30d22378f2",
      "metadata": {},
      "outputs": [],
      "source": [
        "If there is more than one <code>Tag</code> with the same name, the first element with that <code>Tag</code> name is called. This corresponds to the most paid player:\n"
      ]
    },
    {
      "cell_type": "code",
      "id": "595e2e15-a17b-40d4-8926-f9308b331889",
      "metadata": {},
      "outputs": [],
      "source": [
        "tag_object=soup.h3\ntag_object"
      ]
    },
    {
      "cell_type": "markdown",
      "id": "76ab5623-3db9-4705-814b-c7c358a9642e",
      "metadata": {},
      "outputs": [],
      "source": [
        "Enclosed in the bold attribute <code>b</code>, it helps to use the tree representation. We can navigate down the tree using the child attribute to get the name.\n"
      ]
    },
    {
      "cell_type": "markdown",
      "id": "4a087719-3d44-44e9-8240-a92b9c7becd6",
      "metadata": {},
      "outputs": [],
      "source": [
        "### Children, Parents, and Siblings\n"
      ]
    },
    {
      "cell_type": "markdown",
      "id": "068cda3f-9e8c-4f2a-a205-4bfe369813e6",
      "metadata": {},
      "outputs": [],
      "source": [
        "As stated above, the <code>Tag</code> object is a tree of objects. We can access the child of the tag or navigate down the branch as follows:\n"
      ]
    },
    {
      "cell_type": "code",
      "id": "376cfe9a-ab26-4ddf-869f-959621d33cfa",
      "metadata": {},
      "outputs": [],
      "source": [
        "tag_child =tag_object.b\ntag_child"
      ]
    },
    {
      "cell_type": "markdown",
      "id": "ca047169-d27b-4b3c-b3e0-ff402f35496a",
      "metadata": {},
      "outputs": [],
      "source": [
        "You can access the parent with the <code> parent</code>.\n"
      ]
    },
    {
      "cell_type": "code",
      "id": "e802d81c-5057-46ca-9740-78536c582a25",
      "metadata": {},
      "outputs": [],
      "source": [
        "parent_tag=tag_child.parent\nparent_tag"
      ]
    },
    {
      "cell_type": "markdown",
      "id": "6ad148a0-7d07-4823-8564-dc78dc905d3f",
      "metadata": {},
      "outputs": [],
      "source": [
        "this is identical to:\n"
      ]
    },
    {
      "cell_type": "code",
      "id": "81d6859c-52dc-4aed-8b88-892b3a99e996",
      "metadata": {},
      "outputs": [],
      "source": [
        "tag_object"
      ]
    },
    {
      "cell_type": "markdown",
      "id": "b4bd572b-8848-403b-a563-b6680aabd6f2",
      "metadata": {},
      "outputs": [],
      "source": [
        "<code>tag_object</code> parent is the <code>body</code> element.\n"
      ]
    },
    {
      "cell_type": "code",
      "id": "d5dc140f-701c-4aac-b56e-e1ebc6b8630c",
      "metadata": {},
      "outputs": [],
      "source": [
        "tag_object.parent"
      ]
    },
    {
      "cell_type": "markdown",
      "id": "be16a05e-f9c3-4765-8be5-9a0f280b8a71",
      "metadata": {},
      "outputs": [],
      "source": [
        "<code>tag_object</code> sibling is the <code>paragraph</code> element.\n"
      ]
    },
    {
      "cell_type": "code",
      "id": "486a319f-12e2-4158-ae1a-bc53323dfd98",
      "metadata": {},
      "outputs": [],
      "source": [
        "sibling_1=tag_object.next_sibling\nsibling_1"
      ]
    },
    {
      "cell_type": "markdown",
      "id": "4d28dcf7-3d87-48db-864a-d4810e8f0a6a",
      "metadata": {},
      "outputs": [],
      "source": [
        "`sibling_2` is the `header` element, which is also a sibling of both `sibling_1` and `tag_object`\n"
      ]
    },
    {
      "cell_type": "code",
      "id": "11a5daee-6ad3-40e8-afe0-03210834977a",
      "metadata": {},
      "outputs": [],
      "source": [
        "sibling_2=sibling_1.next_sibling\nsibling_2"
      ]
    },
    {
      "cell_type": "markdown",
      "id": "121c1d61-f44a-426f-9b85-a650156c800c",
      "metadata": {},
      "outputs": [],
      "source": [
        "<h3 id=\"first_question\">Exercise: <code>next_sibling</code></h3>\n"
      ]
    },
    {
      "cell_type": "markdown",
      "id": "af03ef51-df3d-4960-ad58-22507aa9c279",
      "metadata": {},
      "outputs": [],
      "source": [
        "Use the object <code>sibling\\_2</code> and the method <code>next_sibling</code> to find the salary of Stephen Curry:\n"
      ]
    },
    {
      "cell_type": "code",
      "id": "273d84cb-5691-4a94-9339-79f219d61287",
      "metadata": {},
      "outputs": [],
      "source": [
        ""
      ]
    },
    {
      "cell_type": "markdown",
      "id": "39f58f0f-c5e9-4005-b192-89e6ec9da1f1",
      "metadata": {},
      "outputs": [],
      "source": [
        "<details><summary>Click here for the solution</summary>\n",
        "\n",
        "```\n",
        "sibling_2.next_sibling\n",
        "\n",
        "```\n",
        "\n",
        "</details>\n"
      ]
    },
    {
      "cell_type": "markdown",
      "id": "9795364f-3189-47bb-a0e1-c7a1fa48b0af",
      "metadata": {},
      "outputs": [],
      "source": [
        "### HTML Attributes\n"
      ]
    },
    {
      "cell_type": "markdown",
      "id": "561fbe12-8cf6-42fa-87b0-db4545514252",
      "metadata": {},
      "outputs": [],
      "source": [
        "If the tag has attributes, the tag <code>id=\"boldest\"</code> has an attribute <code>id</code> whose value is <code>boldest</code>. You can access a tag's attributes by treating the tag like a dictionary:\n"
      ]
    },
    {
      "cell_type": "code",
      "id": "deb58197-7457-4476-9517-206b813c6882",
      "metadata": {},
      "outputs": [],
      "source": [
        "tag_child['id']"
      ]
    },
    {
      "cell_type": "markdown",
      "id": "ea231134-ba92-4a1c-b267-1dea118fee6d",
      "metadata": {},
      "outputs": [],
      "source": [
        "You can access that dictionary directly as <code>attrs</code>:\n"
      ]
    },
    {
      "cell_type": "code",
      "id": "91bdd4a1-5875-4fb8-b20f-f4adae2705c0",
      "metadata": {},
      "outputs": [],
      "source": [
        "tag_child.attrs"
      ]
    },
    {
      "cell_type": "markdown",
      "id": "8bc5d55c-b885-41ba-9c8e-38e677da9a94",
      "metadata": {},
      "outputs": [],
      "source": [
        "You can also work with Multi-valued attributes. Check out <a href=\"https://www.crummy.com/software/BeautifulSoup/bs4/doc/?utm_medium=Exinfluencer&utm_source=Exinfluencer&utm_content=000026UJ&utm_term=10006555&utm_id=NA-SkillsNetwork-Channel-SkillsNetworkCoursesIBMDeveloperSkillsNetworkPY0101ENSkillsNetwork19487395-2021-01-01\">\\[1]</a> for more.\n"
      ]
    },
    {
      "cell_type": "markdown",
      "id": "67b705d6-d8aa-40ce-943c-991752da6de0",
      "metadata": {},
      "outputs": [],
      "source": [
        "We can also obtain the content of the attribute of the <code>tag</code> using the Python <code>get()</code> method.\n"
      ]
    },
    {
      "cell_type": "code",
      "id": "7b8bbf3b-8499-482e-bcca-6ae8e963109b",
      "metadata": {},
      "outputs": [],
      "source": [
        "tag_child.get('id')"
      ]
    },
    {
      "cell_type": "markdown",
      "id": "08364da4-a014-44fd-b5c7-27ded41099f8",
      "metadata": {},
      "outputs": [],
      "source": [
        "### Navigable String\n"
      ]
    },
    {
      "cell_type": "markdown",
      "id": "5aff5a91-4e73-41ad-b945-bdd77721cf48",
      "metadata": {},
      "outputs": [],
      "source": [
        "A string corresponds to a bit of text or content within a tag. Beautiful Soup uses the <code>NavigableString</code> class to contain this text. In our HTML we can obtain the name of the first player by extracting the string of the <code>Tag</code> object <code>tag_child</code> as follows:\n"
      ]
    },
    {
      "cell_type": "code",
      "id": "5412f225-215b-46e7-a377-d21fdf91fe1d",
      "metadata": {},
      "outputs": [],
      "source": [
        "tag_string=tag_child.string\ntag_string"
      ]
    },
    {
      "cell_type": "markdown",
      "id": "3ceabab4-33fd-4bdf-8ae3-2b38b041c0c8",
      "metadata": {},
      "outputs": [],
      "source": [
        "we can verify the type is Navigable String\n"
      ]
    },
    {
      "cell_type": "code",
      "id": "d0ea39c8-5d59-492a-a549-6c94f4072947",
      "metadata": {},
      "outputs": [],
      "source": [
        "type(tag_string)"
      ]
    },
    {
      "cell_type": "markdown",
      "id": "4440115d-521d-4ba7-8271-75116d9d65b9",
      "metadata": {},
      "outputs": [],
      "source": [
        "A NavigableString is similar to a Python string or Unicode string. To be more precise, the main difference is that it also supports some <code>BeautifulSoup</code> features. We can convert it to string object in Python:\n"
      ]
    },
    {
      "cell_type": "code",
      "id": "1aa235bd-db4c-4512-8c42-c213c2a5b150",
      "metadata": {},
      "outputs": [],
      "source": [
        "unicode_string = str(tag_string)\nunicode_string"
      ]
    },
    {
      "cell_type": "markdown",
      "id": "fff14a5f-5045-4af4-9d81-ded6cd69ce82",
      "metadata": {},
      "outputs": [],
      "source": [
        "<h2 id=\"filter\">Filter</h2>\n"
      ]
    },
    {
      "cell_type": "markdown",
      "id": "94e68710-ba66-476f-acea-193eb6c9e839",
      "metadata": {},
      "outputs": [],
      "source": [
        "Filters allow you to find complex patterns, the simplest filter is a string. In this section we will pass a string to a different filter method and Beautiful Soup will perform a match against that exact string. Consider the following HTML of rocket launches:\n"
      ]
    },
    {
      "cell_type": "code",
      "id": "8dfc7c1f-f835-4a2c-9353-8c30f7a76077",
      "metadata": {},
      "outputs": [],
      "source": [
        "%%html\n<table>\n  <tr>\n    <td id='flight' >Flight No</td>\n    <td>Launch site</td> \n    <td>Payload mass</td>\n   </tr>\n  <tr> \n    <td>1</td>\n    <td><a href='https://en.wikipedia.org/wiki/Florida'>Florida</a></td>\n    <td>300 kg</td>\n  </tr>\n  <tr>\n    <td>2</td>\n    <td><a href='https://en.wikipedia.org/wiki/Texas'>Texas</a></td>\n    <td>94 kg</td>\n  </tr>\n  <tr>\n    <td>3</td>\n    <td><a href='https://en.wikipedia.org/wiki/Florida'>Florida<a> </td>\n    <td>80 kg</td>\n  </tr>\n</table>"
      ]
    },
    {
      "cell_type": "markdown",
      "id": "cd275979-5ef1-4437-a1d5-98128a1e0699",
      "metadata": {},
      "outputs": [],
      "source": [
        "We can store it as a string in the variable <code>table</code>:\n"
      ]
    },
    {
      "cell_type": "code",
      "id": "e4b9967a-f329-4639-80c6-eb4baa30dd7e",
      "metadata": {},
      "outputs": [],
      "source": [
        "table=\"<table><tr><td id='flight'>Flight No</td><td>Launch site</td> <td>Payload mass</td></tr><tr> <td>1</td><td><a href='https://en.wikipedia.org/wiki/Florida'>Florida<a></td><td>300 kg</td></tr><tr><td>2</td><td><a href='https://en.wikipedia.org/wiki/Texas'>Texas</a></td><td>94 kg</td></tr><tr><td>3</td><td><a href='https://en.wikipedia.org/wiki/Florida'>Florida<a> </td><td>80 kg</td></tr></table>\""
      ]
    },
    {
      "cell_type": "code",
      "id": "266b55e2-9f0e-4fbe-8e98-6d9bb4a1e345",
      "metadata": {},
      "outputs": [],
      "source": [
        "table_bs = BeautifulSoup(table, 'html5lib')"
      ]
    },
    {
      "cell_type": "markdown",
      "id": "d5f6d123-9965-4e2b-8aa2-29b0a5402819",
      "metadata": {},
      "outputs": [],
      "source": [
        "## find All\n"
      ]
    },
    {
      "cell_type": "markdown",
      "id": "197a07fe-796d-4ab2-9eba-0dc64ec95276",
      "metadata": {},
      "outputs": [],
      "source": [
        "The <code>find_all()</code> method looks through a tag's descendants and retrieves all descendants that match your filters.\n",
        "\n",
        "<p>\n",
        "The Method signature for <code>find_all(name, attrs, recursive, string, limit, **kwargs)<c/ode>\n",
        "</p>\n"
      ]
    },
    {
      "cell_type": "markdown",
      "id": "27142b79-11ed-4f8f-88ab-4b1eeb338346",
      "metadata": {},
      "outputs": [],
      "source": [
        "### Name\n"
      ]
    },
    {
      "cell_type": "markdown",
      "id": "09d92a3f-f2a1-48b9-90c2-2719fd330a6f",
      "metadata": {},
      "outputs": [],
      "source": [
        "When we set the <code>name</code> parameter to a tag name, the method will extract all the tags with that name and its children.\n"
      ]
    },
    {
      "cell_type": "code",
      "id": "eb63dfaa-a494-4c35-b6c7-036e113bf6fd",
      "metadata": {},
      "outputs": [],
      "source": [
        "table_rows=table_bs.find_all('tr')\ntable_rows"
      ]
    },
    {
      "cell_type": "markdown",
      "id": "842325b6-01e0-46d1-ae25-3f02e138d1be",
      "metadata": {},
      "outputs": [],
      "source": [
        "The result is a Python iterable just like a list, each element is a <code>tag</code> object:\n"
      ]
    },
    {
      "cell_type": "code",
      "id": "13c14b6a-72ad-4536-82e0-9c56d22e3c37",
      "metadata": {},
      "outputs": [],
      "source": [
        "first_row =table_rows[0]\nfirst_row"
      ]
    },
    {
      "cell_type": "markdown",
      "id": "3c69f828-90a0-4571-aa6b-a6bd25f1dd8a",
      "metadata": {},
      "outputs": [],
      "source": [
        "The type is <code>tag</code>\n"
      ]
    },
    {
      "cell_type": "code",
      "id": "25e8a49c-1c1d-4c74-a565-384cc3e36ce7",
      "metadata": {},
      "outputs": [],
      "source": [
        "print(type(first_row))"
      ]
    },
    {
      "cell_type": "markdown",
      "id": "530b50a0-04a0-418a-afe4-3fe86a9b8004",
      "metadata": {},
      "outputs": [],
      "source": [
        "we can obtain the child\n"
      ]
    },
    {
      "cell_type": "code",
      "id": "847f9819-71cb-4c23-9699-7c92bd537bf4",
      "metadata": {},
      "outputs": [],
      "source": [
        "first_row.td"
      ]
    },
    {
      "cell_type": "markdown",
      "id": "08ea5df9-1f0d-40b6-9b37-55eb1d6b871d",
      "metadata": {},
      "outputs": [],
      "source": [
        "If we iterate through the list, each element corresponds to a row in the table:\n"
      ]
    },
    {
      "cell_type": "code",
      "id": "44d6444c-f2ab-417e-a480-34fb49afb31b",
      "metadata": {},
      "outputs": [],
      "source": [
        "for i,row in enumerate(table_rows):\n    print(\"row\",i,\"is\",row)\n    "
      ]
    },
    {
      "cell_type": "markdown",
      "id": "85f07bce-d6d9-4e36-8784-95ba7be8cdc1",
      "metadata": {},
      "outputs": [],
      "source": [
        "As <code>row</code> is a <code>cell</code> object, we can apply the method <code>find_all</code> to it and extract table cells in the object <code>cells</code> using the tag <code>td</code>, this is all the children with the name <code>td</code>. The result is a list, each element corresponds to a cell and is a <code>Tag</code> object, we can iterate through this list as well. We can extract the content using the <code>string</code> attribute.\n"
      ]
    },
    {
      "cell_type": "code",
      "id": "d6e393e5-4d0f-48dc-9ce4-51351938d626",
      "metadata": {},
      "outputs": [],
      "source": [
        "for i,row in enumerate(table_rows):\n    print(\"row\",i)\n    cells=row.find_all('td')\n    for j,cell in enumerate(cells):\n        print('colunm',j,\"cell\",cell)"
      ]
    },
    {
      "cell_type": "markdown",
      "id": "15aae0f4-7d6d-4e79-a998-0b0cb28e8967",
      "metadata": {},
      "outputs": [],
      "source": [
        "If we use a list we can match against any item in that list.\n"
      ]
    },
    {
      "cell_type": "code",
      "id": "03bc4249-9479-4d78-aee2-56604f0af833",
      "metadata": {},
      "outputs": [],
      "source": [
        "list_input=table_bs .find_all(name=[\"tr\", \"td\"])\nlist_input"
      ]
    },
    {
      "cell_type": "markdown",
      "id": "f75a8c90-7505-41ac-8452-93466fdc4ce0",
      "metadata": {},
      "outputs": [],
      "source": [
        "## Attributes\n"
      ]
    },
    {
      "cell_type": "markdown",
      "id": "72144cec-ab32-4c45-a9a4-ef5bb4264efa",
      "metadata": {},
      "outputs": [],
      "source": [
        "If the argument is not recognized it will be turned into a filter on the tag's attributes. For example with the <code>id</code> argument, Beautiful Soup will filter against each tag's <code>id</code> attribute. For example, the first <code>td</code> elements have a value of <code>id</code> of <code>flight</code>, therefore we can filter based on that <code>id</code> value.\n"
      ]
    },
    {
      "cell_type": "code",
      "id": "5aef46ca-3fbe-4e8e-80a4-90cb163eddb4",
      "metadata": {},
      "outputs": [],
      "source": [
        "table_bs.find_all(id=\"flight\")"
      ]
    },
    {
      "cell_type": "markdown",
      "id": "1e879b1b-5b43-4009-98a7-e9e082b53b2a",
      "metadata": {},
      "outputs": [],
      "source": [
        "We can find all the elements that have links to the Florida Wikipedia page:\n"
      ]
    },
    {
      "cell_type": "code",
      "id": "4186e307-05f0-44c9-aa9c-b22ae01ee02e",
      "metadata": {},
      "outputs": [],
      "source": [
        "list_input=table_bs.find_all(href=\"https://en.wikipedia.org/wiki/Florida\")\nlist_input"
      ]
    },
    {
      "cell_type": "markdown",
      "id": "337d57a0-4a18-464b-89fe-0d4bd71a243b",
      "metadata": {},
      "outputs": [],
      "source": [
        "If we set the <code>href</code> attribute to True, regardless of what the value is, the code finds all tags with <code>href</code> value:\n"
      ]
    },
    {
      "cell_type": "code",
      "id": "6df55714-dd6f-40ef-b3c9-2dd43760f9ca",
      "metadata": {},
      "outputs": [],
      "source": [
        "table_bs.find_all(href=True)"
      ]
    },
    {
      "cell_type": "markdown",
      "id": "1a260aa9-7a30-4c2b-be29-ed254513cba1",
      "metadata": {},
      "outputs": [],
      "source": [
        "There are other methods for dealing with attributes and other related methods. Check out the following <a href='https://www.crummy.com/software/BeautifulSoup/bs4/doc/?utm_medium=Exinfluencer&utm_source=Exinfluencer&utm_content=000026UJ&utm_term=10006555&utm_id=NA-SkillsNetwork-Channel-SkillsNetworkCoursesIBMDeveloperSkillsNetworkPY0101ENSkillsNetwork19487395-2021-01-01#css-selectors'>link</a>\n"
      ]
    },
    {
      "cell_type": "markdown",
      "id": "dac322d4-e13f-4f1b-877a-d03142607758",
      "metadata": {},
      "outputs": [],
      "source": [
        "<h3 id=\"exer_type\">Exercise: <code>find_all</code></h3>\n"
      ]
    },
    {
      "cell_type": "markdown",
      "id": "ef5854ec-d043-4677-8344-9a87131fbc80",
      "metadata": {},
      "outputs": [],
      "source": [
        "Using the logic above, find all the elements without <code>href</code> value\n"
      ]
    },
    {
      "cell_type": "code",
      "id": "293ac35f-8554-46e5-bbca-a5b6394fc779",
      "metadata": {},
      "outputs": [],
      "source": [
        ""
      ]
    },
    {
      "cell_type": "markdown",
      "id": "7791c5ba-c1d9-4eb1-83ed-f5dd0f9925f7",
      "metadata": {},
      "outputs": [],
      "source": [
        "<details><summary>Click here for the solution</summary>\n",
        "\n",
        "```\n",
        "table_bs.find_all(href=False)\n",
        "\n",
        "```\n",
        "\n",
        "</details>\n"
      ]
    },
    {
      "cell_type": "markdown",
      "id": "7a7e663a-d7b7-4295-abeb-2f51059ea946",
      "metadata": {},
      "outputs": [],
      "source": [
        "Using the soup object <code>soup</code>, find the element with the <code>id</code> attribute content set to <code>\"boldest\"</code>.\n"
      ]
    },
    {
      "cell_type": "code",
      "id": "e680c208-5ac0-4e24-81b7-f2a1da5faebe",
      "metadata": {},
      "outputs": [],
      "source": [
        ""
      ]
    },
    {
      "cell_type": "markdown",
      "id": "83dce81a-ef12-4472-8758-ed10a1f77b98",
      "metadata": {},
      "outputs": [],
      "source": [
        "<details><summary>Click here for the solution</summary>\n",
        "\n",
        "```\n",
        "soup.find_all(id=\"boldest\")\n",
        "\n",
        "```\n",
        "\n",
        "</details>\n"
      ]
    },
    {
      "cell_type": "markdown",
      "id": "8c632c04-7fb0-4e7f-b349-ba04698cc397",
      "metadata": {},
      "outputs": [],
      "source": [
        "### string\n"
      ]
    },
    {
      "cell_type": "markdown",
      "id": "5f83d779-e2a9-4cca-82fc-7df21c60de96",
      "metadata": {},
      "outputs": [],
      "source": [
        "With string you can search for strings instead of tags, where we find all the elments with Florida:\n"
      ]
    },
    {
      "cell_type": "code",
      "id": "d26818db-c497-43e7-9726-ccd3658dff93",
      "metadata": {},
      "outputs": [],
      "source": [
        "table_bs.find_all(string=\"Florida\")"
      ]
    },
    {
      "cell_type": "markdown",
      "id": "4196561d-7176-4d89-bf86-7134a74c3c55",
      "metadata": {},
      "outputs": [],
      "source": [
        "## find\n"
      ]
    },
    {
      "cell_type": "markdown",
      "id": "412355cb-2ee7-45b2-ac62-f661c4efca7c",
      "metadata": {},
      "outputs": [],
      "source": [
        "The <code>find_all()</code> method scans the entire document looking for results. It’s useful if you are looking for one element, as you can use the <code>find()</code> method to find the first element in the document. Consider the following two tables:\n"
      ]
    },
    {
      "cell_type": "code",
      "id": "de5727a1-22ba-4c81-8e53-e2c7c5e9bd2e",
      "metadata": {},
      "outputs": [],
      "source": [
        "%%html\n<h3>Rocket Launch </h3>\n\n<p>\n<table class='rocket'>\n  <tr>\n    <td>Flight No</td>\n    <td>Launch site</td> \n    <td>Payload mass</td>\n  </tr>\n  <tr>\n    <td>1</td>\n    <td>Florida</td>\n    <td>300 kg</td>\n  </tr>\n  <tr>\n    <td>2</td>\n    <td>Texas</td>\n    <td>94 kg</td>\n  </tr>\n  <tr>\n    <td>3</td>\n    <td>Florida </td>\n    <td>80 kg</td>\n  </tr>\n</table>\n</p>\n<p>\n\n<h3>Pizza Party  </h3>\n  \n    \n<table class='pizza'>\n  <tr>\n    <td>Pizza Place</td>\n    <td>Orders</td> \n    <td>Slices </td>\n   </tr>\n  <tr>\n    <td>Domino's Pizza</td>\n    <td>10</td>\n    <td>100</td>\n  </tr>\n  <tr>\n    <td>Little Caesars</td>\n    <td>12</td>\n    <td >144 </td>\n  </tr>\n  <tr>\n    <td>Papa John's </td>\n    <td>15 </td>\n    <td>165</td>\n  </tr>\n"
      ]
    },
    {
      "cell_type": "markdown",
      "id": "278518dd-71bb-4e5d-adf1-d6d41d16de5f",
      "metadata": {},
      "outputs": [],
      "source": [
        "We store the HTML as a Python string and assign <code>two_tables</code>:\n"
      ]
    },
    {
      "cell_type": "code",
      "id": "f2f56a1b-603c-4e40-b748-55f40bec2747",
      "metadata": {},
      "outputs": [],
      "source": [
        "two_tables=\"<h3>Rocket Launch </h3><p><table class='rocket'><tr><td>Flight No</td><td>Launch site</td> <td>Payload mass</td></tr><tr><td>1</td><td>Florida</td><td>300 kg</td></tr><tr><td>2</td><td>Texas</td><td>94 kg</td></tr><tr><td>3</td><td>Florida </td><td>80 kg</td></tr></table></p><p><h3>Pizza Party  </h3><table class='pizza'><tr><td>Pizza Place</td><td>Orders</td> <td>Slices </td></tr><tr><td>Domino's Pizza</td><td>10</td><td>100</td></tr><tr><td>Little Caesars</td><td>12</td><td >144 </td></tr><tr><td>Papa John's </td><td>15 </td><td>165</td></tr>\""
      ]
    },
    {
      "cell_type": "markdown",
      "id": "29243a50-cbf0-4092-9bf4-967038be8df4",
      "metadata": {},
      "outputs": [],
      "source": [
        "We create a <code>BeautifulSoup</code> object  <code>two_tables_bs</code>\n"
      ]
    },
    {
      "cell_type": "code",
      "id": "d6bb0424-5507-427c-897c-3ec693c58404",
      "metadata": {},
      "outputs": [],
      "source": [
        "two_tables_bs= BeautifulSoup(two_tables, 'html.parser')"
      ]
    },
    {
      "cell_type": "markdown",
      "id": "e5fa97a6-b404-4627-a6f0-694600bdef30",
      "metadata": {},
      "outputs": [],
      "source": [
        "We can find the first table using the tag name table\n"
      ]
    },
    {
      "cell_type": "code",
      "id": "6c53beeb-01cc-4d38-a899-ec32cb379ec8",
      "metadata": {},
      "outputs": [],
      "source": [
        "two_tables_bs.find(\"table\")"
      ]
    },
    {
      "cell_type": "markdown",
      "id": "7ce136d1-c5d9-4f08-bb4a-11bcc1adcb3a",
      "metadata": {},
      "outputs": [],
      "source": [
        "We can filter on the class attribute to find the second table, but because class is a keyword in Python, we add an underscore to differentiate them.\n"
      ]
    },
    {
      "cell_type": "code",
      "id": "d881e801-f5e5-4765-bf46-5099e1875187",
      "metadata": {},
      "outputs": [],
      "source": [
        "two_tables_bs.find(\"table\",class_='pizza')"
      ]
    },
    {
      "cell_type": "markdown",
      "id": "a8e72d6c-8286-4b29-a408-5f71b87c4557",
      "metadata": {},
      "outputs": [],
      "source": [
        "<h2 id=\"DSCW\">Downloading And Scraping The Contents Of A Web Page</h2> \n"
      ]
    },
    {
      "cell_type": "markdown",
      "id": "8816f219-31b9-464e-8547-4d0ed0c0eaf0",
      "metadata": {},
      "outputs": [],
      "source": [
        "We Download the contents of the web page:\n"
      ]
    },
    {
      "cell_type": "code",
      "id": "99e2f000-9589-4339-957d-72e0b49fa86f",
      "metadata": {},
      "outputs": [],
      "source": [
        "url = \"http://www.ibm.com\""
      ]
    },
    {
      "cell_type": "markdown",
      "id": "6a921575-6ece-43ce-9e3d-b80a99d17826",
      "metadata": {},
      "outputs": [],
      "source": [
        "We use <code>get</code> to download the contents of the webpage in text format and store in a variable called <code>data</code>:\n"
      ]
    },
    {
      "cell_type": "code",
      "id": "5b05203c-62eb-4533-81c2-af515dfefa47",
      "metadata": {},
      "outputs": [],
      "source": [
        "data  = requests.get(url).text "
      ]
    },
    {
      "cell_type": "markdown",
      "id": "9c200dac-8de9-45cc-888e-fadd502c2a33",
      "metadata": {},
      "outputs": [],
      "source": [
        "We create a <code>BeautifulSoup</code> object using the <code>BeautifulSoup</code> constructor\n"
      ]
    },
    {
      "cell_type": "code",
      "id": "8944c7ff-3bc8-4d62-b2f0-500d35ceb50a",
      "metadata": {},
      "outputs": [],
      "source": [
        "soup = BeautifulSoup(data,\"html5lib\")  # create a soup object using the variable 'data'"
      ]
    },
    {
      "cell_type": "markdown",
      "id": "41655a8e-fee0-4128-89fb-9de731534c4a",
      "metadata": {},
      "outputs": [],
      "source": [
        "Scrape all links\n"
      ]
    },
    {
      "cell_type": "code",
      "id": "9fd2f756-e4cc-4a50-8666-5a35aeb2eda2",
      "metadata": {},
      "outputs": [],
      "source": [
        "for link in soup.find_all('a',href=True):  # in html anchor/link is represented by the tag <a>\n\n    print(link.get('href'))\n"
      ]
    },
    {
      "cell_type": "markdown",
      "id": "d35abd6c-adc7-4876-a927-1a76f632fdf5",
      "metadata": {},
      "outputs": [],
      "source": [
        "## Scrape  all images  Tags\n"
      ]
    },
    {
      "cell_type": "code",
      "id": "a9719fef-bbfe-49db-9a8a-2e9f735ee4ac",
      "metadata": {},
      "outputs": [],
      "source": [
        "for link in soup.find_all('img'):# in html image is represented by the tag <img>\n    print(link)\n    print(link.get('src'))"
      ]
    },
    {
      "cell_type": "markdown",
      "id": "7713faa2-aa07-45dd-9a53-c0f433fd1d84",
      "metadata": {},
      "outputs": [],
      "source": [
        "### Scrape data from HTML tables\n"
      ]
    },
    {
      "cell_type": "code",
      "id": "f8c0c7b4-169a-46bc-a1b0-55c38a291a4e",
      "metadata": {},
      "outputs": [],
      "source": [
        "#The below url contains an html table with data about colors and color codes.\nurl = \"https://cf-courses-data.s3.us.cloud-object-storage.appdomain.cloud/IBM-DA0321EN-SkillsNetwork/labs/datasets/HTMLColorCodes.html\""
      ]
    },
    {
      "cell_type": "markdown",
      "id": "1ba2914a-435d-4ff9-a80a-20ca8a16495b",
      "metadata": {},
      "outputs": [],
      "source": [
        "Before proceeding to scrape a web site, you need to examine the contents and the way data is organized on the website. Open the above url in your browser and check how many rows and columns there are in the color table.\n"
      ]
    },
    {
      "cell_type": "code",
      "id": "9ee8e8dc-23a2-4d86-b75d-8da1bdf596e6",
      "metadata": {},
      "outputs": [],
      "source": [
        "# get the contents of the webpage in text format and store in a variable called data\ndata  = requests.get(url).text"
      ]
    },
    {
      "cell_type": "code",
      "id": "f8e4ee49-0542-4550-96a0-001af19f2915",
      "metadata": {},
      "outputs": [],
      "source": [
        "soup = BeautifulSoup(data,\"html5lib\")"
      ]
    },
    {
      "cell_type": "code",
      "id": "ae82296d-25dd-445e-8b53-f6c3c5f34b4d",
      "metadata": {},
      "outputs": [],
      "source": [
        "#find a html table in the web page\ntable = soup.find('table') # in html table is represented by the tag <table>"
      ]
    },
    {
      "cell_type": "code",
      "id": "cf4477dd-b168-474f-b748-7fb0fa348e44",
      "metadata": {},
      "outputs": [],
      "source": [
        "#Get all rows from the table\nfor row in table.find_all('tr'): # in html table row is represented by the tag <tr>\n    # Get all columns in each row.\n    cols = row.find_all('td') # in html a column is represented by the tag <td>\n    color_name = cols[2].string # store the value in column 3 as color_name\n    color_code = cols[3].string # store the value in column 4 as color_code\n    print(\"{}--->{}\".format(color_name,color_code))"
      ]
    },
    {
      "cell_type": "markdown",
      "id": "975227fa-e1ee-4721-a447-d0f429cd64a9",
      "metadata": {},
      "outputs": [],
      "source": [
        "## Authors\n"
      ]
    },
    {
      "cell_type": "markdown",
      "id": "d45bdcad-00da-46d8-a899-55cb870db4c5",
      "metadata": {},
      "outputs": [],
      "source": [
        "Ramesh Sannareddy\n"
      ]
    },
    {
      "cell_type": "markdown",
      "id": "af536433-f036-46c0-a09f-49fc4a73a116",
      "metadata": {},
      "outputs": [],
      "source": [
        "### Other Contributors\n"
      ]
    },
    {
      "cell_type": "markdown",
      "id": "a6dd378e-e2a9-48f2-a945-59b917fbb693",
      "metadata": {},
      "outputs": [],
      "source": [
        "Rav Ahuja\n"
      ]
    },
    {
      "cell_type": "markdown",
      "id": "f8d7e62f-7db3-494c-aa88-0f98a381ab09",
      "metadata": {},
      "outputs": [],
      "source": [
        "## Change Log\n"
      ]
    },
    {
      "cell_type": "markdown",
      "id": "3fb57838-87c3-404b-ae06-29e657cebdd7",
      "metadata": {},
      "outputs": [],
      "source": [
        "| Date (YYYY-MM-DD) | Version | Changed By            |          Change Description         |\n",
        "| ----------------- | ------- | ----------------------| ----------------------------------- |\n",
        "| 2023-06-11        | 1.0     | Akansha Yadav         |   Spell check                       |\n",
        "| 2020-10-17        | 0.1     | Joseph Santarcangelo  |  Created initial version of the lab |\n"
      ]
    },
    {
      "cell_type": "markdown",
      "id": "bbdb379d-9be0-45a2-b5cb-6108009bf225",
      "metadata": {},
      "outputs": [],
      "source": [
        "Copyright © 2020 IBM Corporation. This notebook and its source code are released under the terms of the [MIT License](https://cognitiveclass.ai/mit-license/?utm_medium=Exinfluencer&utm_source=Exinfluencer&utm_content=000026UJ&utm_term=10006555&utm_id=NA-SkillsNetwork-Channel-SkillsNetworkCoursesIBMDeveloperSkillsNetworkPY0101ENSkillsNetwork19487395-2021-01-01).\n"
      ]
    }
  ],
  "metadata": {
    "kernelspec": {
      "display_name": "Python",
      "language": "python",
      "name": "conda-env-python-py"
    },
    "language_info": {
      "name": ""
    }
  },
  "nbformat": 4,
  "nbformat_minor": 4
}