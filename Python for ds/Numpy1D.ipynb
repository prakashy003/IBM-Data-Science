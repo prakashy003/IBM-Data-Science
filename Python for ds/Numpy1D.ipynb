{
  "cells": [
    {
      "cell_type": "markdown",
      "id": "ee6a783b-fb86-4d13-b8b3-fe92f5872e19",
      "metadata": {},
      "outputs": [],
      "source": [
        "<center>\n",
        "    <img src=\"https://cf-courses-data.s3.us.cloud-object-storage.appdomain.cloud/IBMDeveloperSkillsNetwork-PY0101EN-SkillsNetwork/IDSNlogo.png\" width=\"300\" alt=\"cognitiveclass.ai logo\">\n",
        "</center>\n",
        "\n",
        "# 1D Numpy in Python\n",
        "\n",
        "Estimated time needed: **30** minutes\n",
        "\n",
        "## Objectives\n",
        "\n",
        "After completing this lab you will be able to:\n",
        "\n",
        "*   Import and use the `numpy` library\n",
        "*   Perform operations with `numpy`\n"
      ]
    },
    {
      "cell_type": "markdown",
      "id": "e59ef925-301c-46a5-a926-5b4b93a71903",
      "metadata": {},
      "outputs": [],
      "source": [
        "<h2>Table of Contents</h2>\n",
        "<div class=\"alert alert-block alert-info\" style=\"margin-thttps://https://op/?utm_medium=Exinfluencer&utm_source=Exinfluencer&utm_content=000026UJ&utm_term=10006555&utm_id=NA-SkillsNetwork-Channel-SkillsNetworkCoursesIBMDeveloperSkillsNetworkPY0101ENSkillsNetwork19487395-2021-01-01/?utm_medium=Exinfluencer&utm_source=Exinfluencer&utm_content=000026UJ&utm_term=10006555&utm_id=NA-SkillsNetwork-Channel-SkillsNetworkCoursesIBMDeveloperSkillsNetworkPY0101ENSkillsNetwork19487395-2021-01-01: 20px\">\n",
        "    <ul>\n",
        "        <li><a href=\"https://pre/?utm_medium=Exinfluencer&utm_source=Exinfluencer&utm_content=000026UJ&utm_term=10006555&utm_id=NA-SkillsNetwork-Channel-SkillsNetworkCoursesIBMDeveloperSkillsNetworkPY0101ENSkillsNetwork19487395-2021-01-01\">List in Python</a></li>\n",
        "        <li>\n",
        "            <a href=\"https://numpy/?utm_medium=Exinfluencer&utm_source=Exinfluencer&utm_content=000026UJ&utm_term=10006555&utm_id=NA-SkillsNetwork-Channel-SkillsNetworkCoursesIBMDeveloperSkillsNetworkPY0101ENSkillsNetwork19487395-2021-01-01\">What is Numpy?</a>\n",
        "            <ul>\n",
        "                <li><a href=\"https://type/?utm_medium=Exinfluencer&utm_source=Exinfluencer&utm_content=000026UJ&utm_term=10006555&utm_id=NA-SkillsNetwork-Channel-SkillsNetworkCoursesIBMDeveloperSkillsNetworkPY0101ENSkillsNetwork19487395-2021-01-01\">Type</a></li>\n",
        "                <li><a href=\"https://val/?utm_medium=Exinfluencer&utm_source=Exinfluencer&utm_content=000026UJ&utm_term=10006555&utm_id=NA-SkillsNetwork-Channel-SkillsNetworkCoursesIBMDeveloperSkillsNetworkPY0101ENSkillsNetwork19487395-2021-01-01\">Assign Value</a></li>\n",
        "                <li><a href=\"https://slice/?utm_medium=Exinfluencer&utm_source=Exinfluencer&utm_content=000026UJ&utm_term=10006555&utm_id=NA-SkillsNetwork-Channel-SkillsNetworkCoursesIBMDeveloperSkillsNetworkPY0101ENSkillsNetwork19487395-2021-01-01\">Slicing</a></li>\n",
        "                <li><a href=\"https://list/?utm_medium=Exinfluencer&utm_source=Exinfluencer&utm_content=000026UJ&utm_term=10006555&utm_id=NA-SkillsNetwork-Channel-SkillsNetworkCoursesIBMDeveloperSkillsNetworkPY0101ENSkillsNetwork19487395-2021-01-01\">Assign Value with List</a></li>\n",
        "                <li><a href=\"https://other/?utm_medium=Exinfluencer&utm_source=Exinfluencer&utm_content=000026UJ&utm_term=10006555&utm_id=NA-SkillsNetwork-Channel-SkillsNetworkCoursesIBMDeveloperSkillsNetworkPY0101ENSkillsNetwork19487395-2021-01-01\">Other Attributes</a></li>\n",
        "            </ul>\n",
        "        </li>\n",
        "        <li>\n",
        "            <a href=\"op\">Numpy Array Operations</a>\n",
        "            <ul>\n",
        "                <li><a href=\"https://add/?utm_medium=Exinfluencer&utm_source=Exinfluencer&utm_content=000026UJ&utm_term=10006555&utm_id=NA-SkillsNetwork-Channel-SkillsNetworkCoursesIBMDeveloperSkillsNetworkPY0101ENSkillsNetwork19487395-2021-01-01\">Array Addition</a></li>\n",
        "                <li><a href=\"https://multi/?utm_medium=Exinfluencer&utm_source=Exinfluencer&utm_content=000026UJ&utm_term=10006555&utm_id=NA-SkillsNetwork-Channel-SkillsNetworkCoursesIBMDeveloperSkillsNetworkPY0101ENSkillsNetwork19487395-2021-01-01\">Array Multiplication</a></li>\n",
        "                <li><a href=\"https://prod/?utm_medium=Exinfluencer&utm_source=Exinfluencer&utm_content=000026UJ&utm_term=10006555&utm_id=NA-SkillsNetwork-Channel-SkillsNetworkCoursesIBMDeveloperSkillsNetworkPY0101ENSkillsNetwork19487395-2021-01-01\">Product of Two Numpy Arrays</a></li>\n",
        "                <li><a href=\"https://dot/?utm_medium=Exinfluencer&utm_source=Exinfluencer&utm_content=000026UJ&utm_term=10006555&utm_id=NA-SkillsNetwork-Channel-SkillsNetworkCoursesIBMDeveloperSkillsNetworkPY0101ENSkillsNetwork19487395-2021-01-01\">Dot Product</a></li>\n",
        "                <li><a href=\"https://cons/?utm_medium=Exinfluencer&utm_source=Exinfluencer&utm_content=000026UJ&utm_term=10006555&utm_id=NA-SkillsNetwork-Channel-SkillsNetworkCoursesIBMDeveloperSkillsNetworkPY0101ENSkillsNetwork19487395-2021-01-01\">Adding Constant to a Numpy Array</a></li>\n",
        "            </ul>\n",
        "        </li>\n",
        "        <li><a href=\"https://math/?utm_medium=Exinfluencer&utm_source=Exinfluencer&utm_content=000026UJ&utm_term=10006555&utm_id=NA-SkillsNetwork-Channel-SkillsNetworkCoursesIBMDeveloperSkillsNetworkPY0101ENSkillsNetwork19487395-2021-01-01\">Mathematical Functions</a></li>\n",
        "        <li><a href=\"https://lin/?utm_medium=Exinfluencer&utm_source=Exinfluencer&utm_content=000026UJ&utm_term=10006555&utm_id=NA-SkillsNetwork-Channel-SkillsNetworkCoursesIBMDeveloperSkillsNetworkPY0101ENSkillsNetwork19487395-2021-01-01\">Linspace</a></li>\n",
        "    </ul>\n",
        "\n",
        "</div>\n",
        "\n",
        "<hr>\n"
      ]
    },
    {
      "cell_type": "markdown",
      "id": "c60065d3-cacb-4eee-88df-df5365a6d9b7",
      "metadata": {},
      "outputs": [],
      "source": [
        "### Create a Python List as follows:\n"
      ]
    },
    {
      "cell_type": "code",
      "id": "207f5047-4735-40ac-bd7b-69fbc3717fca",
      "metadata": {},
      "outputs": [],
      "source": [
        "# Create a python list\n\na = [\"0\", 1, \"two\", \"3\", 4]"
      ]
    },
    {
      "cell_type": "markdown",
      "id": "4a8e0cfb-ff5b-4347-b56e-33186d076fe8",
      "metadata": {},
      "outputs": [],
      "source": [
        "We can access the data via an index:\n"
      ]
    },
    {
      "cell_type": "markdown",
      "id": "2ad8e3dd-1c91-4ce7-9af6-c004b6b88136",
      "metadata": {},
      "outputs": [],
      "source": [
        "<img src=\"https://cf-courses-data.s3.us.cloud-object-storage.appdomain.cloud/IBMDeveloperSkillsNetwork-PY0101EN-SkillsNetwork/labs/Module%205/images/NumOneList.png\" width=\"660\">\n"
      ]
    },
    {
      "cell_type": "markdown",
      "id": "e7d1c890-fb35-4ff3-b8ca-3b37f125df19",
      "metadata": {},
      "outputs": [],
      "source": [
        "We can access each element using a square bracket as follows:\n"
      ]
    },
    {
      "cell_type": "code",
      "id": "351e1dc0-c719-4eb0-80ce-b7c05779fe64",
      "metadata": {},
      "outputs": [],
      "source": [
        "# Print each element\n\nprint(\"a[0]:\", a[0])\nprint(\"a[1]:\", a[1])\nprint(\"a[2]:\", a[2])\nprint(\"a[3]:\", a[3])\nprint(\"a[4]:\", a[4])"
      ]
    },
    {
      "cell_type": "markdown",
      "id": "fc38dabc-34d8-46a6-a481-0251974e8535",
      "metadata": {},
      "outputs": [],
      "source": [
        "<hr>\n"
      ]
    },
    {
      "cell_type": "markdown",
      "id": "bcfb1c2d-46ca-444e-9145-4a71314fbab4",
      "metadata": {},
      "outputs": [],
      "source": [
        "<h2 id=\"numpy\">What is Numpy?</h2>\n"
      ]
    },
    {
      "cell_type": "markdown",
      "id": "7a43fb46-10f9-48ac-82ae-aa49002b68eb",
      "metadata": {},
      "outputs": [],
      "source": [
        "NumPy is a Python library used for working with arrays, linear algebra, fourier transform, and matrices.A numpy array is similar to a list. NumPy stands for Numerical Python and it is an open source project.The array object in NumPy is called **ndarray**, it provides a lot of supporting functions that make working with ndarray very easy.\n",
        "\n",
        "Arrays are very frequently used in data science, where speed and resources are very important.\n",
        "\n",
        "NumPy is usually imported under the np alias.\n",
        "\n",
        "It's usually fixed in size and each element is of the same type. We can cast a list to a numpy array by first importing `numpy`:\n"
      ]
    },
    {
      "cell_type": "code",
      "id": "40eb438e-bd00-42e1-935b-97a9964ea183",
      "metadata": {},
      "outputs": [],
      "source": [
        "# import numpy library\n\nimport numpy as np "
      ]
    },
    {
      "cell_type": "markdown",
      "id": "bcb83244-00cc-437d-8558-99dc55fd72c3",
      "metadata": {},
      "outputs": [],
      "source": [
        "We then cast the list as follows:\n"
      ]
    },
    {
      "cell_type": "code",
      "id": "8bb4a87e-0ea5-48e0-ade3-29405d46f5b4",
      "metadata": {},
      "outputs": [],
      "source": [
        "# Create a numpy array\n\na = np.array([0, 1, 2, 3, 4])\na"
      ]
    },
    {
      "cell_type": "markdown",
      "id": "dbb76d9a-a55c-49cb-9e10-45edd0db52c6",
      "metadata": {},
      "outputs": [],
      "source": [
        "Each element is of the same type, in this case integers:\n"
      ]
    },
    {
      "cell_type": "markdown",
      "id": "3662aaf4-ecb9-4b8e-a6c9-8c4ce1b3449a",
      "metadata": {},
      "outputs": [],
      "source": [
        "<img src=\"https://cf-courses-data.s3.us.cloud-object-storage.appdomain.cloud/IBMDeveloperSkillsNetwork-PY0101EN-SkillsNetwork/labs/Module%205/images/NumOneNp.png\" width=\"500\">\n"
      ]
    },
    {
      "cell_type": "markdown",
      "id": "c77fee7c-5642-4264-8409-fc34218b7026",
      "metadata": {},
      "outputs": [],
      "source": [
        "As with lists, we can access each element via a square bracket:\n"
      ]
    },
    {
      "cell_type": "code",
      "id": "b99c7b36-04e7-4eba-9a0f-7eb988d3666b",
      "metadata": {},
      "outputs": [],
      "source": [
        "# Print each element\n\nprint(\"a[0]:\", a[0])\nprint(\"a[1]:\", a[1])\nprint(\"a[2]:\", a[2])\nprint(\"a[3]:\", a[3])\nprint(\"a[4]:\", a[4])"
      ]
    },
    {
      "cell_type": "markdown",
      "id": "062d7b95-798f-4882-aea3-f8bc63a1309a",
      "metadata": {},
      "outputs": [],
      "source": [
        "### Checking NumPy Version\n",
        "\n",
        "The version string is stored under **version** attribute.\n"
      ]
    },
    {
      "cell_type": "code",
      "id": "e7e0613c-7bd2-4f3b-9a55-1c936a5d976a",
      "metadata": {},
      "outputs": [],
      "source": [
        "print(np.__version__)"
      ]
    },
    {
      "cell_type": "markdown",
      "id": "924c78bb-7730-4156-8632-180f5ad5327f",
      "metadata": {},
      "outputs": [],
      "source": [
        "<h3 id=\"type\">Type</h3>\n"
      ]
    },
    {
      "cell_type": "markdown",
      "id": "f7686419-7fc7-4f5e-888b-26385508c104",
      "metadata": {},
      "outputs": [],
      "source": [
        "If we check the type of the array we get <b>numpy.ndarray</b>:\n"
      ]
    },
    {
      "cell_type": "code",
      "id": "820d16ed-902f-419d-aac1-f2ab45bdbd03",
      "metadata": {},
      "outputs": [],
      "source": [
        "# Check the type of the array\n\ntype(a)"
      ]
    },
    {
      "cell_type": "markdown",
      "id": "3642a076-7b95-4be6-9aa6-0fe75a63b991",
      "metadata": {},
      "outputs": [],
      "source": [
        "As numpy arrays contain data of the same type, we can use the attribute \"dtype\" to obtain the data type of the array’s elements. In this case, it's a 64-bit integer:\n"
      ]
    },
    {
      "cell_type": "code",
      "id": "e7b3e66c-1fbd-4522-a9c3-77799a371425",
      "metadata": {},
      "outputs": [],
      "source": [
        "# Check the type of the values stored in numpy array\n\na.dtype"
      ]
    },
    {
      "cell_type": "markdown",
      "id": "c57f365e-5743-450c-a8a2-41106111dbb0",
      "metadata": {},
      "outputs": [],
      "source": [
        "### Try it yourself\n",
        "\n",
        "Check the type of the array and Value type for the given array **b**\n"
      ]
    },
    {
      "cell_type": "code",
      "id": "587554b9-3955-4386-80c8-ca3ba45a849a",
      "metadata": {},
      "outputs": [],
      "source": [
        "b = np.array([3.1, 11.02, 6.2, 213.2, 5.2])\n\n# Enter your code here\n"
      ]
    },
    {
      "cell_type": "markdown",
      "id": "ba567851-654a-45fa-ae07-c16754cb362e",
      "metadata": {},
      "outputs": [],
      "source": [
        "<details><summary>Click here for the solution</summary>\n",
        "\n",
        "```python\n",
        "type(b)\n",
        "    \n",
        "b.dtype \n",
        "    \n",
        "If we examine the attribute dtype we see float 64, as the elements are not integers:\n",
        "```\n",
        "\n",
        "</details>\n"
      ]
    },
    {
      "cell_type": "markdown",
      "id": "ff0969a9-9ca8-4b23-83cf-099105a1f46c",
      "metadata": {},
      "outputs": [],
      "source": [
        "<h3 id=\"val\">Assign value</h3>\n"
      ]
    },
    {
      "cell_type": "markdown",
      "id": "58c26c85-723b-4657-b4b4-a7a4f867f732",
      "metadata": {},
      "outputs": [],
      "source": [
        "We can change the value of the array. Consider the array <code>c</code>:\n"
      ]
    },
    {
      "cell_type": "code",
      "id": "72637c78-e01a-411e-8c86-54d0a7096c10",
      "metadata": {},
      "outputs": [],
      "source": [
        "# Create numpy array\n\nc = np.array([20, 1, 2, 3, 4])\nc"
      ]
    },
    {
      "cell_type": "markdown",
      "id": "443d44b3-632d-4ff5-993a-91f637848ae8",
      "metadata": {},
      "outputs": [],
      "source": [
        "We can change the first element of the array to 100 as follows:\n"
      ]
    },
    {
      "cell_type": "code",
      "id": "d8b6f235-5e6e-4bf0-aa70-04907835a26f",
      "metadata": {},
      "outputs": [],
      "source": [
        "# Assign the first element to 100\n\nc[0] = 100\nc"
      ]
    },
    {
      "cell_type": "markdown",
      "id": "84cdc8f7-fb60-4339-841f-01c9c9bb2955",
      "metadata": {},
      "outputs": [],
      "source": [
        "We can change the 5th element of the array to 0 as follows:\n"
      ]
    },
    {
      "cell_type": "code",
      "id": "8bcd0654-8e65-438c-828a-a1daf71e963c",
      "metadata": {},
      "outputs": [],
      "source": [
        "# Assign the 5th element to 0\n\nc[4] = 0\nc"
      ]
    },
    {
      "cell_type": "markdown",
      "id": "eb9782b7-8de9-49cb-8eea-ff3af4488a8f",
      "metadata": {},
      "outputs": [],
      "source": [
        "### Try it yourself\n",
        "\n",
        "Assign the value 20 for the second element in the given array.\n"
      ]
    },
    {
      "cell_type": "code",
      "id": "7aa98a58-d9fb-49bb-9940-fc76c357b001",
      "metadata": {},
      "outputs": [],
      "source": [
        "a = np.array([10, 2, 30, 40,50])\n\n# Enter your code here\n"
      ]
    },
    {
      "cell_type": "markdown",
      "id": "0f9bc464-2818-496e-b037-d851de4f1dab",
      "metadata": {},
      "outputs": [],
      "source": [
        "<details><summary>Click here for the solution</summary>\n",
        "\n",
        "```python\n",
        "a[1]=20\n",
        "a\n",
        "   \n",
        "```\n",
        "\n",
        "</details>\n"
      ]
    },
    {
      "cell_type": "markdown",
      "id": "48e04ac9-54c0-4ade-8718-0817f6ac0432",
      "metadata": {},
      "outputs": [],
      "source": [
        "<h3 id=\"slice\">Slicing</h3>\n"
      ]
    },
    {
      "cell_type": "markdown",
      "id": "8106161c-1edb-47cb-9124-514783d00b3a",
      "metadata": {},
      "outputs": [],
      "source": [
        "Like lists, we can slice the numpy array. Slicing in python means taking the elements from the given index to another given index.\n",
        "\n",
        "We pass slice like this: \\[start:end].\n",
        "\n",
        "We can select the elements from 1 to 3 and assign it to a new numpy array <code>d</code> as follows:\n"
      ]
    },
    {
      "cell_type": "code",
      "id": "5eb32352-f9c3-48a2-a0cf-223a3e4bfd69",
      "metadata": {},
      "outputs": [],
      "source": [
        "# Slicing the numpy array\n\nd = c[1:4]\nd"
      ]
    },
    {
      "cell_type": "markdown",
      "id": "b2670494-0698-4993-9091-4c3d19097c5b",
      "metadata": {},
      "outputs": [],
      "source": [
        "We can assign the corresponding indexes to new values as follows:\n"
      ]
    },
    {
      "cell_type": "code",
      "id": "6995059d-97d0-48f9-b355-3d48098c2878",
      "metadata": {},
      "outputs": [],
      "source": [
        "# Set the fourth element and fifth element to 300 and 400\n\nc[3:5] = 300, 400\nc"
      ]
    },
    {
      "cell_type": "markdown",
      "id": "81cbdf3d-4563-4359-bc28-ac9aa34077cb",
      "metadata": {},
      "outputs": [],
      "source": [
        "We can also define the steps in slicing, like this: \\[start\\:end:step].\n"
      ]
    },
    {
      "cell_type": "code",
      "id": "57f28f3c-4e94-4cf4-938e-4ec4870b5406",
      "metadata": {},
      "outputs": [],
      "source": [
        "arr = np.array([1, 2, 3, 4, 5, 6, 7])\n\nprint(arr[1:5:2])"
      ]
    },
    {
      "cell_type": "markdown",
      "id": "3aa68738-21e2-4bf6-bc7d-24bce26ffd6b",
      "metadata": {},
      "outputs": [],
      "source": [
        "If we don't pass start its considered 0\n"
      ]
    },
    {
      "cell_type": "code",
      "id": "1a5a4e01-cf9a-449f-a391-1fb6cbc5d89a",
      "metadata": {},
      "outputs": [],
      "source": [
        "print(arr[:4])"
      ]
    },
    {
      "cell_type": "markdown",
      "id": "2c83e229-a2ad-4ea9-ab95-274f6f77081a",
      "metadata": {},
      "outputs": [],
      "source": [
        "If we don't pass end it considers till the length of array.\n"
      ]
    },
    {
      "cell_type": "code",
      "id": "d3e5ae47-2054-4282-ad21-2b9a50ccb4d6",
      "metadata": {},
      "outputs": [],
      "source": [
        "print(arr[4:])"
      ]
    },
    {
      "cell_type": "markdown",
      "id": "336e0fed-09a2-404f-9424-f1c1cc36f885",
      "metadata": {},
      "outputs": [],
      "source": [
        "If we don't pass step its considered 1\n"
      ]
    },
    {
      "cell_type": "code",
      "id": "4e8febb0-8be6-471c-9618-7c9160243a7d",
      "metadata": {},
      "outputs": [],
      "source": [
        "print(arr[1:5:])"
      ]
    },
    {
      "cell_type": "markdown",
      "id": "4e80de86-e174-48e9-88f4-fff712d05a5f",
      "metadata": {},
      "outputs": [],
      "source": [
        "### Try it yourself\n",
        "\n",
        "Print the even elements in the given array.\n"
      ]
    },
    {
      "cell_type": "code",
      "id": "5721958f-cd08-4552-ab4f-2d99cca61574",
      "metadata": {},
      "outputs": [],
      "source": [
        "arr = np.array([1, 2, 3, 4, 5, 6, 7, 8])\n\n# Enter your code here"
      ]
    },
    {
      "cell_type": "markdown",
      "id": "4c0240bf-b772-4faa-99d4-484d9cb34a06",
      "metadata": {},
      "outputs": [],
      "source": [
        "<details><summary>Click here for the solution</summary>\n",
        "\n",
        "```python\n",
        "print(arr[1:8:2])\n",
        "\n",
        "    \n",
        "```\n",
        "\n",
        "</details>\n"
      ]
    },
    {
      "cell_type": "markdown",
      "id": "ee304480-d3ce-4232-a787-a86d352757e5",
      "metadata": {},
      "outputs": [],
      "source": [
        "<h3 id=\"list\">Assign Value with List</h3>\n"
      ]
    },
    {
      "cell_type": "markdown",
      "id": "8ecd61b2-cab3-47b2-9a46-12b527cefd3d",
      "metadata": {},
      "outputs": [],
      "source": [
        "Similarly, we can use a list to select more than one specific index.\n",
        "The list `select` contains several values:\n"
      ]
    },
    {
      "cell_type": "code",
      "id": "a239a53b-36b2-41d2-bfe7-a61ad20ced71",
      "metadata": {},
      "outputs": [],
      "source": [
        "# Create the index list\n\nselect = [0, 2, 3, 4]\nselect"
      ]
    },
    {
      "cell_type": "markdown",
      "id": "d56a1792-1802-4c8d-af05-d075293e475e",
      "metadata": {},
      "outputs": [],
      "source": [
        "We can use the list as an argument in the brackets. The output is the elements corresponding to the particular indexes:\n"
      ]
    },
    {
      "cell_type": "code",
      "id": "50ec582c-915e-48d8-a785-bde38986c566",
      "metadata": {},
      "outputs": [],
      "source": [
        "# Use List to select elements\n\nd = c[select]\nd"
      ]
    },
    {
      "cell_type": "markdown",
      "id": "c47dd907-2f31-4036-9e60-e36ab9039f63",
      "metadata": {},
      "outputs": [],
      "source": [
        "We can assign the specified elements to a new value. For example, we can assign the values to 100 000 as follows:\n"
      ]
    },
    {
      "cell_type": "code",
      "id": "6df48440-effb-4ec5-a5c6-e6d16f3e63fe",
      "metadata": {},
      "outputs": [],
      "source": [
        "# Assign the specified elements to new value\n\nc[select] = 100000\nc"
      ]
    },
    {
      "cell_type": "markdown",
      "id": "b940f610-c042-48a0-9152-7675039a5636",
      "metadata": {},
      "outputs": [],
      "source": [
        "<h3 id=\"other\">Other Attributes</h3>\n"
      ]
    },
    {
      "cell_type": "markdown",
      "id": "47217a67-1360-476b-b716-2bcc051ce122",
      "metadata": {},
      "outputs": [],
      "source": [
        "Let's review some basic array attributes using the array <code>a</code>:\n"
      ]
    },
    {
      "cell_type": "code",
      "id": "123a3809-3d4b-4611-8ba4-fbccf76d0bbf",
      "metadata": {},
      "outputs": [],
      "source": [
        "# Create a numpy array\n\na = np.array([0, 1, 2, 3, 4])\na"
      ]
    },
    {
      "cell_type": "markdown",
      "id": "db299e46-72e1-49ff-b97b-414af375c352",
      "metadata": {},
      "outputs": [],
      "source": [
        "The attribute <code>size</code> is the number of elements in the array:\n"
      ]
    },
    {
      "cell_type": "code",
      "id": "01a18c55-ef7e-4dc6-8545-b4ac65235878",
      "metadata": {},
      "outputs": [],
      "source": [
        "# Get the size of numpy array\n\na.size"
      ]
    },
    {
      "cell_type": "markdown",
      "id": "4d7128d3-350d-4e61-9609-2dc77601a8f2",
      "metadata": {},
      "outputs": [],
      "source": [
        "The next two attributes will make more sense when we get to higher dimensions but let's review them. The attribute <code>ndim</code> represents the number of array dimensions, or the rank of the array. In this case, one:\n"
      ]
    },
    {
      "cell_type": "code",
      "id": "76167f28-091a-4648-b47e-4e445f45eb8a",
      "metadata": {},
      "outputs": [],
      "source": [
        "# Get the number of dimensions of numpy array\n\na.ndim"
      ]
    },
    {
      "cell_type": "markdown",
      "id": "7a6ab20c-7ba0-439d-be37-96f90e366d7f",
      "metadata": {},
      "outputs": [],
      "source": [
        "The attribute <code>shape</code> is a tuple of integers indicating the size of the array in each dimension:\n"
      ]
    },
    {
      "cell_type": "code",
      "id": "355846a6-3457-4a6b-8b01-aaf7244a0366",
      "metadata": {},
      "outputs": [],
      "source": [
        "# Get the shape/size of numpy array\n\na.shape"
      ]
    },
    {
      "cell_type": "markdown",
      "id": "24f836f1-15ae-42c2-83cf-5bf5b006d878",
      "metadata": {},
      "outputs": [],
      "source": [
        "### Try it yourself\n",
        "\n",
        "Find the size ,dimension and shape for the given array **b**\n"
      ]
    },
    {
      "cell_type": "code",
      "id": "0e220bb5-c37f-4681-9697-3ef7ec1a8ba8",
      "metadata": {},
      "outputs": [],
      "source": [
        "b = np.array([10, 20, 30, 40, 50, 60, 70])\n\n# Enter your code here"
      ]
    },
    {
      "cell_type": "markdown",
      "id": "0505f5c3-b611-4b23-b913-e512a9f4d150",
      "metadata": {},
      "outputs": [],
      "source": [
        "<details><summary>Click here for the solution</summary>\n",
        "\n",
        "```python\n",
        "b.size\n",
        "\n",
        "b.ndim\n",
        "\n",
        "b.shape\n",
        "\n",
        "    \n",
        "```\n",
        "\n",
        "</details>\n"
      ]
    },
    {
      "cell_type": "markdown",
      "id": "d6d9e045-d02f-47f5-9323-58c8deeec055",
      "metadata": {},
      "outputs": [],
      "source": [
        "### Numpy Statistical Functions\n"
      ]
    },
    {
      "cell_type": "code",
      "id": "37042802-04da-4c3a-8365-dfdc3a75c40c",
      "metadata": {},
      "outputs": [],
      "source": [
        "# Create a numpy array\n\na = np.array([1, -1, 1, -1])"
      ]
    },
    {
      "cell_type": "code",
      "id": "1b13084c-9c5c-47da-b680-3c7e04de35ba",
      "metadata": {},
      "outputs": [],
      "source": [
        "# Get the mean of numpy array\n\nmean = a.mean()\nmean"
      ]
    },
    {
      "cell_type": "code",
      "id": "4a164d67-866f-49d4-a248-07e8fd9ed2c0",
      "metadata": {},
      "outputs": [],
      "source": [
        "# Get the standard deviation of numpy array\n\nstandard_deviation=a.std()\nstandard_deviation"
      ]
    },
    {
      "cell_type": "code",
      "id": "b712eaf1-e7ec-41ae-b3cd-8b6d5840f78c",
      "metadata": {},
      "outputs": [],
      "source": [
        "# Create a numpy array\n\nb = np.array([-1, 2, 3, 4, 5])\nb"
      ]
    },
    {
      "cell_type": "code",
      "id": "08dd5ce4-1e2d-4d41-8ab7-352354924ec2",
      "metadata": {},
      "outputs": [],
      "source": [
        "# Get the biggest value in the numpy array\n\nmax_b = b.max()\nmax_b"
      ]
    },
    {
      "cell_type": "code",
      "id": "c450e129-8d7f-4991-b7d0-e1731b33b444",
      "metadata": {},
      "outputs": [],
      "source": [
        "# Get the smallest value in the numpy array\n\nmin_b = b.min()\nmin_b"
      ]
    },
    {
      "cell_type": "markdown",
      "id": "35025cd5-90cc-40ef-a3f1-c6113e460f95",
      "metadata": {},
      "outputs": [],
      "source": [
        "### Try it yourself\n",
        "\n",
        "Find the sum of maximum and minimum value in the given numpy array\n"
      ]
    },
    {
      "cell_type": "markdown",
      "id": "667e0f5e-f8d9-4a69-a9db-a53709d3e13b",
      "metadata": {},
      "outputs": [],
      "source": [
        "<hr>\n"
      ]
    },
    {
      "cell_type": "code",
      "id": "0c032f37-513a-4b47-82fb-adf76e678b23",
      "metadata": {},
      "outputs": [],
      "source": [
        "c = np.array([-10, 201, 43, 94, 502])\n\n# Enter your code here\n"
      ]
    },
    {
      "cell_type": "markdown",
      "id": "e0d8ba79-42dd-453a-a264-2d7914c59dfc",
      "metadata": {},
      "outputs": [],
      "source": [
        "<details><summary>Click here for the solution</summary>\n",
        "\n",
        "```python\n",
        "max_c = c.max()\n",
        "max_c\n",
        "    \n",
        "min_c = c.min()\n",
        "min_c\n",
        "    \n",
        "    \n",
        "Sum = (max_c +min_c)\n",
        "Sum\n",
        "\n",
        "    \n",
        "```\n",
        "\n",
        "</details>\n"
      ]
    },
    {
      "cell_type": "markdown",
      "id": "730ecd3f-2852-415c-a20e-748ba04317ed",
      "metadata": {},
      "outputs": [],
      "source": [
        "<h2 id=\"op\">Numpy Array Operations</h2>\n",
        "\n",
        "You could use arithmetic operators directly between NumPy arrays\n"
      ]
    },
    {
      "cell_type": "markdown",
      "id": "66e3128d-5d3e-4543-989d-7b9b0b8f78a4",
      "metadata": {},
      "outputs": [],
      "source": [
        "<h3 id=\"add\">Array Addition</h3>\n"
      ]
    },
    {
      "cell_type": "markdown",
      "id": "14fed3e9-a649-4a76-9449-f06f1e1ff702",
      "metadata": {},
      "outputs": [],
      "source": [
        "Consider the numpy array <code>u</code>:\n"
      ]
    },
    {
      "cell_type": "code",
      "id": "a0ec0a84-e7f9-4105-992b-df1094adf1e0",
      "metadata": {},
      "outputs": [],
      "source": [
        "u = np.array([1, 0])\nu"
      ]
    },
    {
      "cell_type": "markdown",
      "id": "a2c5e564-967d-481f-9db6-8ebd8cca8cfd",
      "metadata": {},
      "outputs": [],
      "source": [
        "Consider the numpy array <code>v</code>:\n"
      ]
    },
    {
      "cell_type": "code",
      "id": "57895e9f-fb20-4a6e-8a55-d56383ef0c71",
      "metadata": {},
      "outputs": [],
      "source": [
        "v = np.array([0, 1])\nv"
      ]
    },
    {
      "cell_type": "markdown",
      "id": "76a024d0-7e27-477c-9ee8-d32fd0dbdbbe",
      "metadata": {},
      "outputs": [],
      "source": [
        "We can add the two arrays and assign it to z:\n"
      ]
    },
    {
      "cell_type": "code",
      "id": "f7db6e33-c87c-447f-866a-abc3463450eb",
      "metadata": {},
      "outputs": [],
      "source": [
        "# Numpy Array Addition\n\nz = np.add(u, v)\nz"
      ]
    },
    {
      "cell_type": "markdown",
      "id": "13b3b383-9f0f-4e63-a5fa-b39ff0e09ccf",
      "metadata": {},
      "outputs": [],
      "source": [
        "The operation is equivalent to vector addition:\n"
      ]
    },
    {
      "cell_type": "code",
      "id": "15a35e21-1d14-40c4-856b-fac31960c0c7",
      "metadata": {},
      "outputs": [],
      "source": [
        "# Plotting functions\n\n\nimport time \nimport sys\nimport numpy as np \n\nimport matplotlib.pyplot as plt\n%matplotlib inline  \n\ndef Plotvec1(u, z, v):\n    \n    ax = plt.axes() # to generate the full window axes\n    ax.arrow(0, 0, *u, head_width=0.05, color='r', head_length=0.1)# Add an arrow to the  U Axes with arrow head width 0.05, color red and arrow head length 0.1\n    plt.text(*(u + 0.1), 'u')#Adds the text u to the Axes \n    \n    ax.arrow(0, 0, *v, head_width=0.05, color='b', head_length=0.1)# Add an arrow to the  v Axes with arrow head width 0.05, color red and arrow head length 0.1\n    plt.text(*(v + 0.1), 'v')#Adds the text v to the Axes \n    \n    ax.arrow(0, 0, *z, head_width=0.05, head_length=0.1)\n    plt.text(*(z + 0.1), 'z')#Adds the text z to the Axes \n    plt.ylim(-2, 2)#set the ylim to bottom(-2), top(2)\n    plt.xlim(-2, 2)#set the xlim to left(-2), right(2)\n\n  \n"
      ]
    },
    {
      "cell_type": "code",
      "id": "2b08f350-e0eb-4e84-842d-cef5c9068013",
      "metadata": {},
      "outputs": [],
      "source": [
        "# Plot numpy arrays\n\nPlotvec1(u, z, v)"
      ]
    },
    {
      "cell_type": "markdown",
      "id": "9d167e1e-2c5c-4a7b-b495-f9fa93ea71a7",
      "metadata": {},
      "outputs": [],
      "source": [
        "### Try it yourself\n",
        "\n",
        "Perform addition operation on the given numpy array arr1 and arr2:\n"
      ]
    },
    {
      "cell_type": "code",
      "id": "41a6c511-54bc-4357-9cf4-eaecfbb60a8b",
      "metadata": {},
      "outputs": [],
      "source": [
        "arr1 = np.array([10, 11, 12, 13, 14, 15])\narr2 = np.array([20, 21, 22, 23, 24, 25])\n\n# Enter your code here"
      ]
    },
    {
      "cell_type": "markdown",
      "id": "c8911a33-6668-4197-b856-2bf2e6fa88cf",
      "metadata": {},
      "outputs": [],
      "source": [
        "<details><summary>Click here for the solution</summary>\n",
        "\n",
        "```python\n",
        "arr3 = np.add(arr1, arr2)\n",
        "arr3\n",
        "\n",
        "    \n",
        "```\n",
        "\n",
        "</details>\n"
      ]
    },
    {
      "cell_type": "markdown",
      "id": "f72bebe5-0d24-456b-aebd-3beaf78ff60d",
      "metadata": {},
      "outputs": [],
      "source": [
        "### Array Subtraction\n"
      ]
    },
    {
      "cell_type": "markdown",
      "id": "d97e6666-fcb3-4d75-aa2a-079563fc4962",
      "metadata": {},
      "outputs": [],
      "source": [
        "Consider the numpy array a:\n"
      ]
    },
    {
      "cell_type": "code",
      "id": "97945b71-5288-4ed5-babb-ce03a33fe8ca",
      "metadata": {},
      "outputs": [],
      "source": [
        "a = np.array([10, 20, 30])\na"
      ]
    },
    {
      "cell_type": "markdown",
      "id": "2790b1d3-82cc-43fc-adb0-9969afba8ace",
      "metadata": {},
      "outputs": [],
      "source": [
        "Consider the numpy array b:\n"
      ]
    },
    {
      "cell_type": "code",
      "id": "e4f74ba7-fd15-4c38-8f0e-302756d85aab",
      "metadata": {},
      "outputs": [],
      "source": [
        "b = np.array([5, 10, 15])\nb"
      ]
    },
    {
      "cell_type": "markdown",
      "id": "72d970ca-5e9e-4387-8a74-0dfcc9bb1ea4",
      "metadata": {},
      "outputs": [],
      "source": [
        "We can subtract the two arrays and assign it to c:\n"
      ]
    },
    {
      "cell_type": "code",
      "id": "52c8f039-ac38-427d-a9bd-6379bb95b7e1",
      "metadata": {},
      "outputs": [],
      "source": [
        "c = np.subtract(a, b)\n\nprint(c)"
      ]
    },
    {
      "cell_type": "markdown",
      "id": "45ffd072-a225-463f-8cd0-dc1066d5918a",
      "metadata": {},
      "outputs": [],
      "source": [
        "### Try it yourself\n",
        "\n",
        "Perform subtraction operation on the given numpy array arr1 and arr2:\n"
      ]
    },
    {
      "cell_type": "code",
      "id": "d5361488-2e55-4633-8350-0818bbae90d0",
      "metadata": {},
      "outputs": [],
      "source": [
        "arr1 = np.array([10, 20, 30, 40, 50, 60])\narr2 = np.array([20, 21, 22, 23, 24, 25])\n\n# Enter your code here\n"
      ]
    },
    {
      "cell_type": "markdown",
      "id": "0dc143db-74e9-4ab7-a24b-7db7c11e2f39",
      "metadata": {},
      "outputs": [],
      "source": [
        "<details><summary>Click here for the solution</summary>\n",
        "\n",
        "```python\n",
        "arr3 = np.subtract(arr1, arr2)\n",
        "arr3\n",
        "\n",
        "    \n",
        "```\n",
        "\n",
        "</details>\n"
      ]
    },
    {
      "cell_type": "markdown",
      "id": "a7ba8cc8-55b5-4dc5-8a9f-4bde6d430be8",
      "metadata": {},
      "outputs": [],
      "source": [
        "<h3 id=\"multi\">Array Multiplication</h3>\n"
      ]
    },
    {
      "cell_type": "markdown",
      "id": "cc5df828-e1fc-45c7-8e02-4d30e8f884ee",
      "metadata": {},
      "outputs": [],
      "source": [
        "Consider the vector numpy array <code>y</code>:\n"
      ]
    },
    {
      "cell_type": "code",
      "id": "ec58a221-da25-42d5-85bf-aa40163bec64",
      "metadata": {},
      "outputs": [],
      "source": [
        "# Create a numpy array\n\nx = np.array([1, 2])\nx"
      ]
    },
    {
      "cell_type": "code",
      "id": "9ad3c633-b3c8-4274-b3e0-5a5880ef9354",
      "metadata": {},
      "outputs": [],
      "source": [
        "# Create a numpy array\n\ny = np.array([2, 1])\ny"
      ]
    },
    {
      "cell_type": "markdown",
      "id": "d8ad4ae3-4a22-443d-94e8-996d0b806b8c",
      "metadata": {},
      "outputs": [],
      "source": [
        "We can multiply every element in the array by 2:\n"
      ]
    },
    {
      "cell_type": "code",
      "id": "53690041-6416-4b89-9d5f-eef03d7558be",
      "metadata": {},
      "outputs": [],
      "source": [
        "# Numpy Array Multiplication\n\nz = np.multiply(x, y)\nz"
      ]
    },
    {
      "cell_type": "markdown",
      "id": "71e3dd91-2ff0-4bed-9d65-21b5ddcc098a",
      "metadata": {},
      "outputs": [],
      "source": [
        "This is equivalent to multiplying a vector by a scaler:\n"
      ]
    },
    {
      "cell_type": "markdown",
      "id": "e5f0a234-ce28-4a4e-8401-c979ade98c84",
      "metadata": {},
      "outputs": [],
      "source": [
        "### Try it yourself\n",
        "\n",
        "Perform multiply operation on the given numpy array arr1 and arr2:\n"
      ]
    },
    {
      "cell_type": "code",
      "id": "a1b4e6cd-a3b0-46ca-8dbb-c9d56df34140",
      "metadata": {},
      "outputs": [],
      "source": [
        "arr1 = np.array([10, 20, 30, 40, 50, 60])\narr2 = np.array([2, 1, 2, 3, 4, 5])\n\n# Enter your code here\n"
      ]
    },
    {
      "cell_type": "markdown",
      "id": "1d4d2661-1370-4ff7-b20f-7af970d65269",
      "metadata": {},
      "outputs": [],
      "source": [
        "<details><summary>Click here for the solution</summary>\n",
        "\n",
        "```python\n",
        "arr3 = np.multiply(arr1, arr2)\n",
        "arr3\n",
        "\n",
        "    \n",
        "```\n",
        "\n",
        "</details>\n"
      ]
    },
    {
      "cell_type": "markdown",
      "id": "ac8a2e0c-04a2-4457-891f-abb214164167",
      "metadata": {},
      "outputs": [],
      "source": [
        "### Array Division\n"
      ]
    },
    {
      "cell_type": "markdown",
      "id": "93ef2cb5-600f-4a2e-a7b8-04e348e2496a",
      "metadata": {},
      "outputs": [],
      "source": [
        "Consider the vector numpy array a:\n"
      ]
    },
    {
      "cell_type": "code",
      "id": "4572dff3-e634-407f-ad33-2108081cb913",
      "metadata": {},
      "outputs": [],
      "source": [
        "a = np.array([10, 20, 30])\na"
      ]
    },
    {
      "cell_type": "markdown",
      "id": "46659652-d4d7-4ab5-8312-b0864d45cb60",
      "metadata": {},
      "outputs": [],
      "source": [
        "Consider the vector numpy array b:\n"
      ]
    },
    {
      "cell_type": "code",
      "id": "68ea3a47-7210-40e0-ba6a-36965b684c14",
      "metadata": {},
      "outputs": [],
      "source": [
        "b = np.array([2, 10, 5])\nb"
      ]
    },
    {
      "cell_type": "markdown",
      "id": "44a0e4c8-6178-4dbf-9140-9e613776cd43",
      "metadata": {},
      "outputs": [],
      "source": [
        "We can divide the two arrays and assign it to c:\n"
      ]
    },
    {
      "cell_type": "code",
      "id": "8766893b-b8ea-48c9-889d-9db972379ebd",
      "metadata": {},
      "outputs": [],
      "source": [
        "c = np.divide(a, b)\nc"
      ]
    },
    {
      "cell_type": "markdown",
      "id": "171a563f-2f14-40f6-97a8-127dbfcd040f",
      "metadata": {},
      "outputs": [],
      "source": [
        "### Try it yourself\n",
        "\n",
        "Perform division operation on the given numpy array arr1 and arr2:\n"
      ]
    },
    {
      "cell_type": "code",
      "id": "e890a062-2d80-40fd-91cf-ab3d06cdb29c",
      "metadata": {},
      "outputs": [],
      "source": [
        "arr1 = np.array([10, 20, 30, 40, 50, 60])\narr2 = np.array([3, 5, 10, 8, 2, 33])\n\n# Enter your code here"
      ]
    },
    {
      "cell_type": "markdown",
      "id": "5eb757a0-e06f-4863-b753-e2f05cc0af32",
      "metadata": {},
      "outputs": [],
      "source": [
        "<details><summary>Click here for the solution</summary>\n",
        "\n",
        "```python\n",
        "arr3 = np.divide(arr1, arr2)\n",
        "arr3\n",
        "\n",
        "    \n",
        "```\n",
        "\n",
        "</details>\n"
      ]
    },
    {
      "cell_type": "markdown",
      "id": "ad48a36a-7d36-4d0e-b27b-91ee5dabe733",
      "metadata": {},
      "outputs": [],
      "source": [
        "<h3 id=\"dot\">Dot Product</h3>\n"
      ]
    },
    {
      "cell_type": "markdown",
      "id": "86a7fdc0-bc4e-4218-bdfe-2c72c756d57a",
      "metadata": {},
      "outputs": [],
      "source": [
        "The dot product of the two numpy arrays <code>u</code> and <code>v</code> is given by:\n"
      ]
    },
    {
      "cell_type": "code",
      "id": "0b9261c9-751e-4a52-a25d-68af9cd3e2ba",
      "metadata": {},
      "outputs": [],
      "source": [
        "X = np.array([1, 2])\nY = np.array([3, 2])"
      ]
    },
    {
      "cell_type": "code",
      "id": "4babb869-2705-42d3-b891-3ff8c39174d2",
      "metadata": {},
      "outputs": [],
      "source": [
        "# Calculate the dot product\n\nnp.dot(X, Y)"
      ]
    },
    {
      "cell_type": "code",
      "id": "8c033920-ee8f-462b-b79d-f4c8ef38b4c9",
      "metadata": {},
      "outputs": [],
      "source": [
        "#Elements of X\nprint(X[0])\nprint(X[1])"
      ]
    },
    {
      "cell_type": "code",
      "id": "55cf8e72-c2e7-4b91-848b-3486f8ee688d",
      "metadata": {},
      "outputs": [],
      "source": [
        "#Elements of Y\nprint(Y[0])\nprint(Y[1])"
      ]
    },
    {
      "cell_type": "markdown",
      "id": "8acf9a1b-06cb-4560-8cc2-17557419e453",
      "metadata": {},
      "outputs": [],
      "source": [
        "We are performing the dot product which is shown as below\n"
      ]
    },
    {
      "cell_type": "markdown",
      "id": "0d994761-d432-4319-99ed-5eca17d9889d",
      "metadata": {},
      "outputs": [],
      "source": [
        "<img src=\"https://cf-courses-data.s3.us.cloud-object-storage.appdomain.cloud/IBMDeveloperSkillsNetwork-PY0101EN-SkillsNetwork/labs/Module%205/images/dot1.png\">\n"
      ]
    },
    {
      "cell_type": "markdown",
      "id": "af3cf5f1-328d-4a9d-b29f-35e03f374a42",
      "metadata": {},
      "outputs": [],
      "source": [
        "### Try it yourself\n",
        "\n",
        "Perform dot operation on the given numpy array ar1 and ar2:\n"
      ]
    },
    {
      "cell_type": "code",
      "id": "5ba6065a-fc1f-487c-9752-31f738cccd4b",
      "metadata": {},
      "outputs": [],
      "source": [
        "arr1 = np.array([3, 5])\narr2 = np.array([2, 4])\n\n# Enter your code here\n"
      ]
    },
    {
      "cell_type": "markdown",
      "id": "755b3ae4-c066-4ed0-8abe-f9d3814f57c3",
      "metadata": {},
      "outputs": [],
      "source": [
        "<details><summary>Click here for the solution</summary>\n",
        "\n",
        "```python\n",
        "arr3 = np.dot(arr1, arr2)\n",
        "arr3\n",
        "\n",
        "    \n",
        "```\n",
        "\n",
        "</details>\n"
      ]
    },
    {
      "cell_type": "markdown",
      "id": "cd38576f-cd37-47b3-9e3c-234f61df0232",
      "metadata": {},
      "outputs": [],
      "source": [
        "<h3 id=\"cons\">Adding Constant to a Numpy Array</h3>\n"
      ]
    },
    {
      "cell_type": "markdown",
      "id": "5670c65e-3b4e-40f5-b455-ad61cca01e77",
      "metadata": {},
      "outputs": [],
      "source": [
        "Consider the following array:\n"
      ]
    },
    {
      "cell_type": "code",
      "id": "f448b864-15e1-4b74-989e-ed163fd0edb5",
      "metadata": {},
      "outputs": [],
      "source": [
        "# Create a constant to numpy array\n\nu = np.array([1, 2, 3, -1]) \nu"
      ]
    },
    {
      "cell_type": "markdown",
      "id": "691fb6a2-dcb0-439e-89b2-22311286cf55",
      "metadata": {},
      "outputs": [],
      "source": [
        "Adding the constant 1 to each element in the array:\n"
      ]
    },
    {
      "cell_type": "code",
      "id": "cc1b3a77-3954-4b01-bc3a-2f31bc159654",
      "metadata": {},
      "outputs": [],
      "source": [
        "# Add the constant to array\n\nu + 1"
      ]
    },
    {
      "cell_type": "markdown",
      "id": "333a3bf0-377d-4226-8679-28be9e53f831",
      "metadata": {},
      "outputs": [],
      "source": [
        "The process is summarised in the following animation:\n"
      ]
    },
    {
      "cell_type": "markdown",
      "id": "937b8940-dadd-4ebf-b29a-12503eec13be",
      "metadata": {},
      "outputs": [],
      "source": [
        "<img src=\"https://cf-courses-data.s3.us.cloud-object-storage.appdomain.cloud/IBMDeveloperSkillsNetwork-PY0101EN-SkillsNetwork/labs/Module%205/images/NumOneAdd.gif\" width=\"500\">\n"
      ]
    },
    {
      "cell_type": "markdown",
      "id": "8d0ae024-7b84-4973-aabb-97b59f4759b0",
      "metadata": {},
      "outputs": [],
      "source": [
        "### Try it yourself\n",
        "\n",
        "Add Constant 5 to the given numpy array ar:\n"
      ]
    },
    {
      "cell_type": "code",
      "id": "87312916-1ea0-4265-bee0-4aaea4234179",
      "metadata": {},
      "outputs": [],
      "source": [
        "arr = np.array([1, 2, 3, -1]) \n\n# Enter your code here\n"
      ]
    },
    {
      "cell_type": "markdown",
      "id": "59474b5a-4e34-421b-9cfd-e67b8ac9251d",
      "metadata": {},
      "outputs": [],
      "source": [
        "<details><summary>Click here for the solution</summary>\n",
        "\n",
        "```python\n",
        "arr + 5\n",
        "\n",
        "    \n",
        "```\n",
        "\n",
        "</details>\n"
      ]
    },
    {
      "cell_type": "markdown",
      "id": "bacab7fe-4618-4063-8438-4c80ddf1c246",
      "metadata": {},
      "outputs": [],
      "source": [
        "<hr>\n"
      ]
    },
    {
      "cell_type": "markdown",
      "id": "25d2a820-0d39-4341-b8ca-11614718c2db",
      "metadata": {},
      "outputs": [],
      "source": [
        "<h2 id=\"math\">Mathematical Functions</h2>\n"
      ]
    },
    {
      "cell_type": "markdown",
      "id": "bef4073d-df66-4b7b-baaa-8a66b9881f8c",
      "metadata": {},
      "outputs": [],
      "source": [
        "We can access the value of <code>pi</code> in numpy as follows :\n"
      ]
    },
    {
      "cell_type": "code",
      "id": "982ba7eb-09d6-4633-b7f7-bd25ea358c02",
      "metadata": {},
      "outputs": [],
      "source": [
        "# The value of pi\n\nnp.pi"
      ]
    },
    {
      "cell_type": "markdown",
      "id": "e2a0fc23-d1f9-4804-81f4-688708c18d06",
      "metadata": {},
      "outputs": [],
      "source": [
        "We can create the following numpy array in Radians:\n"
      ]
    },
    {
      "cell_type": "code",
      "id": "f8994890-7694-42d0-b773-a4fcf7112863",
      "metadata": {},
      "outputs": [],
      "source": [
        "# Create the numpy array in radians\n\nx = np.array([0, np.pi/2 , np.pi])"
      ]
    },
    {
      "cell_type": "markdown",
      "id": "beed32b5-5139-4403-a456-f6052c8abf72",
      "metadata": {},
      "outputs": [],
      "source": [
        "We can apply the function <code>sin</code> to the array <code>x</code> and assign the values to the array <code>y</code>; this applies the sine function to each element in the array:\n"
      ]
    },
    {
      "cell_type": "code",
      "id": "88c8299e-dabd-4a8c-948c-180287593b8d",
      "metadata": {},
      "outputs": [],
      "source": [
        "# Calculate the sin of each elements\n\ny = np.sin(x)\ny"
      ]
    },
    {
      "cell_type": "markdown",
      "id": "93d9e607-321e-40e6-8d71-d987e0adb407",
      "metadata": {},
      "outputs": [],
      "source": [
        "<hr>\n"
      ]
    },
    {
      "cell_type": "markdown",
      "id": "e132aa6a-2a2b-4da4-9a37-77cd8c1f2d47",
      "metadata": {},
      "outputs": [],
      "source": [
        "<h2 id=\"lin\">Linspace</h2>\n"
      ]
    },
    {
      "cell_type": "markdown",
      "id": "8b3812fc-52e5-47bb-9a5e-dc4cae3d90d2",
      "metadata": {},
      "outputs": [],
      "source": [
        "A useful function for plotting mathematical functions is <code>linspace</code>.   Linspace returns evenly spaced numbers over a specified interval.\n",
        "\n",
        "**numpy.linspace(start, stop, num = int value)**\n",
        "\n",
        "start  :  start of interval range\n",
        "\n",
        "stop   :  end of interval range\n",
        "\n",
        "num    :  Number of samples to generate.\n"
      ]
    },
    {
      "cell_type": "code",
      "id": "20cbda62-a882-4ccf-a7bb-b6306fe55414",
      "metadata": {},
      "outputs": [],
      "source": [
        "# Makeup a numpy array within [-2, 2] and 5 elements\n\nnp.linspace(-2, 2, num=5)"
      ]
    },
    {
      "cell_type": "markdown",
      "id": "fdf9877e-0f97-450d-9450-09a36944a608",
      "metadata": {},
      "outputs": [],
      "source": [
        "If we change the parameter <code>num</code> to 9, we get 9 evenly spaced numbers over the interval from -2 to 2:\n"
      ]
    },
    {
      "cell_type": "code",
      "id": "3a5e7646-2f29-498f-9a59-033d8e190f87",
      "metadata": {},
      "outputs": [],
      "source": [
        "# Make a numpy array within [-2, 2] and 9 elements\n\nnp.linspace(-2, 2, num=9)"
      ]
    },
    {
      "cell_type": "markdown",
      "id": "d6883bbe-eb8f-43c5-be04-206f8b662336",
      "metadata": {},
      "outputs": [],
      "source": [
        "We can use the function <code>linspace</code> to generate 100 evenly spaced samples from the interval 0 to 2π:\n"
      ]
    },
    {
      "cell_type": "code",
      "id": "73056cf6-7ea0-45d0-9edb-cac068509c36",
      "metadata": {},
      "outputs": [],
      "source": [
        "# Make a numpy array within [0, 2π] and 100 elements \n\nx = np.linspace(0, 2*np.pi, num=100)"
      ]
    },
    {
      "cell_type": "markdown",
      "id": "9b705399-453a-4852-afd2-70702375101e",
      "metadata": {},
      "outputs": [],
      "source": [
        "We can apply the sine function to each element in the array <code>x</code> and assign it to the array <code>y</code>:\n"
      ]
    },
    {
      "cell_type": "code",
      "id": "9709242b-7fb8-4fdf-a546-6724ea2fc1cc",
      "metadata": {},
      "outputs": [],
      "source": [
        "# Calculate the sine of x list\n\ny = np.sin(x)"
      ]
    },
    {
      "cell_type": "code",
      "id": "1f590c5f-32e1-48d6-80c1-c8a35276625c",
      "metadata": {},
      "outputs": [],
      "source": [
        "# Plot the result\n\nplt.plot(x, y)"
      ]
    },
    {
      "cell_type": "markdown",
      "id": "ce45bbfb-6763-4ae7-b694-b03f9440537a",
      "metadata": {},
      "outputs": [],
      "source": [
        "### Try it yourself\n",
        "\n",
        "Make a numpy array within \\[5, 4] and 6 elements\n"
      ]
    },
    {
      "cell_type": "code",
      "id": "56957f18-58ff-4706-a0e4-6ee8af75ea75",
      "metadata": {},
      "outputs": [],
      "source": [
        "# Enter your code here\n"
      ]
    },
    {
      "cell_type": "markdown",
      "id": "ec77d563-5190-45c9-a971-3443986f4c64",
      "metadata": {},
      "outputs": [],
      "source": [
        "<details><summary>Click here for the solution</summary>\n",
        "\n",
        "```python\n",
        "np.linspace(5, 4, num=6)\n",
        "\n",
        "    \n",
        "```\n",
        "\n",
        "</details>\n"
      ]
    },
    {
      "cell_type": "markdown",
      "id": "c9d15b8b-1716-4447-88bc-14aaf0797360",
      "metadata": {},
      "outputs": [],
      "source": [
        "<hr>\n"
      ]
    },
    {
      "cell_type": "markdown",
      "id": "add5e0ab-2dd2-48d3-96c1-a6173307d997",
      "metadata": {},
      "outputs": [],
      "source": [
        "### Iterating 1-D Arrays\n",
        "\n",
        "Iterating means going through elements one by one.\n",
        "\n",
        "If we iterate on a 1-D array it will go through each element one by one.\n"
      ]
    },
    {
      "cell_type": "markdown",
      "id": "212c89a2-ce1c-4114-84fa-d646c288c4a7",
      "metadata": {},
      "outputs": [],
      "source": [
        "If we execute the numpy array, we get in the array format\n"
      ]
    },
    {
      "cell_type": "code",
      "id": "63c9c98d-1ce2-4064-8e82-03a29114ff04",
      "metadata": {},
      "outputs": [],
      "source": [
        "arr1 = np.array([1, 2, 3])\nprint(arr1)"
      ]
    },
    {
      "cell_type": "markdown",
      "id": "41b8a6a5-b5d6-43fd-83e2-a4570c95c9e7",
      "metadata": {},
      "outputs": [],
      "source": [
        "But if you want to result in the form of the list, then you can use for loop:\n"
      ]
    },
    {
      "cell_type": "code",
      "id": "893a545b-d92f-4484-807b-ad22ac21b426",
      "metadata": {},
      "outputs": [],
      "source": [
        "for x in arr1:\n  print(x)"
      ]
    },
    {
      "cell_type": "markdown",
      "id": "4d09bea7-c062-47e5-8b55-a6f449da19fd",
      "metadata": {},
      "outputs": [],
      "source": [
        "<h2 id=\"quiz\">Quiz on 1D Numpy Array</h2>\n"
      ]
    },
    {
      "cell_type": "markdown",
      "id": "a9c81efb-85e0-4cf2-be99-e0c969c74132",
      "metadata": {},
      "outputs": [],
      "source": [
        "Implement the following vector subtraction in numpy: u-v\n"
      ]
    },
    {
      "cell_type": "code",
      "id": "5c1d0541-ce4b-4d36-b3f9-c5ed5fdc9159",
      "metadata": {},
      "outputs": [],
      "source": [
        "# Write your code below and press Shift+Enter to execute\n\nu = np.array([1, 0])\nv = np.array([0, 1])"
      ]
    },
    {
      "cell_type": "markdown",
      "id": "1bd4b81a-5bc6-447f-b48f-19a71bc3b13b",
      "metadata": {},
      "outputs": [],
      "source": [
        "<details><summary>Click here for the solution</summary>\n",
        "\n",
        "```python\n",
        "u - v\n",
        "```\n",
        "\n",
        "</details>\n"
      ]
    },
    {
      "cell_type": "markdown",
      "id": "c62f54ff-0b21-4518-b33f-b9d96b7879c8",
      "metadata": {},
      "outputs": [],
      "source": [
        "<hr>\n"
      ]
    },
    {
      "cell_type": "markdown",
      "id": "ca0145ec-3485-47f1-abe6-47db52fe6684",
      "metadata": {},
      "outputs": [],
      "source": [
        "Multiply the numpy array z with -2:\n"
      ]
    },
    {
      "cell_type": "code",
      "id": "5f05b27a-ff08-40a2-a079-fc3b996f6c92",
      "metadata": {},
      "outputs": [],
      "source": [
        "# Write your code below and press Shift+Enter to execute\n\nz = np.array([2, 4])"
      ]
    },
    {
      "cell_type": "markdown",
      "id": "996ce5f2-f50b-48c0-bc2c-cdf034130eb1",
      "metadata": {},
      "outputs": [],
      "source": [
        "<details><summary>Click here for the solution</summary>\n",
        "\n",
        "```python\n",
        "-2 * z\n",
        "```\n",
        "\n",
        "</details>\n"
      ]
    },
    {
      "cell_type": "markdown",
      "id": "612b81e1-a03f-46a2-aa19-576185f5695a",
      "metadata": {},
      "outputs": [],
      "source": [
        "<hr>\n"
      ]
    },
    {
      "cell_type": "markdown",
      "id": "3d93ffa6-f1c6-4bb9-829e-49856596573f",
      "metadata": {},
      "outputs": [],
      "source": [
        "Consider the list <code>\\[1, 2, 3, 4, 5]</code> and <code>\\[1, 0, 1, 0, 1]</code>. Cast both lists to a numpy array then multiply them together:\n"
      ]
    },
    {
      "cell_type": "code",
      "id": "dca4eafb-8fe3-4a01-887c-2771fe0893f1",
      "metadata": {},
      "outputs": [],
      "source": [
        "# Write your code below and press Shift+Enter to execute\n"
      ]
    },
    {
      "cell_type": "markdown",
      "id": "697543c2-7528-4bf6-8398-9dad59411372",
      "metadata": {},
      "outputs": [],
      "source": [
        "<details><summary>Click here for the solution</summary>\n",
        "\n",
        "```python\n",
        "a = np.array([1, 2, 3, 4, 5])\n",
        "b = np.array([1, 0, 1, 0, 1])\n",
        "a * b\n",
        "```\n",
        "\n",
        "</details>\n"
      ]
    },
    {
      "cell_type": "markdown",
      "id": "cdb0f9b2-6076-44f7-aa48-5dbf81ec94a5",
      "metadata": {},
      "outputs": [],
      "source": [
        "<hr>\n"
      ]
    },
    {
      "cell_type": "code",
      "id": "e2d3cac8-2334-476d-ad0f-3485f175df57",
      "metadata": {},
      "outputs": [],
      "source": [
        "# Import the libraries\n\nimport time \nimport sys\nimport numpy as np \n\nimport matplotlib.pyplot as plt\n%matplotlib inline  \n\ndef Plotvec2(a,b):\n    ax = plt.axes()# to generate the full window axes\n    ax.arrow(0, 0, *a, head_width=0.05, color ='r', head_length=0.1)#Add an arrow to the  a Axes with arrow head width 0.05, color red and arrow head length 0.1\n    plt.text(*(a + 0.1), 'a')\n    ax.arrow(0, 0, *b, head_width=0.05, color ='b', head_length=0.1)#Add an arrow to the  b Axes with arrow head width 0.05, color blue and arrow head length 0.1\n    plt.text(*(b + 0.1), 'b')\n    plt.ylim(-2, 2)#set the ylim to bottom(-2), top(2)\n    plt.xlim(-2, 2)#set the xlim to left(-2), right(2)\n    \n    \n"
      ]
    },
    {
      "cell_type": "markdown",
      "id": "b7588bcf-7315-44c1-b7a7-39d72469b3da",
      "metadata": {},
      "outputs": [],
      "source": [
        "Convert the list <code>\\[-1, 1]</code> and <code>\\[1, 1]</code> to numpy arrays <code>a</code> and <code>b</code>. Then, plot the arrays as vectors using the fuction <code>Plotvec2</code> and find their dot product:\n"
      ]
    },
    {
      "cell_type": "code",
      "id": "a9e87b56-aeee-4ffa-8bfa-ea58d999d803",
      "metadata": {},
      "outputs": [],
      "source": [
        "# Write your code below and press Shift+Enter to execute\n"
      ]
    },
    {
      "cell_type": "markdown",
      "id": "6d8f36ec-4667-456f-80a8-1587e4d665e2",
      "metadata": {},
      "outputs": [],
      "source": [
        "<details><summary>Click here for the solution</summary>\n",
        "\n",
        "```python\n",
        "\n",
        "\n",
        "a = np.array([-1, 1])\n",
        "b = np.array([1, 1])\n",
        "Plotvec2(a, b)\n",
        "print(\"The dot product is\", np.dot(a,b))\n",
        "\n",
        "```\n",
        "\n",
        "</details>\n"
      ]
    },
    {
      "cell_type": "markdown",
      "id": "9cb3806b-2f25-4b81-ac0a-238097265f4f",
      "metadata": {},
      "outputs": [],
      "source": [
        "<hr>\n"
      ]
    },
    {
      "cell_type": "markdown",
      "id": "60c754b5-63e5-4547-bca8-9ca2fa76e206",
      "metadata": {},
      "outputs": [],
      "source": [
        "Convert the list <code>\\[1, 0]</code> and <code>\\[0, 1]</code> to numpy arrays <code>a</code> and <code>b</code>. Then, plot the arrays as vectors using the function <code>Plotvec2</code> and find their dot product:\n"
      ]
    },
    {
      "cell_type": "code",
      "id": "316c7555-796a-4a99-8826-6cfbb0ff88d8",
      "metadata": {},
      "outputs": [],
      "source": [
        "# Write your code below and press Shift+Enter to execute\n"
      ]
    },
    {
      "cell_type": "markdown",
      "id": "eea4baef-03ff-43f8-8405-6df902dc40ca",
      "metadata": {},
      "outputs": [],
      "source": [
        "<details><summary>Click here for the solution</summary>\n",
        "\n",
        "```python\n",
        "a = np.array([1, 0])\n",
        "b = np.array([0, 1])\n",
        "Plotvec2(a, b)\n",
        "print(\"The dot product is\", np.dot(a, b))\n",
        "\n",
        "```\n",
        "\n",
        "</details>\n"
      ]
    },
    {
      "cell_type": "markdown",
      "id": "afe2d3f8-9de2-4d84-a76b-63def8ea50cc",
      "metadata": {},
      "outputs": [],
      "source": [
        "<hr>\n"
      ]
    },
    {
      "cell_type": "markdown",
      "id": "5b6737e6-a523-44e4-991a-dd7a00aaf077",
      "metadata": {},
      "outputs": [],
      "source": [
        "Convert the list <code>\\[1, 1]</code> and <code>\\[0, 1]</code> to numpy arrays <code>a</code> and <code>b</code>. Then plot the arrays as vectors using the fuction <code>Plotvec2</code> and find their dot product:\n"
      ]
    },
    {
      "cell_type": "code",
      "id": "785d5d65-ea30-483b-811e-15a187b5b6e1",
      "metadata": {},
      "outputs": [],
      "source": [
        "# Write your code below and press Shift+Enter to execute\n"
      ]
    },
    {
      "cell_type": "markdown",
      "id": "b2c0db7b-c80b-42eb-a1d1-d3192c45d9fd",
      "metadata": {},
      "outputs": [],
      "source": [
        "<details><summary>Click here for the solution</summary>\n",
        "\n",
        "```python\n",
        "a = np.array([1, 1])\n",
        "b = np.array([0, 1])\n",
        "Plotvec2(a, b)\n",
        "print(\"The dot product is\", np.dot(a, b))\n",
        "\n",
        "```\n",
        "\n",
        "</details>\n"
      ]
    },
    {
      "cell_type": "markdown",
      "id": "e360b6de-3db7-407d-a7df-f4fa3d2f556a",
      "metadata": {},
      "outputs": [],
      "source": [
        "<hr>\n"
      ]
    },
    {
      "cell_type": "markdown",
      "id": "60146883-c4c7-4031-957f-dd93b4ffa6cc",
      "metadata": {},
      "outputs": [],
      "source": [
        "Why are the results of the dot product for <code>\\[-1, 1]</code> and <code>\\[1, 1]</code> and the dot product for <code>\\[1, 0]</code> and <code>\\[0, 1]</code> zero, but not zero for the dot product for <code>\\[1, 1]</code> and <code>\\[0, 1]</code>? <p><i>Hint: Study the corresponding figures, pay attention to the direction the arrows are pointing to.</i></p>\n"
      ]
    },
    {
      "cell_type": "code",
      "id": "5b05caf7-5e3b-4566-a5cf-e5a99012757b",
      "metadata": {},
      "outputs": [],
      "source": [
        "# Write your code below and press Shift+Enter to execute\n"
      ]
    },
    {
      "cell_type": "markdown",
      "id": "670d5775-1b69-47b5-8a4f-eac93d1681f4",
      "metadata": {},
      "outputs": [],
      "source": [
        "<details><summary>Click here for the solution</summary>\n",
        "\n",
        "```python\n",
        "The vectors used for question 4 and 5 are perpendicular. As a result, the dot product is zero. \n",
        "\n",
        "```\n",
        "\n",
        "</details>\n"
      ]
    },
    {
      "cell_type": "markdown",
      "id": "d4cea814-a780-444f-a56e-ffde36eed8d5",
      "metadata": {},
      "outputs": [],
      "source": [
        "Convert the list <code>\\[1, 2, 3]</code> and <code>\\[8, 9, 10]</code> to numpy arrays <code>arr1</code> and <code>arr2</code>. Then perform <code>Addition</code> , <code>Subtraction</code> , <code>Multiplication</code> , <code>Division</code> and <code>Dot Operation</code> on the <code>arr1</code> and <code>arr2</code>.\n"
      ]
    },
    {
      "cell_type": "code",
      "id": "ccce1595-b153-4360-94cd-5397dd5d5ed7",
      "metadata": {},
      "outputs": [],
      "source": [
        "# Write your code below and press Shift+Enter to execute\n"
      ]
    },
    {
      "cell_type": "markdown",
      "id": "2a3efdeb-6d10-4469-8ad9-4d84e477f8fd",
      "metadata": {},
      "outputs": [],
      "source": [
        "<details><summary>Click here for the solution</summary>\n",
        "\n",
        "```python\n",
        "arr1 = np.array([1, 2, 3])\n",
        "arr2 = np.array([8, 9, 10])\n",
        "\n",
        "arr3 = np.add(arr1, arr2)\n",
        "arr3\n",
        "\n",
        "arr4 = np.subtract(arr1, arr2)\n",
        "arr4\n",
        "\n",
        "arr5 = np.multiply(arr1, arr2)\n",
        "arr5\n",
        "\n",
        "\n",
        "arr6 = np.divide(arr1, arr2)\n",
        "arr6\n",
        "\n",
        "arr7 = np.dot(arr1, arr2)\n",
        "arr7\n",
        "```\n",
        "\n",
        "</details>\n"
      ]
    },
    {
      "cell_type": "markdown",
      "id": "03d706a0-08b6-4986-93f1-4244f780e537",
      "metadata": {},
      "outputs": [],
      "source": [
        "Convert the list <code>\\[1, 2, 3, 4, 5]</code> and <code>\\[6, 7, 8, 9, 10]</code> to numpy arrays <code>arr1</code> and <code>arr2</code>. Then find the even and odd numbers from <code>arr1</code> and <code>arr2</code>.\n"
      ]
    },
    {
      "cell_type": "code",
      "id": "dfa04a4c-73e0-44f9-8fd4-c134590dcd3a",
      "metadata": {},
      "outputs": [],
      "source": [
        "# Write your code below and press Shift+Enter to execute\n\n"
      ]
    },
    {
      "cell_type": "markdown",
      "id": "18e464fd-ebfc-4c2a-baef-389fdec24bd6",
      "metadata": {},
      "outputs": [],
      "source": [
        "<details><summary>Click here for the solution</summary>\n",
        "\n",
        "```python\n",
        "arr1 = np.array([1, 2, 3, 4, 5])\n",
        "arr2 = np.array([6, 7, 8, 9, 10])\n",
        "\n",
        "x = arr1[1:8:2]\n",
        "x\n",
        "   \n",
        "y = arr2[0:8:2]\n",
        "y   \n",
        "\n",
        "```\n",
        "\n",
        "</details>\n"
      ]
    },
    {
      "cell_type": "markdown",
      "id": "d875c2f2-4752-46ab-a8b9-e152cf3fe23a",
      "metadata": {},
      "outputs": [],
      "source": [
        "<hr>\n",
        "<h2>The last exercise!</h2>\n",
        "<p>Congratulations, you have completed your first lesson and hands-on lab in Python. \n",
        "<hr>\n"
      ]
    },
    {
      "cell_type": "markdown",
      "id": "ef960286-c175-4e54-91b1-c5af6e60a697",
      "metadata": {},
      "outputs": [],
      "source": [
        "## Author\n",
        "\n",
        "<a href=\"https://www.linkedin.com/in/joseph-s-50398b136/?utm_medium=Exinfluencer&utm_source=Exinfluencer&utm_content=000026UJ&utm_term=10006555&utm_id=NA-SkillsNetwork-Channel-SkillsNetworkCoursesIBMDeveloperSkillsNetworkPY0101ENSkillsNetwork19487395-2021-01-01\">Joseph Santarcangelo</a>\n",
        "\n",
        "## Other contributors\n",
        "\n",
        "<a href=\"https://www.linkedin.com/in/jiahui-mavis-zhou-a4537814a?utm_medium=Exinfluencer&utm_source=Exinfluencer&utm_content=000026UJ&utm_term=10006555&utm_id=NA-SkillsNetwork-Channel-SkillsNetworkCoursesIBMDeveloperSkillsNetworkPY0101ENSkillsNetwork19487395-2021-01-01\">Mavis Zhou</a>\n",
        "\n",
        "## Change Log\n",
        "\n",
        "| Date (YYYY-MM-DD) | Version | Changed By | Change Description                  |\n",
        "| ----------------- | ------- | ---------- | ----------------------------------- |\n",
        "| 2022-03-08        | 2.2     | Niveditha  | Modified and added practice problem |\n",
        "| 2022-01-10        | 2.1     | Malika     | Removed the readme for GitShare     |\n",
        "| 2020-08-26        | 2.0     | Lavanya    | Moved lab to course repo in GitLab  |\n",
        "|                   |         |            |                                     |\n",
        "|                   |         |            |                                     |\n",
        "\n",
        "<hr/>\n",
        "\n",
        "## <h3 align=\"center\"> © IBM Corporation 2020. All rights reserved. <h3/>\n"
      ]
    },
    {
      "cell_type": "code",
      "id": "dee5c30a-0c5c-4273-bcd8-6f674ce62cde",
      "metadata": {},
      "outputs": [],
      "source": [
        ""
      ]
    }
  ],
  "metadata": {
    "kernelspec": {
      "display_name": "Python",
      "language": "python",
      "name": "conda-env-python-py"
    },
    "language_info": {
      "name": ""
    }
  },
  "nbformat": 4,
  "nbformat_minor": 4
}