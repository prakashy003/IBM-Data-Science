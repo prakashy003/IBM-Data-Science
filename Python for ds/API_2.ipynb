{
  "cells": [
    {
      "cell_type": "markdown",
      "id": "a66e9ef5-f1b5-4dbe-a281-97d58607cf46",
      "metadata": {},
      "outputs": [],
      "source": [
        "<center>\n",
        "    <img src=\"https://cf-courses-data.s3.us.cloud-object-storage.appdomain.cloud/IBMDeveloperSkillsNetwork-PY0101EN-SkillsNetwork/IDSNlogo.png\" width=\"300\" alt=\"cognitiveclass.ai logo\">\n",
        "</center>\n",
        "\n",
        "# Watson Speech to Text Translator\n",
        "\n",
        "Estimated time needed: **25** minutes\n",
        "\n",
        "## Objectives\n",
        "\n",
        "After completing this lab you will be able to:\n",
        "\n",
        "*   Operate a Speech to Text Translator through an API\n"
      ]
    },
    {
      "cell_type": "markdown",
      "id": "72907960-be8a-4960-939b-87ece74f138d",
      "metadata": {},
      "outputs": [],
      "source": [
        "### Introduction\n",
        "\n",
        "<p>In this notebook, you will learn to convert an audio file of an English speaker to text using a Speech to Text API. Then, you will translate the English version to a Spanish version using a Language Translator API. <b>Note:</b> You must obtain the API keys and endpoints to complete the lab.</p>\n"
      ]
    },
    {
      "cell_type": "markdown",
      "id": "da333672-6ec6-4a78-b7aa-94bff40abaf1",
      "metadata": {},
      "outputs": [],
      "source": [
        "<div class=\"alert alert-block alert-info\" style=\"margin-top: 20px\">\n",
        "<h2>Table of Contents</h2>\n",
        "<ul>\n",
        "    <li><a href=\"https://#ref0\">Speech To Text</a></li>\n",
        "    <li><a href=\"https://#ref1\">Language Translator</a></li>\n",
        "    <li><a href=\"https://#ref2\">Exercise</a></li>\n",
        "</ul>\n",
        "</div>\n"
      ]
    },
    {
      "cell_type": "code",
      "id": "07c9ca84-e21a-455f-885f-5718bff71ce4",
      "metadata": {},
      "outputs": [],
      "source": [
        "#you will need the following library \n!pip install ibm_watson wget"
      ]
    },
    {
      "cell_type": "markdown",
      "id": "4c39ec21-d6e2-40f6-b5f3-68f80b3c6a3a",
      "metadata": {},
      "outputs": [],
      "source": [
        "<h2 id=\"ref0\">Speech to Text</h2>\n"
      ]
    },
    {
      "cell_type": "markdown",
      "id": "5c5d005e-bd85-4ee9-88c6-72c569ccf570",
      "metadata": {},
      "outputs": [],
      "source": [
        "<p>First we import <code>SpeechToTextV1</code> from <code>IBM_Watson</code>. For more information on the API, please click on this <a href=\"https://cloud.ibm.com/apidocs/speech-to-text?utm_medium=Exinfluencer&utm_source=Exinfluencer&utm_content=000026UJ&utm_term=10006555&utm_id=NA-SkillsNetwork-Channel-SkillsNetworkCoursesIBMDeveloperSkillsNetworkPY0101ENSkillsNetwork19487395-2021-01-01&code=python\">link</a>.</p>\n"
      ]
    },
    {
      "cell_type": "code",
      "id": "59503c4d-132e-4c31-8bab-f0852b74e069",
      "metadata": {},
      "outputs": [],
      "source": [
        "from ibm_watson import SpeechToTextV1 \nimport json\nfrom ibm_cloud_sdk_core.authenticators import IAMAuthenticator"
      ]
    },
    {
      "cell_type": "markdown",
      "id": "71870161-6935-4061-b234-54b288deac15",
      "metadata": {},
      "outputs": [],
      "source": [
        "<p>The service endpoint is based on the location of the service instance, we store the information in the variable URL. To find out which URL to use, view the service credentials and paste the URL here.</p>\n"
      ]
    },
    {
      "cell_type": "code",
      "id": "207ce7c2-8d8f-4c2a-ad4b-cee2a281e431",
      "metadata": {},
      "outputs": [],
      "source": [
        "url_s2t = \"\""
      ]
    },
    {
      "cell_type": "markdown",
      "id": "9cf0bce7-2754-4472-8a1f-9c529eb34437",
      "metadata": {},
      "outputs": [],
      "source": [
        "<p>You require an API key, and you can obtain the key on the <a href=\"https://cloud.ibm.com/resources?utm_medium=Exinfluencer&utm_source=Exinfluencer&utm_content=000026UJ&utm_term=10006555&utm_id=NA-SkillsNetwork-Channel-SkillsNetworkCoursesIBMDeveloperSkillsNetworkPY0101ENSkillsNetwork19487395-2021-01-01\">Dashboard </a>.</p>\n"
      ]
    },
    {
      "cell_type": "code",
      "id": "097bd707-d87a-4fe8-8a73-78c8be52d59d",
      "metadata": {},
      "outputs": [],
      "source": [
        "iam_apikey_s2t = \"\""
      ]
    },
    {
      "cell_type": "markdown",
      "id": "f7482ff3-b019-449e-9b8a-74b0cebc879b",
      "metadata": {},
      "outputs": [],
      "source": [
        "<p>You create a <a href=\"http://watson-developer-cloud.github.io/python-sdk/v0.25.0/apis/watson_developer_cloud.speech_to_text_v1.html?utm_medium=Exinfluencer&utm_source=Exinfluencer&utm_content=000026UJ&utm_term=10006555&utm_id=NA-SkillsNetwork-Channel-SkillsNetworkCoursesIBMDeveloperSkillsNetworkPY0101ENSkillsNetwork19487395-2021-01-01\">Speech To Text Adapter object</a> the parameters are the endpoint and API key.</p>\n"
      ]
    },
    {
      "cell_type": "code",
      "id": "131fa45f-74a9-4455-86a7-abe1274c17a2",
      "metadata": {},
      "outputs": [],
      "source": [
        "authenticator = IAMAuthenticator(iam_apikey_s2t)\ns2t = SpeechToTextV1(authenticator=authenticator)\ns2t.set_service_url(url_s2t)\ns2t"
      ]
    },
    {
      "cell_type": "markdown",
      "id": "fef3f2e6-e6da-4c1c-bfbd-2e679c87af2f",
      "metadata": {},
      "outputs": [],
      "source": [
        "<p>Lets download the audio file that we will use to convert into text.</p>\n"
      ]
    },
    {
      "cell_type": "code",
      "id": "a44dd1b2-f9a0-47d8-96b1-dc4a5031b223",
      "metadata": {},
      "outputs": [],
      "source": [
        "!wget -O PolynomialRegressionandPipelines.mp3  https://cf-courses-data.s3.us.cloud-object-storage.appdomain.cloud/IBMDeveloperSkillsNetwork-PY0101EN-SkillsNetwork/labs/Module%205/data/PolynomialRegressionandPipelines.mp3\n\n"
      ]
    },
    {
      "cell_type": "markdown",
      "id": "6f1a7f28-184f-42eb-9be9-e270a8050a65",
      "metadata": {},
      "outputs": [],
      "source": [
        "<p>We have the path of the .wav file we would like to convert to text</p>\n"
      ]
    },
    {
      "cell_type": "code",
      "id": "6ce80f3f-dd3f-47ed-9f69-323255f29c75",
      "metadata": {},
      "outputs": [],
      "source": [
        "filename='PolynomialRegressionandPipelines.mp3'"
      ]
    },
    {
      "cell_type": "markdown",
      "id": "ac40e1bb-1b52-4d81-a81c-db59c31f5a77",
      "metadata": {},
      "outputs": [],
      "source": [
        "<p>We create the file object <code>wav</code> with the wav file using <code>open</code>. We set the <code>mode</code> to  \"rb\" ,  this is similar to read mode, but it ensures the file is in binary mode. We use the method <code>recognize</code> to return the recognized text. The parameter <code>audio</code> is the file object <code>wav</code>, the parameter <code>content_type</code> is the format of the audio file.</p>\n"
      ]
    },
    {
      "cell_type": "code",
      "id": "06eadd2e-99f0-4cbc-aebc-7dc699989f1f",
      "metadata": {},
      "outputs": [],
      "source": [
        "with open(filename, mode=\"rb\")  as wav:\n    response = s2t.recognize(audio=wav, content_type='audio/mp3')"
      ]
    },
    {
      "cell_type": "markdown",
      "id": "41364935-6e0a-4065-8037-11edea982545",
      "metadata": {},
      "outputs": [],
      "source": [
        "<p>The attribute result contains a dictionary that includes the translation:</p>\n"
      ]
    },
    {
      "cell_type": "code",
      "id": "7fcd5e76-ab73-4aa8-90a3-4f4a69d6a77f",
      "metadata": {},
      "outputs": [],
      "source": [
        "response.result"
      ]
    },
    {
      "cell_type": "code",
      "id": "154c8520-3219-441d-b2ad-939db24c6863",
      "metadata": {},
      "outputs": [],
      "source": [
        "from pandas import json_normalize\n\njson_normalize(response.result['results'],\"alternatives\")"
      ]
    },
    {
      "cell_type": "code",
      "id": "cce53007-be85-4ebe-a663-5a5c0680116f",
      "metadata": {},
      "outputs": [],
      "source": [
        "response"
      ]
    },
    {
      "cell_type": "markdown",
      "id": "b99bc49a-fd18-4d2d-9b60-ee94dfd5bc52",
      "metadata": {},
      "outputs": [],
      "source": [
        "<p>We can obtain the recognized text and assign it to the variable <code>recognized_text</code>:</p>\n"
      ]
    },
    {
      "cell_type": "code",
      "id": "ede34654-3554-4f70-abb6-dcda09046627",
      "metadata": {},
      "outputs": [],
      "source": [
        "recognized_text=response.result['results'][0][\"alternatives\"][0][\"transcript\"]\ntype(recognized_text)"
      ]
    },
    {
      "cell_type": "markdown",
      "id": "0751bdc7-e8e4-4276-9abd-c4b3a4bc5e2b",
      "metadata": {},
      "outputs": [],
      "source": [
        "<h2 id=\"ref1\">Language Translator</h2>\n"
      ]
    },
    {
      "cell_type": "markdown",
      "id": "c9561136-b5e1-4c40-87e2-32221c19860d",
      "metadata": {},
      "outputs": [],
      "source": [
        "<p>First we import <code>LanguageTranslatorV3</code> from ibm_watson. For more information on the API click <a href=\"https://cloud.ibm.com/apidocs/speech-to-text?utm_medium=Exinfluencer&utm_source=Exinfluencer&utm_content=000026UJ&utm_term=10006555&utm_id=NA-SkillsNetwork-Channel-SkillsNetworkCoursesIBMDeveloperSkillsNetworkPY0101ENSkillsNetwork19487395-2021-01-01&code=python\"> here</a></p>\n"
      ]
    },
    {
      "cell_type": "code",
      "id": "0c0d1d0a-e87e-4806-8f83-47632cb964df",
      "metadata": {},
      "outputs": [],
      "source": [
        "from ibm_watson import LanguageTranslatorV3"
      ]
    },
    {
      "cell_type": "markdown",
      "id": "1a1eb6b2-c073-42e1-b697-81d712abb4da",
      "metadata": {},
      "outputs": [],
      "source": [
        "<p>The service endpoint is based on the location of the service instance, we store the information in the variable URL. To find out which URL to use, view the service credentials.</p>\n"
      ]
    },
    {
      "cell_type": "code",
      "id": "fb55f0ae-872f-484e-b782-512f28096016",
      "metadata": {},
      "outputs": [],
      "source": [
        "url_lt=''"
      ]
    },
    {
      "cell_type": "markdown",
      "id": "84320119-5607-41db-8c19-dd7dfaf9edf7",
      "metadata": {},
      "outputs": [],
      "source": [
        "<p>You require an API key, and you can obtain the key on the <a href=\"https://cloud.ibm.com/resources?utm_medium=Exinfluencer&utm_source=Exinfluencer&utm_content=000026UJ&utm_term=10006555&utm_id=NA-SkillsNetwork-Channel-SkillsNetworkCoursesIBMDeveloperSkillsNetworkPY0101ENSkillsNetwork19487395-2021-01-01\">Dashboard</a>.</p>\n"
      ]
    },
    {
      "cell_type": "code",
      "id": "a662b02b-fb6e-4f03-91a4-35bd873989f8",
      "metadata": {},
      "outputs": [],
      "source": [
        "apikey_lt=''"
      ]
    },
    {
      "cell_type": "markdown",
      "id": "eaffdb57-d88d-43ee-b0ac-7c313be92f4c",
      "metadata": {},
      "outputs": [],
      "source": [
        "<p>API requests require a version parameter that takes a date in the format version=YYYY-MM-DD. This lab describes the current version of Language Translator, 2018-05-01</p>\n"
      ]
    },
    {
      "cell_type": "code",
      "id": "078a9f69-8df8-4d56-bf6d-10173ca0e247",
      "metadata": {},
      "outputs": [],
      "source": [
        "version_lt='2018-05-01'"
      ]
    },
    {
      "cell_type": "markdown",
      "id": "47e9a9b0-0ab4-4b95-ae29-f354700fa9e9",
      "metadata": {},
      "outputs": [],
      "source": [
        "<p>we create a  Language Translator object <code>language_translator</code>:</p>\n"
      ]
    },
    {
      "cell_type": "code",
      "id": "7cb19bed-c9e9-43ce-907f-1d621de041a5",
      "metadata": {},
      "outputs": [],
      "source": [
        "authenticator = IAMAuthenticator(apikey_lt)\nlanguage_translator = LanguageTranslatorV3(version=version_lt,authenticator=authenticator)\nlanguage_translator.set_service_url(url_lt)\nlanguage_translator"
      ]
    },
    {
      "cell_type": "markdown",
      "id": "ab4cdbec-4c30-423d-941a-0236043e7e06",
      "metadata": {},
      "outputs": [],
      "source": [
        "<p>We can get a Lists the languages that the service can identify.\n",
        "The method Returns the language code.  For example English (en) to  Spanis (es) and name of each language.</p>\n"
      ]
    },
    {
      "cell_type": "code",
      "id": "e029e0cf-ae13-4983-be82-881c71be9da3",
      "metadata": {},
      "outputs": [],
      "source": [
        "from pandas import json_normalize\n\njson_normalize(language_translator.list_identifiable_languages().get_result(), \"languages\")"
      ]
    },
    {
      "cell_type": "markdown",
      "id": "fef7a00f-c5f1-4da2-bcc9-3fbb8a4ca2f5",
      "metadata": {},
      "outputs": [],
      "source": [
        "<p>We can use the method <code>translate</code>. This will translate the text. The parameter text is the text, Model_id is the type of model we would like to use use we use list the language. In this case, we set it to 'en-es' or English to Spanish. We get a Detailed Response object translation_response</p>\n"
      ]
    },
    {
      "cell_type": "code",
      "id": "cbce5eea-5c8f-4c7b-bbb7-b90d498deab6",
      "metadata": {},
      "outputs": [],
      "source": [
        "translation_response = language_translator.translate(\\\n    text=recognized_text, model_id='en-es')\ntranslation_response"
      ]
    },
    {
      "cell_type": "markdown",
      "id": "656b98f8-e65c-4e26-bb63-b2e63c35d6f8",
      "metadata": {},
      "outputs": [],
      "source": [
        "<p>The result is a dictionary.</p>\n"
      ]
    },
    {
      "cell_type": "code",
      "id": "f1ca73f7-31b1-400b-8153-70a5dbecae47",
      "metadata": {},
      "outputs": [],
      "source": [
        "translation=translation_response.get_result()\ntranslation"
      ]
    },
    {
      "cell_type": "markdown",
      "id": "878ea493-02ec-4227-8ca1-dd779f66edc3",
      "metadata": {},
      "outputs": [],
      "source": [
        "<p>We can obtain the actual translation as a string as follows:</p>\n"
      ]
    },
    {
      "cell_type": "code",
      "id": "2cb8d0e3-5e4d-4d5c-800a-a265221af80d",
      "metadata": {},
      "outputs": [],
      "source": [
        "spanish_translation =translation['translations'][0]['translation']\nspanish_translation "
      ]
    },
    {
      "cell_type": "markdown",
      "id": "8398c5d0-976f-436c-b50d-b030353e95bd",
      "metadata": {},
      "outputs": [],
      "source": [
        "<p>We can translate back to English</p>\n"
      ]
    },
    {
      "cell_type": "code",
      "id": "50e7e39b-8b1a-4b4b-b53c-3a0980a980c0",
      "metadata": {},
      "outputs": [],
      "source": [
        "translation_new = language_translator.translate(text=spanish_translation ,model_id='es-en').get_result()"
      ]
    },
    {
      "cell_type": "markdown",
      "id": "f5abb644-c241-4f09-af4a-3c3c80380100",
      "metadata": {},
      "outputs": [],
      "source": [
        "<p>We can obtain the actual translation as a string as follows:</p>\n"
      ]
    },
    {
      "cell_type": "code",
      "id": "72641984-8b7f-40c8-b7a9-eda72f8180ce",
      "metadata": {},
      "outputs": [],
      "source": [
        "translation_eng=translation_new['translations'][0]['translation']\ntranslation_eng"
      ]
    },
    {
      "cell_type": "markdown",
      "id": "d8f9a409-2bf8-4e37-a43e-e91457ee1a34",
      "metadata": {},
      "outputs": [],
      "source": [
        "<br>\n"
      ]
    },
    {
      "cell_type": "markdown",
      "id": "077edb94-3694-4456-bf28-5d12cad551fd",
      "metadata": {},
      "outputs": [],
      "source": [
        "<h2>Quiz</h2>\n"
      ]
    },
    {
      "cell_type": "markdown",
      "id": "7e376696-1a09-426f-8906-b63e8784efa9",
      "metadata": {},
      "outputs": [],
      "source": [
        "Translate to French.\n"
      ]
    },
    {
      "cell_type": "code",
      "id": "90b9f907-0291-41f7-8cae-2a58b663bd79",
      "metadata": {},
      "outputs": [],
      "source": [
        "# Write your code below and press Shift+Enter to execute\n"
      ]
    },
    {
      "cell_type": "markdown",
      "id": "34bf818c-7590-4031-88f3-fc898242d3ec",
      "metadata": {},
      "outputs": [],
      "source": [
        "<details><summary>Click here for the solution</summary>\n",
        "\n",
        "```python\n",
        "French_translation=language_translator.translate(\n",
        "    text=translation_eng , model_id='en-fr').get_result()\n",
        "\n",
        "French_translation['translations'][0]['translation']\n",
        "\n",
        "```\n",
        "\n",
        "</details>\n"
      ]
    },
    {
      "cell_type": "markdown",
      "id": "e03a07d8-445d-412e-976f-f5b46f77ab01",
      "metadata": {},
      "outputs": [],
      "source": [
        "<h3>Language Translator</h3>\n"
      ]
    },
    {
      "cell_type": "markdown",
      "id": "6ea0b81f-d256-4bac-863e-ef45b009d529",
      "metadata": {},
      "outputs": [],
      "source": [
        "<b>References</b>\n"
      ]
    },
    {
      "cell_type": "markdown",
      "id": "ad1ee844-6b79-40f0-aa3f-1525a4ae7fcf",
      "metadata": {},
      "outputs": [],
      "source": [
        "[https://cloud.ibm.com/apidocs/speech-to-text?code=python](https://cloud.ibm.com/apidocs/speech-to-text?utm_medium=Exinfluencer&utm_source=Exinfluencer&utm_content=000026UJ&utm_term=10006555&utm_id=NA-SkillsNetwork-Channel-SkillsNetworkCoursesIBMDeveloperSkillsNetworkPY0101ENSkillsNetwork19487395-2021-01-01&code=python)\n"
      ]
    },
    {
      "cell_type": "markdown",
      "id": "3f3545cb-fa66-4b65-b62a-cd302682f560",
      "metadata": {},
      "outputs": [],
      "source": [
        "[https://cloud.ibm.com/apidocs/language-translator?code=python](https://cloud.ibm.com/apidocs/language-translator?utm_medium=Exinfluencer&utm_source=Exinfluencer&utm_content=000026UJ&utm_term=10006555&utm_id=NA-SkillsNetwork-Channel-SkillsNetworkCoursesIBMDeveloperSkillsNetworkPY0101ENSkillsNetwork19487395-2021-01-01&code=python)\n"
      ]
    },
    {
      "cell_type": "markdown",
      "id": "9d3ad6ba-c64f-4121-9b1b-dbfea65481ec",
      "metadata": {},
      "outputs": [],
      "source": [
        "<hr>\n"
      ]
    },
    {
      "cell_type": "markdown",
      "id": "1601c7d4-524d-4901-9a45-6e6e5ea59aae",
      "metadata": {},
      "outputs": [],
      "source": [
        "## Authors:\n",
        "\n",
        "[Joseph Santarcangelo](https://www.linkedin.com/in/joseph-s-50398b136/?utm_medium=Exinfluencer&utm_source=Exinfluencer&utm_content=000026UJ&utm_term=10006555&utm_id=NA-SkillsNetwork-Channel-SkillsNetworkCoursesIBMDeveloperSkillsNetworkPY0101ENSkillsNetwork19487395-2021-01-01)\n",
        "\n",
        "Joseph Santarcangelo has a PhD in Electrical Engineering, his research focused on using machine learning, signal processing, and computer vision to determine how videos impact human cognition. Joseph has been working for IBM since he completed his PhD.\n",
        "\n",
        "## Other Contributor(s)\n",
        "\n",
        "<a href=\"https://www.linkedin.com/in/fanjiang0619/?utm_medium=Exinfluencer&utm_source=Exinfluencer&utm_content=000026UJ&utm_term=10006555&utm_id=NA-SkillsNetwork-Channel-SkillsNetworkCoursesIBMDeveloperSkillsNetworkPY0101ENSkillsNetwork19487395-2021-01-01\">Fan Jiang</a>\n",
        "\n",
        "## Change Log\n",
        "\n",
        "| Date (YYYY-MM-DD) | Version | Changed By | Change Description                 |\n",
        "| ----------------- | ------- | ---------- | ---------------------------------- |\n",
        "| 2021-04-07        | 2.2     | Malika     | Updated the libraries              |\n",
        "| 2021-01-05        | 2.1     | Malika     | Added a library                    |\n",
        "| 2020-08-26        | 2.0     | Lavanya    | Moved lab to course repo in GitLab |\n",
        "|                   |         |            |                                    |\n",
        "|                   |         |            |                                    |\n",
        "\n",
        "<hr/>\n",
        "\n",
        "## <h3 align=\"center\"> © IBM Corporation 2020. All rights reserved. <h3/>\n"
      ]
    }
  ],
  "metadata": {
    "kernelspec": {
      "display_name": "Python",
      "language": "python",
      "name": "conda-env-python-py"
    },
    "language_info": {
      "name": ""
    }
  },
  "nbformat": 4,
  "nbformat_minor": 4
}