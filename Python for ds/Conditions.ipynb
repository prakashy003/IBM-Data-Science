{
  "cells": [
    {
      "cell_type": "markdown",
      "id": "64808081-8f5e-4f49-a31c-6a94efbb4848",
      "metadata": {},
      "outputs": [],
      "source": [
        "<center>\n",
        "    <img src=\"https://cf-courses-data.s3.us.cloud-object-storage.appdomain.cloud/IBMDeveloperSkillsNetwork-PY0101EN-SkillsNetwork/IDSNlogo.png\" width=\"300\" alt=\"cognitiveclass.ai logo\">\n",
        "</center>\n",
        "\n",
        "# Conditions in Python\n",
        "\n",
        "Estimated time needed: **20** minutes\n",
        "\n",
        "## Objectives\n",
        "\n",
        "After completing this lab you will be able to:\n",
        "\n",
        "*   work with condition statements in Python, including operators, and branching.\n"
      ]
    },
    {
      "cell_type": "markdown",
      "id": "677da73f-48c8-4aca-aa26-aa131d1025b1",
      "metadata": {},
      "outputs": [],
      "source": [
        "<h2>Table of Contents</h2>\n",
        "<div class=\"alert alert-block alert-info\" style=\"margin-top: 20px\">\n",
        "    <ul>\n",
        "        <li>\n",
        "            <a href=\"https://#cond\">Condition Statements</a>\n",
        "            <ul>\n",
        "                <li><a href=\"https://comp/?utm_medium=Exinfluencer&utm_source=Exinfluencer&utm_content=000026UJ&utm_term=10006555&utm_id=NA-SkillsNetwork-Channel-SkillsNetworkCoursesIBMDeveloperSkillsNetworkPY0101ENSkillsNetwork19487395-2021-01-01\">Comparison Operators</a></li>\n",
        "                <li><a href=\"https://branch/?utm_medium=Exinfluencer&utm_source=Exinfluencer&utm_content=000026UJ&utm_term=10006555&utm_id=NA-SkillsNetwork-Channel-SkillsNetworkCoursesIBMDeveloperSkillsNetworkPY0101ENSkillsNetwork19487395-2021-01-01\">Branching</a></li>\n",
        "                <li><a href=\"https://logic/?utm_medium=Exinfluencer&utm_source=Exinfluencer&utm_content=000026UJ&utm_term=10006555&utm_id=NA-SkillsNetwork-Channel-SkillsNetworkCoursesIBMDeveloperSkillsNetworkPY0101ENSkillsNetwork19487395-2021-01-01\">Logical operators</a></li>\n",
        "            </ul>\n",
        "        </li>\n",
        "        <li>\n",
        "            <a href=\"https://#quiz\">Quiz on Condition Statement</a>\n",
        "        </li>\n",
        "    </ul>\n",
        "\n",
        "</div>\n",
        "\n",
        "<hr>\n"
      ]
    },
    {
      "cell_type": "markdown",
      "id": "b85d6a3b-58ac-4604-81ad-b847554ce01c",
      "metadata": {},
      "outputs": [],
      "source": [
        "<h2 id=\"cond\">Condition Statements</h2>\n"
      ]
    },
    {
      "cell_type": "markdown",
      "id": "ec42862a-ab54-491b-a472-9c1679f42ccc",
      "metadata": {},
      "outputs": [],
      "source": [
        "<h3 id=\"comp\">Comparison Operators</h3>\n"
      ]
    },
    {
      "cell_type": "markdown",
      "id": "377ea0fd-c7b3-45cf-a990-6d80027af581",
      "metadata": {},
      "outputs": [],
      "source": [
        "Comparison operations compare some value or operand and based on a condition, produce a Boolean. When comparing two values you can use these operators:\n",
        "\n",
        "<ul>\n",
        "    <li>equal: <b>==</b></li>\n",
        "    <li>not equal: <b>!=</b></li>\n",
        "    <li>greater than: <b>></b></li>\n",
        "    <li>less than: <b>&lt;</b></li>\n",
        "    <li>greater than or equal to: <b>>=</b></li>\n",
        "    <li>less than or equal to: <b>&lt;=</b></li>\n",
        "</ul>\n"
      ]
    },
    {
      "cell_type": "markdown",
      "id": "e8bc3308-aadc-4373-bb6f-a431fe476ee9",
      "metadata": {},
      "outputs": [],
      "source": [
        "Let's assign <code> a </code> a value of 5. Use the equality operator denoted with two equal <b>==</b> signs to determine if two values are equal. The case below compares the variable <code>a</code> with 6.\n"
      ]
    },
    {
      "cell_type": "code",
      "id": "4eed0630-0577-4f09-bc38-28c30654d575",
      "metadata": {},
      "outputs": [],
      "source": [
        "# Condition Equal\n\na = 5\na == 6"
      ]
    },
    {
      "cell_type": "markdown",
      "id": "75694b29-e6d7-4dc5-8d17-6e928036f356",
      "metadata": {},
      "outputs": [],
      "source": [
        "The result is <b>False</b>, as 5 does not equal to 6.\n"
      ]
    },
    {
      "cell_type": "markdown",
      "id": "5b1bd159-bcdb-4afd-b9f6-43903788717f",
      "metadata": {},
      "outputs": [],
      "source": [
        "Consider the following equality comparison operator: <code>i > 5</code>. If the value of the left operand, in this case the variable <b>i</b>, is greater than the value of the right operand, in this case 5, then the statement is <b>True</b>. Otherwise, the statement is <b>False</b>.  If <b>i</b> is equal to 6, because 6 is larger than 5, the output is <b>True</b>.\n"
      ]
    },
    {
      "cell_type": "code",
      "id": "067d06c7-6e1a-419d-a6ad-b4324cc5abc7",
      "metadata": {},
      "outputs": [],
      "source": [
        "# Greater than Sign\n\ni = 6\ni > 5"
      ]
    },
    {
      "cell_type": "markdown",
      "id": "c5a7baae-87b4-472a-b3e9-949006f736bb",
      "metadata": {},
      "outputs": [],
      "source": [
        "Set <code>i = 2</code>. The statement is False as 2 is not greater than 5:\n"
      ]
    },
    {
      "cell_type": "code",
      "id": "227ab529-e80e-4ab9-9572-9a7ebf1caaef",
      "metadata": {},
      "outputs": [],
      "source": [
        "# Greater than Sign\n\ni = 2\ni > 5"
      ]
    },
    {
      "cell_type": "markdown",
      "id": "c300f2e8-7793-4f46-8394-12c13538f2d5",
      "metadata": {},
      "outputs": [],
      "source": [
        "Let's display some values for <code>i</code> in the figure. Set the values greater than 5 in green and the rest in red. The green region represents where the condition is **True**, the red where the statement is **False**. If the value of <code>i</code> is 2, we get **False** as the 2 falls in the red region. Similarly, if the value for <code>i</code> is 6 we get a **True** as the condition falls in the green region.\n"
      ]
    },
    {
      "cell_type": "markdown",
      "id": "fed896bb-6857-431a-8343-6ac219bc8c2e",
      "metadata": {},
      "outputs": [],
      "source": [
        "<img src=\"https://cf-courses-data.s3.us.cloud-object-storage.appdomain.cloud/IBMDeveloperSkillsNetwork-PY0101EN-SkillsNetwork/labs/Module%203/images/CondsGreater.gif\" width=\"650\">\n"
      ]
    },
    {
      "cell_type": "markdown",
      "id": "de39b189-882b-463d-9bb2-548cd22bb09b",
      "metadata": {},
      "outputs": [],
      "source": [
        "The inequality test uses an exclamation mark preceding the equal sign, if two operands are not equal then the condition becomes **True**.  For example, the following condition will produce **True** as long as the value of <code>i</code> is not equal to 6:\n"
      ]
    },
    {
      "cell_type": "code",
      "id": "4edfcbad-1ceb-4384-b11d-e99293541b21",
      "metadata": {},
      "outputs": [],
      "source": [
        "# Inequality Sign\n\ni = 2\ni != 6"
      ]
    },
    {
      "cell_type": "markdown",
      "id": "a7b510b1-4082-4e62-b002-d544df61c776",
      "metadata": {},
      "outputs": [],
      "source": [
        "When <code>i</code> equals 6 the inequality expression produces <b>False</b>.\n"
      ]
    },
    {
      "cell_type": "code",
      "id": "37895e54-361b-4177-b604-4276684782bb",
      "metadata": {},
      "outputs": [],
      "source": [
        "# Inequality Sign\n\ni = 6\ni != 6"
      ]
    },
    {
      "cell_type": "markdown",
      "id": "c278f238-91b1-4fa1-a88e-fe2f0fa8484c",
      "metadata": {},
      "outputs": [],
      "source": [
        "See the number line below. When the condition is **True**, the corresponding numbers are marked in green and for where the condition is **False** the corresponding number is marked in red.  If we set <code>i</code> equal to 2 the operator is true, since 2 is in the green region. If we set <code>i</code> equal to 6, we get a **False**, since the condition falls in the red region.\n"
      ]
    },
    {
      "cell_type": "markdown",
      "id": "8a796dab-8caf-4683-b0b7-0aaa12342bb4",
      "metadata": {},
      "outputs": [],
      "source": [
        "<img src=\"https://cf-courses-data.s3.us.cloud-object-storage.appdomain.cloud/IBMDeveloperSkillsNetwork-PY0101EN-SkillsNetwork/labs/Module%203/images/CondsIneq.gif\" width=\"650\">\n"
      ]
    },
    {
      "cell_type": "markdown",
      "id": "6545b888-0690-46c0-9267-e1bab7aca49f",
      "metadata": {},
      "outputs": [],
      "source": [
        "We can apply the same methods on strings. For example, we can use an equality operator on two different strings. As the strings are not equal, we get a **False**.\n"
      ]
    },
    {
      "cell_type": "code",
      "id": "16d24b6b-9498-4f24-8bab-90aa0a293771",
      "metadata": {},
      "outputs": [],
      "source": [
        "# Use Equality sign to compare the strings\n\n\"ACDC\" == \"Michael Jackson\""
      ]
    },
    {
      "cell_type": "markdown",
      "id": "878c13e7-f494-47dd-ac3c-70d95cd78caa",
      "metadata": {},
      "outputs": [],
      "source": [
        "If we use the inequality operator, the output is going to be **True** as the strings are not equal.\n"
      ]
    },
    {
      "cell_type": "code",
      "id": "49cef5eb-e948-44e0-a7d7-edfb841c76fd",
      "metadata": {},
      "outputs": [],
      "source": [
        "# Use Inequality sign to compare the strings\n\n\"ACDC\" != \"Michael Jackson\""
      ]
    },
    {
      "cell_type": "markdown",
      "id": "9468171f-fe8d-49e6-8403-0c464fcb8647",
      "metadata": {},
      "outputs": [],
      "source": [
        "The inequality operation is also used to compare the letters/words/symbols according to the ASCII value of letters. The decimal value shown in the following table represents the order of the character:\n"
      ]
    },
    {
      "cell_type": "markdown",
      "id": "a6243cd3-e42d-44e4-85a4-70fed1e9c51e",
      "metadata": {},
      "outputs": [],
      "source": [
        "<style type=\"text/css\">\n",
        ".tg  {border-collapse:collapse;border-spacing:0;}\n",
        ".tg td{border-color:black;border-style:solid;border-width:1px;font-family:Arial, sans-serif;font-size:14px;\n",
        "  overflow:hidden;padding:10px 5px;word-break:normal;}\n",
        ".tg th{border-color:black;border-style:solid;border-width:1px;font-family:Arial, sans-serif;font-size:14px;\n",
        "  font-weight:normal;overflow:hidden;padding:10px 5px;word-break:normal;}\n",
        ".tg .tg-baqh{text-align:center;vertical-align:top}\n",
        ".tg .tg-7geq{background-color:#ffffc7;text-align:center;vertical-align:top}\n",
        ".tg .tg-1cln{background-color:#ffcc67;font-size:100%;font-weight:bold;text-align:center;vertical-align:top}\n",
        ".tg .tg-xozw{background-color:#ffcc67;font-weight:bold;text-align:center;vertical-align:top}\n",
        "</style>\n",
        "\n",
        "<table class=\"tg\">\n",
        "<thead>\n",
        "  <tr>\n",
        "    <th class=\"tg-1cln\">Char.</th>\n",
        "    <th class=\"tg-xozw\">ASCII</th>\n",
        "    <th class=\"tg-xozw\">Char.</th>\n",
        "    <th class=\"tg-xozw\">ASCII</th>\n",
        "    <th class=\"tg-xozw\">Char.</th>\n",
        "    <th class=\"tg-xozw\">ASCII</th>\n",
        "    <th class=\"tg-xozw\">Char.</th>\n",
        "    <th class=\"tg-xozw\">ASCII</th>\n",
        "  </tr>\n",
        "</thead>\n",
        "<tbody>\n",
        "  <tr>\n",
        "    <td class=\"tg-7geq\">A</td>\n",
        "    <td class=\"tg-baqh\">65</td>\n",
        "    <td class=\"tg-7geq\">N</td>\n",
        "    <td class=\"tg-baqh\">78</td>\n",
        "    <td class=\"tg-7geq\">a</td>\n",
        "    <td class=\"tg-baqh\">97</td>\n",
        "    <td class=\"tg-7geq\">n</td>\n",
        "    <td class=\"tg-baqh\">110</td>\n",
        "  </tr>\n",
        "  <tr>\n",
        "    <td class=\"tg-7geq\">B</td>\n",
        "    <td class=\"tg-baqh\">66</td>\n",
        "    <td class=\"tg-7geq\">O</td>\n",
        "    <td class=\"tg-baqh\">79</td>\n",
        "    <td class=\"tg-7geq\">b</td>\n",
        "    <td class=\"tg-baqh\">98</td>\n",
        "    <td class=\"tg-7geq\">o</td>\n",
        "    <td class=\"tg-baqh\">111</td>\n",
        "  </tr>\n",
        "  <tr>\n",
        "    <td class=\"tg-7geq\">C</td>\n",
        "    <td class=\"tg-baqh\">67</td>\n",
        "    <td class=\"tg-7geq\">P</td>\n",
        "    <td class=\"tg-baqh\">80</td>\n",
        "    <td class=\"tg-7geq\">c</td>\n",
        "    <td class=\"tg-baqh\">99</td>\n",
        "    <td class=\"tg-7geq\">p</td>\n",
        "    <td class=\"tg-baqh\">112</td>\n",
        "  </tr>\n",
        "  <tr>\n",
        "    <td class=\"tg-7geq\">D</td>\n",
        "    <td class=\"tg-baqh\">68</td>\n",
        "    <td class=\"tg-7geq\">Q</td>\n",
        "    <td class=\"tg-baqh\">81</td>\n",
        "    <td class=\"tg-7geq\">d</td>\n",
        "    <td class=\"tg-baqh\">100</td>\n",
        "    <td class=\"tg-7geq\">q</td>\n",
        "    <td class=\"tg-baqh\">113</td>\n",
        "  </tr>\n",
        "  <tr>\n",
        "    <td class=\"tg-7geq\">E</td>\n",
        "    <td class=\"tg-baqh\">69</td>\n",
        "    <td class=\"tg-7geq\">R</td>\n",
        "    <td class=\"tg-baqh\">82</td>\n",
        "    <td class=\"tg-7geq\">e</td>\n",
        "    <td class=\"tg-baqh\">101</td>\n",
        "    <td class=\"tg-7geq\">r</td>\n",
        "    <td class=\"tg-baqh\">114</td>\n",
        "  </tr>\n",
        "  <tr>\n",
        "    <td class=\"tg-7geq\">F</td>\n",
        "    <td class=\"tg-baqh\">70</td>\n",
        "    <td class=\"tg-7geq\">S</td>\n",
        "    <td class=\"tg-baqh\">83</td>\n",
        "    <td class=\"tg-7geq\">f</td>\n",
        "    <td class=\"tg-baqh\">102</td>\n",
        "    <td class=\"tg-7geq\">s</td>\n",
        "    <td class=\"tg-baqh\">115</td>\n",
        "  </tr>\n",
        "  <tr>\n",
        "    <td class=\"tg-7geq\">G</td>\n",
        "    <td class=\"tg-baqh\">71</td>\n",
        "    <td class=\"tg-7geq\">T</td>\n",
        "    <td class=\"tg-baqh\">84</td>\n",
        "    <td class=\"tg-7geq\">g</td>\n",
        "    <td class=\"tg-baqh\">103</td>\n",
        "    <td class=\"tg-7geq\">t</td>\n",
        "    <td class=\"tg-baqh\">116</td>\n",
        "  </tr>\n",
        "  <tr>\n",
        "    <td class=\"tg-7geq\">H</td>\n",
        "    <td class=\"tg-baqh\">72</td>\n",
        "    <td class=\"tg-7geq\">U</td>\n",
        "    <td class=\"tg-baqh\">85</td>\n",
        "    <td class=\"tg-7geq\">h</td>\n",
        "    <td class=\"tg-baqh\">104</td>\n",
        "    <td class=\"tg-7geq\">u</td>\n",
        "    <td class=\"tg-baqh\">117</td>\n",
        "  </tr>\n",
        "  <tr>\n",
        "    <td class=\"tg-7geq\">I</td>\n",
        "    <td class=\"tg-baqh\">73</td>\n",
        "    <td class=\"tg-7geq\">V</td>\n",
        "    <td class=\"tg-baqh\">86</td>\n",
        "    <td class=\"tg-7geq\">i</td>\n",
        "    <td class=\"tg-baqh\">105</td>\n",
        "    <td class=\"tg-7geq\">v</td>\n",
        "    <td class=\"tg-baqh\">118</td>\n",
        "  </tr>\n",
        "  <tr>\n",
        "    <td class=\"tg-7geq\">J</td>\n",
        "    <td class=\"tg-baqh\">74</td>\n",
        "    <td class=\"tg-7geq\">W</td>\n",
        "    <td class=\"tg-baqh\">87</td>\n",
        "    <td class=\"tg-7geq\">j</td>\n",
        "    <td class=\"tg-baqh\">106</td>\n",
        "    <td class=\"tg-7geq\">w</td>\n",
        "    <td class=\"tg-baqh\">119</td>\n",
        "  </tr>\n",
        "  <tr>\n",
        "    <td class=\"tg-7geq\">K</td>\n",
        "    <td class=\"tg-baqh\">75</td>\n",
        "    <td class=\"tg-7geq\">X</td>\n",
        "    <td class=\"tg-baqh\">88</td>\n",
        "    <td class=\"tg-7geq\">k</td>\n",
        "    <td class=\"tg-baqh\">107</td>\n",
        "    <td class=\"tg-7geq\">x</td>\n",
        "    <td class=\"tg-baqh\">120</td>\n",
        "  </tr>\n",
        "  <tr>\n",
        "    <td class=\"tg-7geq\">L</td>\n",
        "    <td class=\"tg-baqh\">76</td>\n",
        "    <td class=\"tg-7geq\">Y</td>\n",
        "    <td class=\"tg-baqh\">89</td>\n",
        "    <td class=\"tg-7geq\">l</td>\n",
        "    <td class=\"tg-baqh\">108</td>\n",
        "    <td class=\"tg-7geq\">y</td>\n",
        "    <td class=\"tg-baqh\">121</td>\n",
        "  </tr>\n",
        "  <tr>\n",
        "    <td class=\"tg-7geq\">M</td>\n",
        "    <td class=\"tg-baqh\">77</td>\n",
        "    <td class=\"tg-7geq\">Z</td>\n",
        "    <td class=\"tg-baqh\">90</td>\n",
        "    <td class=\"tg-7geq\">m</td>\n",
        "    <td class=\"tg-baqh\">109</td>\n",
        "    <td class=\"tg-7geq\">z</td>\n",
        "    <td class=\"tg-baqh\">122</td>\n",
        "  </tr>\n",
        "</tbody>\n",
        "</table>\n"
      ]
    },
    {
      "cell_type": "markdown",
      "id": "2de11f45-e19e-4887-877c-ba38208b19a1",
      "metadata": {},
      "outputs": [],
      "source": [
        "For example, the ASCII code for <b>!</b> is 33, while the ASCII code for <b>+</b> is 43. Therefore <b>+</b> is larger than <b>!</b> as 43 is greater than 33.\n"
      ]
    },
    {
      "cell_type": "markdown",
      "id": "70a967ab-aa93-4e98-a646-46c1da834de4",
      "metadata": {},
      "outputs": [],
      "source": [
        "Similarly, from the table above we see that the value for <b>A</b> is 65, and the value for <b>B</b> is 66, therefore:\n"
      ]
    },
    {
      "cell_type": "code",
      "id": "73722d09-0e7c-43c6-8dc7-9e8f19eaab24",
      "metadata": {},
      "outputs": [],
      "source": [
        "# Compare characters\n\n'B' > 'A'"
      ]
    },
    {
      "cell_type": "markdown",
      "id": "cc31b384-8859-41b7-8eff-2eeebf42624c",
      "metadata": {},
      "outputs": [],
      "source": [
        "When there are multiple letters, the first letter takes precedence in ordering:\n"
      ]
    },
    {
      "cell_type": "code",
      "id": "eb3f8205-9f1e-49e3-857d-b1db15b8bcdc",
      "metadata": {},
      "outputs": [],
      "source": [
        "# Compare characters\n\n'BA' > 'AB'"
      ]
    },
    {
      "cell_type": "markdown",
      "id": "622d5730-3a26-4bd8-aaf9-2a021ad5396b",
      "metadata": {},
      "outputs": [],
      "source": [
        "<b>Note</b>: Upper Case Letters have different ASCII code than Lower Case Letters, which means the comparison between the letters in Python is case-sensitive.\n"
      ]
    },
    {
      "cell_type": "markdown",
      "id": "a5dde2fb-34f9-4388-a526-9817b2cf3da7",
      "metadata": {},
      "outputs": [],
      "source": [
        "<h3 id=\"branch\">Branching</h3>\n"
      ]
    },
    {
      "cell_type": "markdown",
      "id": "de6ecc7b-5eb2-48dc-9c83-2a5b679bacec",
      "metadata": {},
      "outputs": [],
      "source": [
        "Branching allows us to run different statements for different inputs. It is helpful to think of an **if statement** as a locked room, if the statement is **True** we can enter the room and your program will run some predefined tasks, but if the statement is **False** the program will ignore the task.\n"
      ]
    },
    {
      "cell_type": "markdown",
      "id": "14908aed-4fb9-4f91-bcb2-6f16ed6905e5",
      "metadata": {},
      "outputs": [],
      "source": [
        "For example, consider the blue rectangle representing an ACDC concert. If the individual is older than 18, they can enter the ACDC concert. If they are 18 or younger, they cannot enter the concert.\n",
        "\n",
        "We can use the condition statements learned before as the conditions that need to be checked in the **if statement**. The syntax is as simple as <code> if <i>condition statement</i> :</code>, which contains a word <code>if</code>, any condition statement, and a colon at the end. Start your tasks which need to be executed under this condition in a new line with an indent. The lines of code after the colon and with an indent will only be executed when the **if statement** is **True**. The tasks will end when the line of code does not contain the indent.\n",
        "\n",
        "In the case below, the code <code>print(“you can enter”)</code> is executed only if the variable <code>age</code> is greater than 18 is a True case because this line of code has the indent. However, the execution of <code>print(“move on”)</code> will not be influenced by the if statement.\n"
      ]
    },
    {
      "cell_type": "code",
      "id": "f7568cfd-7f0b-4869-bd31-f56b70e76fd3",
      "metadata": {},
      "outputs": [],
      "source": [
        "# If statement example\n\nage = 19\n#age = 18\n\n#expression that can be true or false\nif age > 18:\n    \n    #within an indent, we have the expression that is run if the condition is true\n    print(\"you can enter\" )\n\n#The statements after the if statement will run regardless if the condition is true or false \nprint(\"move on\")"
      ]
    },
    {
      "cell_type": "markdown",
      "id": "49b9be64-3100-45cf-aaf6-35aee018ed49",
      "metadata": {},
      "outputs": [],
      "source": [
        "<i>Try uncommenting the age variable</i>\n"
      ]
    },
    {
      "cell_type": "markdown",
      "id": "0dea77e6-0f99-462e-8015-dee2af60d986",
      "metadata": {},
      "outputs": [],
      "source": [
        "It is helpful to use the following diagram to illustrate the process. On the left side, we see what happens when the condition is <b>True</b>.  The person enters the ACDC concert representing the code in the indent being executed; they then move on. On the right side, we see what happens when the condition is <b>False</b>; the person is not granted access, and the person moves on. In this case, the segment of code in the indent does not run, but the rest of the statements are run.\n"
      ]
    },
    {
      "cell_type": "markdown",
      "id": "4be91057-f7d6-4d5e-b136-a00242f36513",
      "metadata": {},
      "outputs": [],
      "source": [
        "<img src=\"https://cf-courses-data.s3.us.cloud-object-storage.appdomain.cloud/IBMDeveloperSkillsNetwork-PY0101EN-SkillsNetwork/labs/Module%203/images/CondsIf.gif\" width=\"650\">\n"
      ]
    },
    {
      "cell_type": "markdown",
      "id": "742596f3-ac01-42e7-98d9-e9d38287910e",
      "metadata": {},
      "outputs": [],
      "source": [
        "The <code>else</code> statement runs a block of code if none of the conditions are **True** before this <code>else</code> statement. Let's use the ACDC concert analogy again. If the user is 17 they cannot go to the ACDC concert,  but they can go to the Meatloaf concert.\n",
        "The syntax of the <code>else</code> statement is similar as the syntax of the <code>if</code> statement, as <code>else :</code>. Notice that, there is no condition statement for <code>else</code>.\n",
        "Try changing the values of <code>age</code> to see what happens:\n"
      ]
    },
    {
      "cell_type": "code",
      "id": "4680f995-f357-4ecd-a3fc-8e99c50d1a48",
      "metadata": {},
      "outputs": [],
      "source": [
        "# Else statement example\n\nage = 18\n# age = 19\n\nif age > 18:\n    print(\"you can enter\" )\nelse:\n    print(\"go see Meat Loaf\" )\n    \nprint(\"move on\")"
      ]
    },
    {
      "cell_type": "markdown",
      "id": "9cc09525-0813-434b-b30b-18dc2aac604d",
      "metadata": {},
      "outputs": [],
      "source": [
        "The process is demonstrated below, where each of the possibilities is illustrated on each side of the image. On the left is the case where the age is 17, we set the variable age to 17, and this corresponds to the individual attending the Meatloaf concert. The right portion shows what happens when the individual is over 18, in this case 19, and the individual is granted access to the concert.\n"
      ]
    },
    {
      "cell_type": "markdown",
      "id": "a4a565ed-410d-4c88-a052-f68d96bca0d9",
      "metadata": {},
      "outputs": [],
      "source": [
        "<img src=\"https://cf-courses-data.s3.us.cloud-object-storage.appdomain.cloud/IBMDeveloperSkillsNetwork-PY0101EN-SkillsNetwork/labs/Module%203/images/CondsElse.gif\" width=\"650\">\n"
      ]
    },
    {
      "cell_type": "markdown",
      "id": "03dea2eb-4aa9-49c2-aebe-087d799aa49d",
      "metadata": {},
      "outputs": [],
      "source": [
        "The <code>elif</code> statement, short for else if, allows us to check additional conditions if the condition statements before it are <b>False</b>. If the condition for the <code>elif</code> statement is <b>True</b>, the alternate expressions will be run. Consider the concert example, where if the individual is 18 they will go to the Pink Floyd concert instead of attending the ACDC or Meat-loaf concert. A person that is 18 years of age enters the area, and as they are not older than 18 they can not see ACDC, but since they are 18 years of age, they attend  Pink Floyd. After seeing Pink Floyd, they move on. The syntax of the <code>elif</code> statement is similar in that we merely change the <code>if</code> in the <code>if</code> statement to <code>elif</code>.\n"
      ]
    },
    {
      "cell_type": "code",
      "id": "ace0eadc-9fb7-4f13-b5e1-b4c495b92784",
      "metadata": {},
      "outputs": [],
      "source": [
        "# Elif statment example\n\nage = 18\n\nif age > 18:\n    print(\"you can enter\" )\nelif age == 18:\n    print(\"go see Pink Floyd\")\nelse:\n    print(\"go see Meat Loaf\" )\n    \nprint(\"move on\")"
      ]
    },
    {
      "cell_type": "markdown",
      "id": "e3090380-fce6-441b-ab8a-ff752bbc4277",
      "metadata": {},
      "outputs": [],
      "source": [
        "The three combinations are shown in the figure below.  The left-most region shows what happens when the individual is less than 18 years of age. The central component shows when the individual is exactly 18. The rightmost shows when the individual is over 18.\n"
      ]
    },
    {
      "cell_type": "markdown",
      "id": "e8cd1554-2628-4f8d-b4e2-4d892eab1e1a",
      "metadata": {},
      "outputs": [],
      "source": [
        "<img src=\"https://cf-courses-data.s3.us.cloud-object-storage.appdomain.cloud/IBMDeveloperSkillsNetwork-PY0101EN-SkillsNetwork/labs/Module%203/images/CondsElif.gif\" width=\"650\">\n"
      ]
    },
    {
      "cell_type": "markdown",
      "id": "867fab84-015a-4189-9b70-b32aa427a9ec",
      "metadata": {},
      "outputs": [],
      "source": [
        "Look at the following code:\n"
      ]
    },
    {
      "cell_type": "code",
      "id": "1d1c7d04-ac13-4a10-9d55-e55850699576",
      "metadata": {},
      "outputs": [],
      "source": [
        "# Condition statement example\n\nalbum_year = 1983\nalbum_year = 1970\n\nif album_year > 1980:\n    print(\"Album year is greater than 1980\")\n    \nprint('do something..')"
      ]
    },
    {
      "cell_type": "markdown",
      "id": "b56fea55-8609-41ad-9fd2-c5d11904dd61",
      "metadata": {},
      "outputs": [],
      "source": [
        "Feel free to change <code>album_year</code> value to other values -- you'll see that the result changes!\n"
      ]
    },
    {
      "cell_type": "markdown",
      "id": "3f93a3f2-0efa-4361-abd1-cfeeec72f0e3",
      "metadata": {},
      "outputs": [],
      "source": [
        "Notice that the code in the above <b>indented</b> block will only be executed if the results are <b>True</b>.\n"
      ]
    },
    {
      "cell_type": "markdown",
      "id": "95470e9f-8964-4257-81d7-7d66ec417587",
      "metadata": {},
      "outputs": [],
      "source": [
        "As before, we can add an <code>else</code> block to the <code>if</code> block. The code in the <code>else</code> block will only be executed if the result is <b>False</b>.\n",
        "\n",
        "<b>Syntax:</b>\n",
        "\n",
        "if (condition):\n",
        "\\# do something\n",
        "else:\n",
        "\\# do something else\n"
      ]
    },
    {
      "cell_type": "markdown",
      "id": "dd334781-6c12-45ea-b04f-832ace19d016",
      "metadata": {},
      "outputs": [],
      "source": [
        "If the condition in the <code>if</code> statement is <b>False</b>, the statement after the <code>else</code> block will execute. This is demonstrated in the figure:\n"
      ]
    },
    {
      "cell_type": "markdown",
      "id": "bcffa04b-89e2-412e-9ae6-7620b35df5e3",
      "metadata": {},
      "outputs": [],
      "source": [
        "<img src=\"https://cf-courses-data.s3.us.cloud-object-storage.appdomain.cloud/IBMDeveloperSkillsNetwork-PY0101EN-SkillsNetwork/labs/Module%203/images/CondsLogicMap.png\" width=\"650\">\n"
      ]
    },
    {
      "cell_type": "code",
      "id": "eeb9012a-609e-4cf1-9d82-fd1bde5e357b",
      "metadata": {},
      "outputs": [],
      "source": [
        "# Condition statement example\n\nalbum_year = 1983\n#album_year = 1970\n\nif album_year > 1980:\n    print(\"Album year is greater than 1980\")\nelse:\n    print(\"less than 1980\")\n\nprint('do something..')"
      ]
    },
    {
      "cell_type": "markdown",
      "id": "6072bc45-7296-4643-bfda-9f1e3b6c1384",
      "metadata": {},
      "outputs": [],
      "source": [
        "Feel free to change the <code>album_year</code> value to other values -- you'll see that the result changes based on it!\n"
      ]
    },
    {
      "cell_type": "markdown",
      "id": "77e6a9d2-1093-473b-a67b-5d13c17f253c",
      "metadata": {},
      "outputs": [],
      "source": [
        "<h3 id=\"logic\">Logical operators</h3>\n"
      ]
    },
    {
      "cell_type": "markdown",
      "id": "0c02ae24-58e8-4942-b93e-b8d05ad5412a",
      "metadata": {},
      "outputs": [],
      "source": [
        "Sometimes you want to check more than one condition at once. For example, you might want to check if one condition and another condition are both **True**. Logical operators allow you to combine or modify conditions.\n",
        "\n",
        "<ul>\n",
        "    <li><code>and</code></li>\n",
        "    <li><code>or</code></li>\n",
        "    <li><code>not</code></li>\n",
        "</ul>\n",
        "\n",
        "These operators are summarized for two variables using the following truth tables:\n"
      ]
    },
    {
      "cell_type": "markdown",
      "id": "5f3a6f5f-5338-4fcf-8410-a4fecafe87e0",
      "metadata": {},
      "outputs": [],
      "source": [
        "<img src=\"https://cf-courses-data.s3.us.cloud-object-storage.appdomain.cloud/IBMDeveloperSkillsNetwork-PY0101EN-SkillsNetwork/labs/Module%203/images/CondsTable.png\" width=\"650\">\n"
      ]
    },
    {
      "cell_type": "markdown",
      "id": "aec0d4d1-b643-4759-9a9e-3da1fbb623cb",
      "metadata": {},
      "outputs": [],
      "source": [
        "The <code>and</code> statement is only **True** when both conditions are true. The <code>or</code> statement is True if one condition, or both are **True**. The <code>not</code> statement outputs the opposite truth value.\n"
      ]
    },
    {
      "cell_type": "markdown",
      "id": "3b74010f-eb4d-41bd-a311-466f5bf35ad3",
      "metadata": {},
      "outputs": [],
      "source": [
        "Let's see how to determine if an album was released after 1979 (1979 is not included) and before 1990 (1990 is not included). The time periods between 1980 and 1989 satisfy this condition. This is demonstrated in the figure below. The green on lines <strong>a</strong> and <strong>b</strong> represents periods where the statement is **True**. The green on line <strong>c</strong> represents where both conditions are **True**, this corresponds to where the green regions overlap.\n"
      ]
    },
    {
      "cell_type": "markdown",
      "id": "356ad2c6-fd63-4391-9904-e4537374b3e9",
      "metadata": {},
      "outputs": [],
      "source": [
        "<img src=\"https://cf-courses-data.s3.us.cloud-object-storage.appdomain.cloud/IBMDeveloperSkillsNetwork-PY0101EN-SkillsNetwork/labs/Module%203/images/CondsEgOne.png\" width=\"650\">\n"
      ]
    },
    {
      "cell_type": "markdown",
      "id": "551a00c8-51f9-448e-bfe2-02b81aa8224f",
      "metadata": {},
      "outputs": [],
      "source": [
        "The block of code to perform this check is given by:\n"
      ]
    },
    {
      "cell_type": "code",
      "id": "5bc0e69f-b672-4617-81e7-7ad7560edf48",
      "metadata": {},
      "outputs": [],
      "source": [
        "# Condition statement example\n\nalbum_year = 1980\n\nif(album_year > 1979) and (album_year < 1990):\n    print (\"Album year was in between 1980 and 1989\")\n    \nprint(\"\")\nprint(\"Do Stuff..\")"
      ]
    },
    {
      "cell_type": "markdown",
      "id": "0165ef12-d73f-4bb9-a643-a26a421d7d1e",
      "metadata": {},
      "outputs": [],
      "source": [
        "To determine if an album was released before 1980 (1979 and earlier) or after 1989 (1990 and onward ), an or statement can be used. Periods before 1980 (1979 and earlier) or after 1989 (1990 and onward) satisfy this condition. This is demonstrated in the following figure, the color green in <strong>a</strong> and <strong>b</strong> represents periods where the statement is true. The color green in **c** represents where at least one of the conditions\n",
        "are true.\n"
      ]
    },
    {
      "cell_type": "markdown",
      "id": "8b34dd14-a7db-4d29-94ff-d21b68212a61",
      "metadata": {},
      "outputs": [],
      "source": [
        "<img src=\"https://cf-courses-data.s3.us.cloud-object-storage.appdomain.cloud/IBMDeveloperSkillsNetwork-PY0101EN-SkillsNetwork/labs/Module%203/images/CondsEgTwo.png\" width=\"650\">\n"
      ]
    },
    {
      "cell_type": "markdown",
      "id": "0cfb8971-1939-4798-b3be-255d2531f660",
      "metadata": {},
      "outputs": [],
      "source": [
        "The block of code to perform this check is given by:\n"
      ]
    },
    {
      "cell_type": "code",
      "id": "7b0c4126-394b-4f77-a7a2-3cf86b64c069",
      "metadata": {},
      "outputs": [],
      "source": [
        "# Condition statement example\n\nalbum_year = 1990\n\nif(album_year < 1980) or (album_year > 1989):\n    print (\"Album was not made in the 1980's\")\nelse:\n    print(\"The Album was made in the 1980's \")"
      ]
    },
    {
      "cell_type": "markdown",
      "id": "9104a9d5-870b-4e67-a69b-475012f6aff8",
      "metadata": {},
      "outputs": [],
      "source": [
        "The <code>not</code> statement checks if the statement is false:\n"
      ]
    },
    {
      "cell_type": "code",
      "id": "0006c570-b62f-4aeb-9e84-4f3ac4bc0ace",
      "metadata": {},
      "outputs": [],
      "source": [
        "# Condition statement example\n\nalbum_year = 1983\n\nif not (album_year == 1984):\n    print (\"Album year is not 1984\")"
      ]
    },
    {
      "cell_type": "markdown",
      "id": "61aa6f57-21f9-4723-938d-88e5e480273d",
      "metadata": {},
      "outputs": [],
      "source": [
        "<hr>\n"
      ]
    },
    {
      "cell_type": "markdown",
      "id": "eb395803-30d2-4185-a268-37671d6633fe",
      "metadata": {},
      "outputs": [],
      "source": [
        "<h2 id=\"quiz\">Quiz on Conditions</h2>\n"
      ]
    },
    {
      "cell_type": "markdown",
      "id": "16d569fd-de8c-48e6-9dc3-00d75a2b93bd",
      "metadata": {},
      "outputs": [],
      "source": [
        "Write an if statement to determine if an album had a rating greater than 8. Test it using the rating for the album <b>“Back in Black”</b> that had a rating of 8.5. If the statement is true print \"This album is Amazing!\"\n"
      ]
    },
    {
      "cell_type": "code",
      "id": "430dfed1-430e-484f-a53f-00ceac0f1034",
      "metadata": {},
      "outputs": [],
      "source": [
        "# Write your code below and press Shift+Enter to execute\n"
      ]
    },
    {
      "cell_type": "markdown",
      "id": "6ee751ca-359b-4ad9-9740-8763527616e5",
      "metadata": {},
      "outputs": [],
      "source": [
        "<details><summary>Click here for the solution</summary>\n",
        "\n",
        "```python\n",
        "rating = 8.5\n",
        "if rating > 8:\n",
        "    print (\"This album is Amazing!\")\n",
        "```\n",
        "\n",
        "</details>\n"
      ]
    },
    {
      "cell_type": "markdown",
      "id": "84441c8d-9b81-42f6-bf2c-d42972237251",
      "metadata": {},
      "outputs": [],
      "source": [
        "<hr>\n"
      ]
    },
    {
      "cell_type": "markdown",
      "id": "9e84efe8-8e06-4b01-84ca-a8750dbaa658",
      "metadata": {},
      "outputs": [],
      "source": [
        "Write an if-else statement that performs the following. If the rating is larger then eight print “this album is amazing”. If the rating is less than or equal to 8 print “this album is ok”.\n"
      ]
    },
    {
      "cell_type": "code",
      "id": "98e24a0e-b5a6-437c-8997-1937bd2d88e5",
      "metadata": {},
      "outputs": [],
      "source": [
        "# Write your code below and press Shift+Enter to execute\n"
      ]
    },
    {
      "cell_type": "markdown",
      "id": "703c266e-1539-4e18-8d06-fde37e6ac0a9",
      "metadata": {},
      "outputs": [],
      "source": [
        "<details><summary>Click here for the solution</summary>\n",
        "\n",
        "```python\n",
        "rating = 8.5\n",
        "if rating > 8:\n",
        "    print (\"this album is amazing\")\n",
        "else:\n",
        "    print (\"this album is ok\")\n",
        "    \n",
        "```\n",
        "\n",
        "</details>\n"
      ]
    },
    {
      "cell_type": "markdown",
      "id": "0bf1fe27-7c95-427d-9c69-d3cf28e6ab3e",
      "metadata": {},
      "outputs": [],
      "source": [
        "<hr>\n"
      ]
    },
    {
      "cell_type": "markdown",
      "id": "720c82d7-2eff-4195-bcea-284a91a5ae5c",
      "metadata": {},
      "outputs": [],
      "source": [
        "Write an if statement to determine if an album came out before 1980 or in the years: 1991 or 1993. If the condition is true print out the year the album came out.\n"
      ]
    },
    {
      "cell_type": "code",
      "id": "e66c3328-f9f7-4023-95bc-cca91d4f94c6",
      "metadata": {},
      "outputs": [],
      "source": [
        "# Write your code below and press Shift+Enter to execute\n"
      ]
    },
    {
      "cell_type": "markdown",
      "id": "04ee62ba-4981-4176-a9c0-b4972a279613",
      "metadata": {},
      "outputs": [],
      "source": [
        "<details><summary>Click here for the solution</summary>\n",
        "\n",
        "```python\n",
        "album_year = 1979\n",
        "\n",
        "if album_year < 1980 or album_year == 1991 or album_year == 1993:\n",
        "    print(\"This album came out in year\", album_year)\n",
        "    \n",
        "```\n",
        "\n",
        "</details>\n"
      ]
    },
    {
      "cell_type": "markdown",
      "id": "7cf27d83-0d41-47dd-8204-e8c32459689e",
      "metadata": {},
      "outputs": [],
      "source": [
        "<hr>\n",
        "<h2>The last exercise!</h2>\n",
        "<p>Congratulations, you have completed your first lesson and hands-on lab in Python. \n",
        "<hr>\n"
      ]
    },
    {
      "cell_type": "markdown",
      "id": "bef71460-3885-430e-96ca-f8ab4924cb18",
      "metadata": {},
      "outputs": [],
      "source": [
        "## Author\n",
        "\n",
        "<a href=\"https://www.linkedin.com/in/joseph-s-50398b136/?utm_medium=Exinfluencer&utm_source=Exinfluencer&utm_content=000026UJ&utm_term=10006555&utm_id=NA-SkillsNetwork-Channel-SkillsNetworkCoursesIBMDeveloperSkillsNetworkPY0101ENSkillsNetwork19487395-2021-01-01\">Joseph Santarcangelo</a>\n",
        "\n",
        "## Other contributors\n",
        "\n",
        "<a href=\"https://www.linkedin.com/in/jiahui-mavis-zhou-a4537814a?utm_medium=Exinfluencer&utm_source=Exinfluencer&utm_content=000026UJ&utm_term=10006555&utm_id=NA-SkillsNetwork-Channel-SkillsNetworkCoursesIBMDeveloperSkillsNetworkPY0101ENSkillsNetwork19487395-2021-01-01\">Mavis Zhou</a>\n",
        "\n",
        "## Change Log\n",
        "\n",
        "| Date (YYYY-MM-DD) | Version | Changed By | Change Description |\n",
        "| ----------------- | ------- | ---------- | ------------------ |\n",
        "| 2022-01-10  | 2.1  | Malika  | Removed the readme for GitShare| \n",
        "| 2020-08-26  | 2.0  | Lavanya | Moved lab to course repo in GitLab |\n",
        "\n",
        "<hr/>\n",
        "\n",
        "## <h3 align=\"center\"> © IBM Corporation 2020. All rights reserved. <h3/>\n"
      ]
    },
    {
      "cell_type": "code",
      "id": "b18d235f-8625-4ec6-8683-09bd5e28c9a2",
      "metadata": {},
      "outputs": [],
      "source": [
        ""
      ]
    }
  ],
  "metadata": {
    "kernelspec": {
      "display_name": "Python",
      "language": "python",
      "name": "conda-env-python-py"
    },
    "language_info": {
      "name": ""
    }
  },
  "nbformat": 4,
  "nbformat_minor": 4
}