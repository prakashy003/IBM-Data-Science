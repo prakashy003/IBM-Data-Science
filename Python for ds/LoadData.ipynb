{
  "cells": [
    {
      "cell_type": "markdown",
      "id": "0f13c12b-b1c7-4477-81aa-af0494ba0d37",
      "metadata": {},
      "outputs": [],
      "source": [
        "<center>\n",
        "    <img src=\"https://cf-courses-data.s3.us.cloud-object-storage.appdomain.cloud/IBMDeveloperSkillsNetwork-PY0101EN-SkillsNetwork/IDSNlogo.png\" width=\"300\" alt=\"cognitiveclass.ai logo\">\n",
        "</center>\n",
        "\n",
        "# Introduction to Pandas in Python\n",
        "\n",
        "Estimated time needed: **15** minutes\n",
        "\n",
        "## Objectives\n",
        "\n",
        "After completing this lab you will be able to:\n",
        "\n",
        "*   Use Pandas to access and view data\n"
      ]
    },
    {
      "cell_type": "markdown",
      "id": "b2ca1d1a-815b-4589-a114-3f18f457727e",
      "metadata": {},
      "outputs": [],
      "source": [
        "<h2>Table of Contents</h2>\n",
        "<div class=\"alert alert-block alert-info\" style=\"margin-top: 20px\">\n",
        "    <ul>\n",
        "        <li><a href=\"https://https://data/?utm_medium=Exinfluencer&utm_source=Exinfluencer&utm_content=000026UJ&utm_term=10006555&utm_id=NA-SkillsNetwork-Channel-SkillsNetworkCoursesIBMDeveloperSkillsNetworkPY0101ENSkillsNetwork19487395-2021-01-01set/?utm_medium=Exinfluencer&utm_source=Exinfluencer&utm_content=000026UJ&utm_term=10006555&utm_id=NA-SkillsNetwork-Channel-SkillsNetworkCoursesIBMDeveloperSkillsNetworkPY0101ENSkillsNetwork19487395-2021-01-01\">About the Dataset</a></li>\n",
        "        <li><a href=\"https://pandas/?utm_medium=Exinfluencer&utm_source=Exinfluencer&utm_content=000026UJ&utm_term=10006555&utm_id=NA-SkillsNetwork-Channel-SkillsNetworkCoursesIBMDeveloperSkillsNetworkPY0101ENSkillsNetwork19487395-2021-01-01\">Introduction of <code>Pandas</code></a></li>\n",
        "        <li><a href=\"data\">Viewing Data and Accessing Data</a></li>\n",
        "        <li><a href=\"https://quiz/?utm_medium=Exinfluencer&utm_source=Exinfluencer&utm_content=000026UJ&utm_term=10006555&utm_id=NA-SkillsNetwork-Channel-SkillsNetworkCoursesIBMDeveloperSkillsNetworkPY0101ENSkillsNetwork19487395-2021-01-01\">Quiz on DataFrame</a></li>\n",
        "    </ul>\n",
        "\n",
        "</div>\n",
        "\n",
        "<hr>\n"
      ]
    },
    {
      "cell_type": "markdown",
      "id": "6cb8ca09-6390-40a7-927a-f15299b14aa1",
      "metadata": {},
      "outputs": [],
      "source": [
        "<h2 id=\"dataset\">About the Dataset</h2>\n"
      ]
    },
    {
      "cell_type": "markdown",
      "id": "2152d22c-cee6-4d98-88db-fb6a0b0a68f4",
      "metadata": {},
      "outputs": [],
      "source": [
        "The table has one row for each album and several columns.\n",
        "\n",
        "<ul>\n",
        "    <li><b>artist</b>: Name of the artist</li>\n",
        "    <li><b>album</b>: Name of the album</li>\n",
        "    <li><b>released_year</b>: Year the album was released</li>\n",
        "    <li><b>length_min_sec</b>: Length of the album (hours,minutes,seconds)</li>\n",
        "    <li><b>genre</b>: Genre of the album</li>\n",
        "    <li><b>music_recording_sales_millions</b>: Music recording sales (millions in USD) on <a href=\"http://www.song-database.com/?utm_medium=Exinfluencer&utm_source=Exinfluencer&utm_content=000026UJ&utm_term=10006555&utm_id=NA-SkillsNetwork-Channel-SkillsNetworkCoursesIBMDeveloperSkillsNetworkPY0101ENSkillsNetwork19487395-2021-01-01\">[SONG://DATABASE]</a></li>\n",
        "    <li><b>claimed_sales_millions</b>: Album's claimed sales (millions in USD) on <a href=\"http://www.song-database.com/?utm_medium=Exinfluencer&utm_source=Exinfluencer&utm_content=000026UJ&utm_term=10006555&utm_id=NA-SkillsNetwork-Channel-SkillsNetworkCoursesIBMDeveloperSkillsNetworkPY0101ENSkillsNetwork1005-2023-01-01\">[SONG://DATABASE]</a></li>\n",
        "    <li><b>date_released</b>: Date on which the album was released</li>\n",
        "    <li><b>soundtrack</b>: Indicates if the album is the movie soundtrack (Y) or (N)</li>\n",
        "    <li><b>rating_of_friends</b>: Indicates the rating from your friends from 1 to 10</li>\n",
        "</ul>\n",
        "\n",
        "You can see the dataset here:\n",
        "\n",
        "<font size=\"1\">\n",
        "<table font-size:xx-small>\n",
        "  <tr>\n",
        "    <th>Artist</th>\n",
        "    <th>Album</th> \n",
        "    <th>Released</th>\n",
        "    <th>Length</th>\n",
        "    <th>Genre</th> \n",
        "    <th>Music recording sales (millions)</th>\n",
        "    <th>Claimed sales (millions)</th>\n",
        "    <th>Released</th>\n",
        "    <th>Soundtrack</th>\n",
        "    <th>Rating (friends)</th>\n",
        "  </tr>\n",
        "  <tr>\n",
        "    <td>Michael Jackson</td>\n",
        "    <td>Thriller</td> \n",
        "    <td>1982</td>\n",
        "    <td>00:42:19</td>\n",
        "    <td>Pop, rock, R&B</td>\n",
        "    <td>46</td>\n",
        "    <td>65</td>\n",
        "    <td>30-Nov-82</td>\n",
        "    <td></td>\n",
        "    <td>10.0</td>\n",
        "  </tr>\n",
        "  <tr>\n",
        "    <td>AC/DC</td>\n",
        "    <td>Back in Black</td> \n",
        "    <td>1980</td>\n",
        "    <td>00:42:11</td>\n",
        "    <td>Hard rock</td>\n",
        "    <td>26.1</td>\n",
        "    <td>50</td>\n",
        "    <td>25-Jul-80</td>\n",
        "    <td></td>\n",
        "    <td>8.5</td>\n",
        "  </tr>\n",
        "    <tr>\n",
        "    <td>Pink Floyd</td>\n",
        "    <td>The Dark Side of the Moon</td> \n",
        "    <td>1973</td>\n",
        "    <td>00:42:49</td>\n",
        "    <td>Progressive rock</td>\n",
        "    <td>24.2</td>\n",
        "    <td>45</td>\n",
        "    <td>01-Mar-73</td>\n",
        "    <td></td>\n",
        "    <td>9.5</td>\n",
        "  </tr>\n",
        "    <tr>\n",
        "    <td>Whitney Houston</td>\n",
        "    <td>The Bodyguard</td> \n",
        "    <td>1992</td>\n",
        "    <td>00:57:44</td>\n",
        "    <td>Soundtrack/R&B, soul, pop</td>\n",
        "    <td>26.1</td>\n",
        "    <td>50</td>\n",
        "    <td>25-Jul-80</td>\n",
        "    <td>Y</td>\n",
        "    <td>7.0</td>\n",
        "  </tr>\n",
        "    <tr>\n",
        "    <td>Meat Loaf</td>\n",
        "    <td>Bat Out of Hell</td> \n",
        "    <td>1977</td>\n",
        "    <td>00:46:33</td>\n",
        "    <td>Hard rock, progressive rock</td>\n",
        "    <td>20.6</td>\n",
        "    <td>43</td>\n",
        "    <td>21-Oct-77</td>\n",
        "    <td></td>\n",
        "    <td>7.0</td>\n",
        "  </tr>\n",
        "    <tr>\n",
        "    <td>Eagles</td>\n",
        "    <td>Their Greatest Hits (1971-1975)</td> \n",
        "    <td>1976</td>\n",
        "    <td>00:43:08</td>\n",
        "    <td>Rock, soft rock, folk rock</td>\n",
        "    <td>32.2</td>\n",
        "    <td>42</td>\n",
        "    <td>17-Feb-76</td>\n",
        "    <td></td>\n",
        "    <td>9.5</td>\n",
        "  </tr>\n",
        "    <tr>\n",
        "    <td>Bee Gees</td>\n",
        "    <td>Saturday Night Fever</td> \n",
        "    <td>1977</td>\n",
        "    <td>1:15:54</td>\n",
        "    <td>Disco</td>\n",
        "    <td>20.6</td>\n",
        "    <td>40</td>\n",
        "    <td>15-Nov-77</td>\n",
        "    <td>Y</td>\n",
        "    <td>9.0</td>\n",
        "  </tr>\n",
        "    <tr>\n",
        "    <td>Fleetwood Mac</td>\n",
        "    <td>Rumours</td> \n",
        "    <td>1977</td>\n",
        "    <td>00:40:01</td>\n",
        "    <td>Soft rock</td>\n",
        "    <td>27.9</td>\n",
        "    <td>40</td>\n",
        "    <td>04-Feb-77</td>\n",
        "    <td></td>\n",
        "    <td>9.5</td>\n",
        "  </tr>\n",
        "</table></font>\n"
      ]
    },
    {
      "cell_type": "markdown",
      "id": "5180dfc1-d91c-43c9-b1f0-220ed8b6a58a",
      "metadata": {},
      "outputs": [],
      "source": [
        "<hr>\n"
      ]
    },
    {
      "cell_type": "markdown",
      "id": "7a7d840d-c847-4bbb-ad69-1fabb243d033",
      "metadata": {},
      "outputs": [],
      "source": [
        "<h2 id=\"pandas\">Introduction of <code>Pandas</code></h2>\n"
      ]
    },
    {
      "cell_type": "code",
      "id": "5e902d47-61df-44dc-a150-1f19bd34c625",
      "metadata": {},
      "outputs": [],
      "source": [
        "# Dependency needed to install file \n\n# If running the notebook on your machine, else leave it commented\n#!pip install xlrd\n\n#!pip install openpyxl \nimport piplite\nawait piplite.install(['xlrd','openpyxl'])"
      ]
    },
    {
      "cell_type": "code",
      "id": "47e11b4d-1c3c-4379-92b2-78568d3ed21f",
      "metadata": {},
      "outputs": [],
      "source": [
        "# Import required library\n\nimport pandas as pd"
      ]
    },
    {
      "cell_type": "markdown",
      "id": "9c281d45-f450-4fc5-b6c1-1a13c687bf5f",
      "metadata": {},
      "outputs": [],
      "source": [
        "After the import command, we now have access to a large number of pre-built classes and functions. This assumes the library is installed; in our lab environment all the necessary libraries are installed. One way pandas allows you to work with data is a dataframe. Let's go through the process to go from a comma separated values (<b>.csv</b>) file to a dataframe. This variable <code>csv_path</code> stores the path of the <b>.csv</b>, that is  used as an argument to the <code>read_csv</code> function. The result is stored in the object <code>df</code>, this is a common short form used for a variable referring to a Pandas dataframe.\n"
      ]
    },
    {
      "cell_type": "code",
      "id": "880cd605-2bca-48e3-9f6a-3c2d681accef",
      "metadata": {},
      "outputs": [],
      "source": [
        "# Read data from CSV file\n\n# csv_path = 'https://cf-courses-data.s3.us.cloud-object-storage.appdomain.cloud/IBMDeveloperSkillsNetwork-PY0101EN-SkillsNetwork/labs/Module%204/data/TopSellingAlbums.csv'\n# df = pd.read_csv(csv_path)\n\nfrom pyodide.http import pyfetch\nimport pandas as pd\n\nfilename = \"https://cf-courses-data.s3.us.cloud-object-storage.appdomain.cloud/IBMDeveloperSkillsNetwork-PY0101EN-SkillsNetwork/labs/Module%204/data/TopSellingAlbums.csv\"\n\nasync def download(url, filename):\n    response = await pyfetch(url)\n    if response.status == 200:\n        with open(filename, \"wb\") as f:\n            f.write(await response.bytes())\n\n\nawait download(filename, \"TopSellingAlbums.csv\")\ndf = pd.read_csv(\"TopSellingAlbums.csv\")"
      ]
    },
    {
      "cell_type": "markdown",
      "id": "406d0630-51ea-49ab-a4f8-657371eee575",
      "metadata": {},
      "outputs": [],
      "source": [
        "We can use the method <code>head()</code> to examine the first five rows of a dataframe:\n"
      ]
    },
    {
      "cell_type": "code",
      "id": "276d1372-b6f1-4d5b-9708-8f7c8cfa909c",
      "metadata": {},
      "outputs": [],
      "source": [
        "# Print first five rows of the dataframe\n\ndf.head()"
      ]
    },
    {
      "cell_type": "markdown",
      "id": "aa12dd02-5c30-4d5d-b1dc-4a193ee85c34",
      "metadata": {},
      "outputs": [],
      "source": [
        "We use the path of the excel file and the function <code>read_excel</code>. The result is a data frame as before:\n"
      ]
    },
    {
      "cell_type": "code",
      "id": "82a36228-7cfe-49e3-96fc-58e83fe14431",
      "metadata": {},
      "outputs": [],
      "source": [
        "# Read data from Excel File and print the first five rows\n\nxlsx_path = 'https://s3-api.us-geo.objectstorage.softlayer.net/cf-courses-data/CognitiveClass/PY0101EN/Chapter%204/Datasets/TopSellingAlbums.xlsx'\n\nawait download(xlsx_path, \"TopSellingAlbums.xlsx\")\ndf = pd.read_excel(\"TopSellingAlbums.xlsx\")\ndf.head()"
      ]
    },
    {
      "cell_type": "markdown",
      "id": "ff0c9247-782d-4294-bfa7-68305088dd4c",
      "metadata": {},
      "outputs": [],
      "source": [
        "We can access the column <b>Length</b> and assign it a new dataframe <b>x</b>:\n"
      ]
    },
    {
      "cell_type": "code",
      "id": "0ef2846c-ede8-48d4-8b83-66a06f75164d",
      "metadata": {},
      "outputs": [],
      "source": [
        "# Access to the column Length\n\nx = df[['Length']]\nx"
      ]
    },
    {
      "cell_type": "markdown",
      "id": "26df91ab-5ab7-4de4-9b56-00949930911d",
      "metadata": {},
      "outputs": [],
      "source": [
        "The process is shown in the figure:\n"
      ]
    },
    {
      "cell_type": "markdown",
      "id": "7b13893b-f8e0-4fa5-8baa-8bc97bf4452b",
      "metadata": {},
      "outputs": [],
      "source": [
        "<img src=\"https://cf-courses-data.s3.us.cloud-object-storage.appdomain.cloud/IBMDeveloperSkillsNetwork-PY0101EN-SkillsNetwork/labs/Module%204/images/DataEgOne.png\" width=\"750\">\n"
      ]
    },
    {
      "cell_type": "markdown",
      "id": "b6d8fea8-f7b5-4b94-acb5-9cecf3979bd2",
      "metadata": {},
      "outputs": [],
      "source": [
        "<hr>\n"
      ]
    },
    {
      "cell_type": "markdown",
      "id": "d9e14070-6f08-4c37-9b77-c24349faad57",
      "metadata": {},
      "outputs": [],
      "source": [
        "<h2 id=\"data\">Viewing Data and Accessing Data</h2>\n"
      ]
    },
    {
      "cell_type": "markdown",
      "id": "48b80189-cfc3-4c29-ad38-bd4a1fd5e4ec",
      "metadata": {},
      "outputs": [],
      "source": [
        "You can also get a column as a series. You can think of a Pandas series as a 1-D dataframe. Just use one bracket:\n"
      ]
    },
    {
      "cell_type": "code",
      "id": "e1977db3-2fb4-4ae0-8374-8533097627c5",
      "metadata": {},
      "outputs": [],
      "source": [
        "# Get the column as a series\n\nx = df['Length']\nx"
      ]
    },
    {
      "cell_type": "markdown",
      "id": "f009950b-2c74-4cdb-a280-c554b0b252a1",
      "metadata": {},
      "outputs": [],
      "source": [
        "You can also get a column as a dataframe. For example, we can assign the column <b>Artist</b>:\n"
      ]
    },
    {
      "cell_type": "code",
      "id": "a1c51833-483c-4831-9d85-3806efd21b1b",
      "metadata": {},
      "outputs": [],
      "source": [
        "# Get the column as a dataframe\n\nx = df[['Artist']]\ntype(x)"
      ]
    },
    {
      "cell_type": "markdown",
      "id": "cf65ebec-ed4b-4227-b184-a052e3b3f223",
      "metadata": {},
      "outputs": [],
      "source": [
        "You can do the same thing for multiple columns; we just put the dataframe name, in this case, <code>df</code>, and the name of the multiple column headers enclosed in double brackets. The result is a new dataframe comprised of the specified columns:\n"
      ]
    },
    {
      "cell_type": "code",
      "id": "ad33b616-1b84-46cb-be6b-f960adf0da0a",
      "metadata": {},
      "outputs": [],
      "source": [
        "# Access to multiple columns\n\ny = df[['Artist','Length','Genre']]\ny"
      ]
    },
    {
      "cell_type": "markdown",
      "id": "51e600f3-add9-4371-9c1e-2eb15c4f8058",
      "metadata": {},
      "outputs": [],
      "source": [
        "The process is shown in the figure:\n"
      ]
    },
    {
      "cell_type": "markdown",
      "id": "b236a9c4-f419-44d0-8910-4d79e442749c",
      "metadata": {},
      "outputs": [],
      "source": [
        "<img src=\"https://cf-courses-data.s3.us.cloud-object-storage.appdomain.cloud/IBMDeveloperSkillsNetwork-PY0101EN-SkillsNetwork/labs/Module%204/images/DataEgTwo.png\" width=\"1100\">\n"
      ]
    },
    {
      "cell_type": "markdown",
      "id": "f1f2d043-0563-4fce-8270-d14f4884b9c2",
      "metadata": {},
      "outputs": [],
      "source": [
        "One way to access unique elements is the <code>iloc</code> method, where you can access the 1st row and the 1st column as follows:\n"
      ]
    },
    {
      "cell_type": "code",
      "id": "4b8a3ed0-1251-4b75-a181-3f08dccb5248",
      "metadata": {},
      "outputs": [],
      "source": [
        "# Access the value on the first row and the first column\n\ndf.iloc[0, 0]"
      ]
    },
    {
      "cell_type": "markdown",
      "id": "870c3790-6654-47bc-98c6-7e5ff5241de1",
      "metadata": {},
      "outputs": [],
      "source": [
        "You can access the 2nd row and the 1st column as follows:\n"
      ]
    },
    {
      "cell_type": "code",
      "id": "eafb8b34-0960-4745-b570-57104b45a9b0",
      "metadata": {},
      "outputs": [],
      "source": [
        "# Access the value on the second row and the first column\n\ndf.iloc[1,0]"
      ]
    },
    {
      "cell_type": "markdown",
      "id": "0451f76d-2f25-4d14-8103-e3c8148c08b8",
      "metadata": {},
      "outputs": [],
      "source": [
        "You can access the 1st row and the 3rd column as follows:\n"
      ]
    },
    {
      "cell_type": "code",
      "id": "7f4bf744-1126-4458-b747-e582f680f980",
      "metadata": {},
      "outputs": [],
      "source": [
        "# Access the value on the first row and the third column\n\ndf.iloc[0,2]"
      ]
    },
    {
      "cell_type": "code",
      "id": "6d3d66ee-e17b-438e-8acf-f837a0bf43b5",
      "metadata": {},
      "outputs": [],
      "source": [
        "# Access the value on the second row and the third column\ndf.iloc[1,2]"
      ]
    },
    {
      "cell_type": "code",
      "id": "064f9e31-71ae-4c60-9d43-2b9e53891c73",
      "metadata": {},
      "outputs": [],
      "source": [
        ""
      ]
    },
    {
      "cell_type": "markdown",
      "id": "0218f806-346e-4fb5-b59a-8f546a96866d",
      "metadata": {},
      "outputs": [],
      "source": [
        "This is shown in the following image\n"
      ]
    },
    {
      "cell_type": "markdown",
      "id": "8b332682-1fa0-4fac-87c7-f5747e2ad85e",
      "metadata": {},
      "outputs": [],
      "source": [
        "<img src=\"https://cf-courses-data.s3.us.cloud-object-storage.appdomain.cloud/IBMDeveloperSkillsNetwork-PY0101EN-SkillsNetwork/labs/Module%204/images/2_loc.PNG\" width=\"750\">\n"
      ]
    },
    {
      "cell_type": "markdown",
      "id": "b6885a90-2ade-4812-9483-833422670711",
      "metadata": {},
      "outputs": [],
      "source": [
        "You can access the column using the name as well, the following are the same as above:\n"
      ]
    },
    {
      "cell_type": "code",
      "id": "349f1b01-0481-4db2-8335-7a381351c46e",
      "metadata": {},
      "outputs": [],
      "source": [
        "# Access the column using the name\n\ndf.loc[1, 'Artist']"
      ]
    },
    {
      "cell_type": "code",
      "id": "6f8f859b-1885-405b-904d-3a870517fba0",
      "metadata": {},
      "outputs": [],
      "source": [
        "# Access the column using the name\n\ndf.loc[1, 'Artist']"
      ]
    },
    {
      "cell_type": "code",
      "id": "685eb127-e9ff-4f8b-a00a-03ab64eff60d",
      "metadata": {},
      "outputs": [],
      "source": [
        "# Access the column using the name\n\ndf.loc[0, 'Released']"
      ]
    },
    {
      "cell_type": "code",
      "id": "228084dc-f96c-431e-9caa-bd14b05a55bf",
      "metadata": {},
      "outputs": [],
      "source": [
        "# Access the column using the name\n\ndf.loc[1, 'Released']"
      ]
    },
    {
      "cell_type": "markdown",
      "id": "c0ec81d2-07d4-40c6-b6f8-e63d82bdabc4",
      "metadata": {},
      "outputs": [],
      "source": [
        "<img src=\"https://cf-courses-data.s3.us.cloud-object-storage.appdomain.cloud/IBMDeveloperSkillsNetwork-PY0101EN-SkillsNetwork/labs/Module%204/images/1_loc.png\" width=\"750\">\n"
      ]
    },
    {
      "cell_type": "markdown",
      "id": "3ad79d4e-f8fc-4e56-a271-06683ddeff1c",
      "metadata": {},
      "outputs": [],
      "source": [
        "You can perform slicing using both the index and the name of the column:\n"
      ]
    },
    {
      "cell_type": "code",
      "id": "5813fd21-f7f1-4c41-a9c2-933b551490e9",
      "metadata": {},
      "outputs": [],
      "source": [
        "# Slicing the dataframe\n\ndf.iloc[0:2, 0:3]"
      ]
    },
    {
      "cell_type": "markdown",
      "id": "2b5d9ed3-38dd-4191-b5a2-97dd50e5544e",
      "metadata": {},
      "outputs": [],
      "source": [
        "<img src=\"https://cf-courses-data.s3.us.cloud-object-storage.appdomain.cloud/IBMDeveloperSkillsNetwork-PY0101EN-SkillsNetwork/labs/Module%204/images/4_loc.png\" width=\"750\">\n"
      ]
    },
    {
      "cell_type": "code",
      "id": "4c08eca8-8ec6-4f30-9e54-8232cf1da0ed",
      "metadata": {},
      "outputs": [],
      "source": [
        "# Slicing the dataframe using name\n\ndf.loc[0:2, 'Artist':'Released']"
      ]
    },
    {
      "cell_type": "markdown",
      "id": "014ea298-b6d4-461c-8a88-a632cb8cc342",
      "metadata": {},
      "outputs": [],
      "source": [
        "<img src=\"https://cf-courses-data.s3.us.cloud-object-storage.appdomain.cloud/IBMDeveloperSkillsNetwork-PY0101EN-SkillsNetwork/labs/Module%204/images/3_loc.png\" width=\"750\">\n"
      ]
    },
    {
      "cell_type": "markdown",
      "id": "a51e80ad-51b0-45e6-a758-3ce4e000371f",
      "metadata": {},
      "outputs": [],
      "source": [
        "<hr>\n"
      ]
    },
    {
      "cell_type": "markdown",
      "id": "e142997e-bc65-4043-b066-1137b9e10322",
      "metadata": {},
      "outputs": [],
      "source": [
        "<h2 id=\"quiz\">Quiz on DataFrame</h2>\n"
      ]
    },
    {
      "cell_type": "markdown",
      "id": "deb2dc9f-f125-4423-b33a-cc8a5c62452a",
      "metadata": {},
      "outputs": [],
      "source": [
        "Use a variable <code>q</code> to store the column <b>Rating</b> as a dataframe\n"
      ]
    },
    {
      "cell_type": "code",
      "id": "b8c2846e-af3e-4365-a50b-b7478b9d5c40",
      "metadata": {},
      "outputs": [],
      "source": [
        "# Write your code below and press Shift+Enter to execute\n"
      ]
    },
    {
      "cell_type": "markdown",
      "id": "24e46ad4-9e34-49d9-8764-8b96caef82ad",
      "metadata": {},
      "outputs": [],
      "source": [
        "<details><summary>Click here for the solution</summary>\n",
        "\n",
        "```python\n",
        "q = df[['Rating']]\n",
        "q\n",
        "    \n",
        "```\n",
        "\n",
        "</details>\n"
      ]
    },
    {
      "cell_type": "markdown",
      "id": "b2a7a47a-9e7b-4fc5-bd7a-9bc216e6d7c3",
      "metadata": {},
      "outputs": [],
      "source": [
        "Assign the variable <code>q</code> to the dataframe that is made up of the column <b>Released</b> and <b>Artist</b>:\n"
      ]
    },
    {
      "cell_type": "code",
      "id": "95556835-5b38-498d-bf60-3cc382baaedb",
      "metadata": {},
      "outputs": [],
      "source": [
        "# Write your code below and press Shift+Enter to execute\n"
      ]
    },
    {
      "cell_type": "markdown",
      "id": "6ddd2117-0253-42bf-8f82-4cf319ff43f4",
      "metadata": {},
      "outputs": [],
      "source": [
        "<details><summary>Click here for the solution</summary>\n",
        "\n",
        "```python\n",
        "q = df[['Released', 'Artist']]\n",
        "q\n",
        "    \n",
        "```\n",
        "\n",
        "</details>\n"
      ]
    },
    {
      "cell_type": "markdown",
      "id": "426071ca-22ec-4766-846a-67f445c3b428",
      "metadata": {},
      "outputs": [],
      "source": [
        "Access the 2nd row and the 3rd column of <code>df</code>:\n"
      ]
    },
    {
      "cell_type": "code",
      "id": "bde661b8-a30d-45e1-91aa-be1137f90fe3",
      "metadata": {},
      "outputs": [],
      "source": [
        "# Write your code below and press Shift+Enter to execute\n"
      ]
    },
    {
      "cell_type": "markdown",
      "id": "3e53753d-7640-4e5a-99b7-631f9e953ce1",
      "metadata": {},
      "outputs": [],
      "source": [
        "<details><summary>Click here for the solution</summary>\n",
        "\n",
        "```python\n",
        "df.iloc[1, 2]\n",
        "    \n",
        "```\n",
        "\n",
        "</details>\n"
      ]
    },
    {
      "cell_type": "markdown",
      "id": "ddb26a89-d75d-4cde-a70a-746ca1489824",
      "metadata": {},
      "outputs": [],
      "source": [
        "Use the following list to convert the dataframe index <code>df</code> to characters and assign it to <code>df_new</code>; find the element corresponding to the row index <code>a</code> and column  <code>'Artist'</code>. Then select the rows <code>a</code> through <code>d</code> for the column  <code>'Artist'</code>\n"
      ]
    },
    {
      "cell_type": "code",
      "id": "6952614f-9eab-4eca-ad61-38c33f18129c",
      "metadata": {},
      "outputs": [],
      "source": [
        "new_index=['a','b','c','d','e','f','g','h']\n\n"
      ]
    },
    {
      "cell_type": "markdown",
      "id": "bda1b26d-32dd-4b40-99fd-126f332bc51a",
      "metadata": {},
      "outputs": [],
      "source": [
        "<details><summary>Click here for the solution</summary>\n",
        "\n",
        "```python\n",
        "df_new=df\n",
        "df_new.index=new_index\n",
        "df_new.loc['a', 'Artist']\n",
        "df_new.loc['a':'d', 'Artist']\n",
        "    \n",
        "```\n",
        "\n",
        "</details>\n"
      ]
    },
    {
      "cell_type": "markdown",
      "id": "b93d484c-6a13-446c-938d-23595acf0907",
      "metadata": {},
      "outputs": [],
      "source": [
        "<hr>\n",
        "<h2>The last exercise!</h2>\n",
        "<p>Congratulations, you have completed your first lesson and hands-on lab in Python. \n",
        "<hr>\n"
      ]
    },
    {
      "cell_type": "markdown",
      "id": "fc4c3dec-869c-4a77-be6c-9a0587f40db7",
      "metadata": {},
      "outputs": [],
      "source": [
        "## Authors:\n",
        "\n",
        "[Joseph Santarcangelo](https://www.linkedin.com/in/joseph-s-50398b136/?utm_medium=Exinfluencer&utm_source=Exinfluencer&utm_content=000026UJ&utm_term=10006555&utm_id=NA-SkillsNetwork-Channel-SkillsNetworkCoursesIBMDeveloperSkillsNetworkPY0101ENSkillsNetwork19487395-2021-01-01)\n",
        "\n",
        "Joseph Santarcangelo has a PhD in Electrical Engineering, his research focused on using machine learning, signal processing, and computer vision to determine how videos impact human cognition. Joseph has been working for IBM since he completed his PhD.\n",
        "\n",
        "## Change Log\n",
        "\n",
        "| Date (YYYY-MM-DD) | Version | Changed By | Change Description                 |\n",
        "| ----------------- | ------- | ---------- | ---------------------------------- |\n",
        "| 2022-01-10        | 2.1     | Malika     | Removed the readme for GitShare    |\n",
        "| 2020-08-26        | 2.0     | Lavanya    | Moved lab to course repo in GitLab |\n",
        "| 2020-11-24        | 3.0     | Nayef      | Added new images                   |\n",
        "|                   |         |            |                                    |\n",
        "\n",
        "<hr/>\n",
        "\n",
        "## <h3 align=\"center\"> © IBM Corporation 2020. All rights reserved. <h3/>\n"
      ]
    }
  ],
  "metadata": {
    "kernelspec": {
      "display_name": "Python",
      "language": "python",
      "name": "conda-env-python-py"
    },
    "language_info": {
      "name": ""
    }
  },
  "nbformat": 4,
  "nbformat_minor": 4
}